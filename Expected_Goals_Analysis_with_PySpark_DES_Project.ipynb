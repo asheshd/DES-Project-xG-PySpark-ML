{
  "cells": [
    {
      "cell_type": "markdown",
      "metadata": {
        "id": "view-in-github",
        "colab_type": "text"
      },
      "source": [
        "<a href=\"https://colab.research.google.com/github/asheshd/DES-Project-xG-PySpark-ML/blob/main/Expected_Goals_Analysis_with_PySpark_DES_Project.ipynb\" target=\"_parent\"><img src=\"https://colab.research.google.com/assets/colab-badge.svg\" alt=\"Open In Colab\"/></a>"
      ]
    },
    {
      "cell_type": "markdown",
      "source": [
        "# DA 231o Data Engineering at Scale Project\n",
        "\n"
      ],
      "metadata": {
        "id": "_Mp4yFaY5aX4"
      }
    },
    {
      "metadata": {
        "id": "CtBw-HfrqKEU"
      },
      "cell_type": "markdown",
      "source": [
        "# Expected Goals Model & Player Analysis"
      ]
    },
    {
      "cell_type": "markdown",
      "source": [
        "### Import Libraries"
      ],
      "metadata": {
        "id": "dyNnALy4o3n1"
      }
    },
    {
      "cell_type": "code",
      "source": [
        "!pip install pyspark"
      ],
      "metadata": {
        "colab": {
          "base_uri": "https://localhost:8080/"
        },
        "id": "yf4nn9Njzf6l",
        "outputId": "5c1ac6ed-de47-4553-d373-f97280eb08f1"
      },
      "execution_count": 1,
      "outputs": [
        {
          "output_type": "stream",
          "name": "stdout",
          "text": [
            "Looking in indexes: https://pypi.org/simple, https://us-python.pkg.dev/colab-wheels/public/simple/\n",
            "Collecting pyspark\n",
            "  Downloading pyspark-3.3.1.tar.gz (281.4 MB)\n",
            "\u001b[K     |████████████████████████████████| 281.4 MB 45 kB/s \n",
            "\u001b[?25hCollecting py4j==0.10.9.5\n",
            "  Downloading py4j-0.10.9.5-py2.py3-none-any.whl (199 kB)\n",
            "\u001b[K     |████████████████████████████████| 199 kB 61.4 MB/s \n",
            "\u001b[?25hBuilding wheels for collected packages: pyspark\n",
            "  Building wheel for pyspark (setup.py) ... \u001b[?25l\u001b[?25hdone\n",
            "  Created wheel for pyspark: filename=pyspark-3.3.1-py2.py3-none-any.whl size=281845512 sha256=8368e00494ac4638012f0a8c7bb99d0f7defd098dd5b85f3ce05b2ae7a5ecadf\n",
            "  Stored in directory: /root/.cache/pip/wheels/42/59/f5/79a5bf931714dcd201b26025347785f087370a10a3329a899c\n",
            "Successfully built pyspark\n",
            "Installing collected packages: py4j, pyspark\n",
            "Successfully installed py4j-0.10.9.5 pyspark-3.3.1\n"
          ]
        }
      ]
    },
    {
      "metadata": {
        "_kg_hide-output": true,
        "trusted": true,
        "id": "-q6iNmVPqKEb"
      },
      "cell_type": "code",
      "source": [
        "import pandas as pd\n",
        "import numpy as np\n",
        "import matplotlib.pyplot as plt\n",
        "import seaborn as sns\n",
        "from datetime import datetime\n",
        "\n",
        "import pyspark\n",
        "pyspark.__version__\n",
        "\n",
        "from pyspark.ml import Pipeline\n",
        "from pyspark.ml.feature import StringIndexer, VectorAssembler\n",
        "from pyspark.ml.classification import GBTClassifier\n",
        "from pyspark.ml.evaluation import MulticlassClassificationEvaluator\n",
        "\n",
        "from pyspark.sql import SparkSession\n",
        "from pyspark.sql.functions import udf, regexp_replace, when"
      ],
      "execution_count": 2,
      "outputs": []
    },
    {
      "metadata": {
        "id": "ieW3Bcy1qKEf"
      },
      "cell_type": "markdown",
      "source": [
        "# Load input Dataset with Goals"
      ]
    },
    {
      "cell_type": "code",
      "source": [
        "# Mount the drive\n",
        "\n",
        "from google.colab import drive\n",
        "drive.mount('/content/drive')"
      ],
      "metadata": {
        "colab": {
          "base_uri": "https://localhost:8080/"
        },
        "id": "2GbdFJR4ukCV",
        "outputId": "b8655869-c513-411a-fbb9-702aa6a7aba2"
      },
      "execution_count": 3,
      "outputs": [
        {
          "output_type": "stream",
          "name": "stdout",
          "text": [
            "Mounted at /content/drive\n"
          ]
        }
      ]
    },
    {
      "cell_type": "code",
      "source": [
        "# Read the csv file for visualization. We do not use this data anywhere in our model\n",
        "\n",
        "data = pd.read_csv('/content/drive/Shareddrives/DES_Project/events.csv')"
      ],
      "metadata": {
        "id": "4hqvNNn-2krm"
      },
      "execution_count": 4,
      "outputs": []
    },
    {
      "metadata": {
        "trusted": true,
        "colab": {
          "base_uri": "https://localhost:8080/"
        },
        "id": "CEALMyjtqKEk",
        "outputId": "08a329b1-fe54-43a7-ad33-5f2a1096d7c7"
      },
      "cell_type": "code",
      "source": [
        "print(len(data))\n",
        "print(data.is_goal.sum())\n",
        "print(len(data.columns)-1)"
      ],
      "execution_count": 5,
      "outputs": [
        {
          "output_type": "stream",
          "name": "stdout",
          "text": [
            "941009\n",
            "24446\n",
            "21\n"
          ]
        }
      ]
    },
    {
      "cell_type": "code",
      "source": [
        "data.columns"
      ],
      "metadata": {
        "colab": {
          "base_uri": "https://localhost:8080/"
        },
        "id": "DSjuHa4gpdlY",
        "outputId": "949e8568-94d6-4e48-d55d-0c2376f16b9c"
      },
      "execution_count": 6,
      "outputs": [
        {
          "output_type": "execute_result",
          "data": {
            "text/plain": [
              "Index(['id_odsp', 'id_event', 'sort_order', 'time', 'text', 'event_type',\n",
              "       'event_type2', 'side', 'event_team', 'opponent', 'player', 'player2',\n",
              "       'player_in', 'player_out', 'shot_place', 'shot_outcome', 'is_goal',\n",
              "       'location', 'bodypart', 'assist_method', 'situation', 'fast_break'],\n",
              "      dtype='object')"
            ]
          },
          "metadata": {},
          "execution_count": 6
        }
      ]
    },
    {
      "cell_type": "code",
      "source": [
        "# Create spark session\n",
        "\n",
        "spark = SparkSession \\\n",
        "    .builder \\\n",
        "    .appName('xG Project Solution') \\\n",
        "    .getOrCreate()\n",
        "  \n",
        "spark"
      ],
      "metadata": {
        "colab": {
          "base_uri": "https://localhost:8080/",
          "height": 221
        },
        "id": "vlDbnrOAzpec",
        "outputId": "982e8863-3e0d-423f-ad84-fa81c8668155"
      },
      "execution_count": 7,
      "outputs": [
        {
          "output_type": "execute_result",
          "data": {
            "text/plain": [
              "<pyspark.sql.session.SparkSession at 0x7f494937ff50>"
            ],
            "text/html": [
              "\n",
              "            <div>\n",
              "                <p><b>SparkSession - in-memory</b></p>\n",
              "                \n",
              "        <div>\n",
              "            <p><b>SparkContext</b></p>\n",
              "\n",
              "            <p><a href=\"http://5e31c13fc2b2:4040\">Spark UI</a></p>\n",
              "\n",
              "            <dl>\n",
              "              <dt>Version</dt>\n",
              "                <dd><code>v3.3.1</code></dd>\n",
              "              <dt>Master</dt>\n",
              "                <dd><code>local[*]</code></dd>\n",
              "              <dt>AppName</dt>\n",
              "                <dd><code>xG Project Solution</code></dd>\n",
              "            </dl>\n",
              "        </div>\n",
              "        \n",
              "            </div>\n",
              "        "
            ]
          },
          "metadata": {},
          "execution_count": 7
        }
      ]
    },
    {
      "cell_type": "code",
      "source": [
        "# Load the events and the info as spark sql dataframes\n",
        "\n",
        "eventsDF = spark.read.option(\"header\", True).option(\"inferSchema\", True).option(\"nullable\", 'NA').csv('/content/drive/Shareddrives/DES_Project/events.csv')\n",
        "infoDF = spark.read.option(\"header\", True).option(\"inferSchema\", True).option(\"nullable\", 'NA').csv('/content/drive/Shareddrives/DES_Project/ginf.csv')"
      ],
      "metadata": {
        "id": "0NC9jfLolPV3"
      },
      "execution_count": 8,
      "outputs": []
    },
    {
      "cell_type": "code",
      "source": [
        "# Print Schema\n",
        "\n",
        "eventsDF.printSchema()\n",
        "\n",
        "infoDF.printSchema()"
      ],
      "metadata": {
        "colab": {
          "base_uri": "https://localhost:8080/"
        },
        "id": "ayxLl6RbmAkQ",
        "outputId": "4e2578a6-aa96-451c-810d-48bc8c6eebb8"
      },
      "execution_count": 9,
      "outputs": [
        {
          "output_type": "stream",
          "name": "stdout",
          "text": [
            "root\n",
            " |-- id_odsp: string (nullable = true)\n",
            " |-- id_event: string (nullable = true)\n",
            " |-- sort_order: integer (nullable = true)\n",
            " |-- time: integer (nullable = true)\n",
            " |-- text: string (nullable = true)\n",
            " |-- event_type: integer (nullable = true)\n",
            " |-- event_type2: string (nullable = true)\n",
            " |-- side: integer (nullable = true)\n",
            " |-- event_team: string (nullable = true)\n",
            " |-- opponent: string (nullable = true)\n",
            " |-- player: string (nullable = true)\n",
            " |-- player2: string (nullable = true)\n",
            " |-- player_in: string (nullable = true)\n",
            " |-- player_out: string (nullable = true)\n",
            " |-- shot_place: string (nullable = true)\n",
            " |-- shot_outcome: string (nullable = true)\n",
            " |-- is_goal: integer (nullable = true)\n",
            " |-- location: string (nullable = true)\n",
            " |-- bodypart: string (nullable = true)\n",
            " |-- assist_method: integer (nullable = true)\n",
            " |-- situation: string (nullable = true)\n",
            " |-- fast_break: integer (nullable = true)\n",
            "\n",
            "root\n",
            " |-- id_odsp: string (nullable = true)\n",
            " |-- link_odsp: string (nullable = true)\n",
            " |-- adv_stats: boolean (nullable = true)\n",
            " |-- date: timestamp (nullable = true)\n",
            " |-- league: string (nullable = true)\n",
            " |-- season: integer (nullable = true)\n",
            " |-- country: string (nullable = true)\n",
            " |-- ht: string (nullable = true)\n",
            " |-- at: string (nullable = true)\n",
            " |-- fthg: integer (nullable = true)\n",
            " |-- ftag: integer (nullable = true)\n",
            " |-- odd_h: double (nullable = true)\n",
            " |-- odd_d: double (nullable = true)\n",
            " |-- odd_a: double (nullable = true)\n",
            " |-- odd_over: string (nullable = true)\n",
            " |-- odd_under: string (nullable = true)\n",
            " |-- odd_bts: string (nullable = true)\n",
            " |-- odd_bts_n: string (nullable = true)\n",
            "\n"
          ]
        }
      ]
    },
    {
      "cell_type": "code",
      "source": [
        "# Verify if the data loaded is correct and in the proper format\n",
        "\n",
        "eventsDF.show(10)\n",
        "type(eventsDF)"
      ],
      "metadata": {
        "colab": {
          "base_uri": "https://localhost:8080/"
        },
        "id": "XCQEoR-4lbGB",
        "outputId": "87d7805e-a988-43fb-d0ec-59d4d65f0898"
      },
      "execution_count": 10,
      "outputs": [
        {
          "output_type": "stream",
          "name": "stdout",
          "text": [
            "+---------+----------+----------+----+--------------------+----------+-----------+----+-----------------+-----------------+-------------------+----------------+---------+----------+----------+------------+-------+--------+--------+-------------+---------+----------+\n",
            "|  id_odsp|  id_event|sort_order|time|                text|event_type|event_type2|side|       event_team|         opponent|             player|         player2|player_in|player_out|shot_place|shot_outcome|is_goal|location|bodypart|assist_method|situation|fast_break|\n",
            "+---------+----------+----------+----+--------------------+----------+-----------+----+-----------------+-----------------+-------------------+----------------+---------+----------+----------+------------+-------+--------+--------+-------------+---------+----------+\n",
            "|UFot0hit/| UFot0hit1|         1|   2|Attempt missed. M...|         1|         12|   2|       Hamburg SV|Borussia Dortmund|      mladen petric|     gokhan tore|       NA|        NA|         6|           2|      0|       9|       2|            1|        1|         0|\n",
            "|UFot0hit/| UFot0hit2|         2|   4|Corner,  Borussia...|         2|         NA|   1|Borussia Dortmund|       Hamburg SV|   dennis diekmeier|dennis diekmeier|       NA|        NA|        NA|          NA|      0|      NA|      NA|            0|       NA|         0|\n",
            "|UFot0hit/| UFot0hit3|         3|   4|Corner,  Borussia...|         2|         NA|   1|Borussia Dortmund|       Hamburg SV|   heiko westermann|heiko westermann|       NA|        NA|        NA|          NA|      0|      NA|      NA|            0|       NA|         0|\n",
            "|UFot0hit/| UFot0hit4|         4|   7|Foul by Sven Bend...|         3|         NA|   1|Borussia Dortmund|       Hamburg SV|        sven bender|              NA|       NA|        NA|        NA|          NA|      0|      NA|      NA|            0|       NA|         0|\n",
            "|UFot0hit/| UFot0hit5|         5|   7|Gokhan Tore (Hamb...|         8|         NA|   2|       Hamburg SV|Borussia Dortmund|        gokhan tore|              NA|       NA|        NA|        NA|          NA|      0|       2|      NA|            0|       NA|         0|\n",
            "|UFot0hit/| UFot0hit6|         6|   9|Hand ball by Jose...|        10|         NA|   2|       Hamburg SV|Borussia Dortmund|jose paolo guerrero|              NA|       NA|        NA|        NA|          NA|      0|      NA|      NA|            0|       NA|         0|\n",
            "|UFot0hit/| UFot0hit7|         7|  10|Corner,  Hamburg....|         2|         NA|   2|       Hamburg SV|Borussia Dortmund|    lukasz piszczek| lukasz piszczek|       NA|        NA|        NA|          NA|      0|      NA|      NA|            0|       NA|         0|\n",
            "|UFot0hit/| UFot0hit8|         8|  11|Chris Lowe (Borus...|         8|         NA|   1|Borussia Dortmund|       Hamburg SV|         chris lowe|              NA|       NA|        NA|        NA|          NA|      0|       2|      NA|            0|       NA|         0|\n",
            "|UFot0hit/| UFot0hit9|         9|  11|Foul by Gojko Kac...|         3|         NA|   2|       Hamburg SV|Borussia Dortmund|        gojko kacar|              NA|       NA|        NA|        NA|          NA|      0|      NA|      NA|            0|       NA|         0|\n",
            "|UFot0hit/|UFot0hit10|        10|  13|Foul by Gokhan To...|         3|         NA|   2|       Hamburg SV|Borussia Dortmund|        gokhan tore|              NA|       NA|        NA|        NA|          NA|      0|      NA|      NA|            0|       NA|         0|\n",
            "+---------+----------+----------+----+--------------------+----------+-----------+----+-----------------+-----------------+-------------------+----------------+---------+----------+----------+------------+-------+--------+--------+-------------+---------+----------+\n",
            "only showing top 10 rows\n",
            "\n"
          ]
        },
        {
          "output_type": "execute_result",
          "data": {
            "text/plain": [
              "pyspark.sql.dataframe.DataFrame"
            ]
          },
          "metadata": {},
          "execution_count": 10
        }
      ]
    },
    {
      "cell_type": "code",
      "source": [
        "# Join id_odsp, country, date columns from infoDF on id_odsp\n",
        "\n",
        "eventsDF = eventsDF.join(infoDF[['id_odsp', 'country', 'date']], on='id_odsp', how='left')\n",
        "eventsDF.printSchema()\n",
        "eventsDF.show(10)"
      ],
      "metadata": {
        "colab": {
          "base_uri": "https://localhost:8080/"
        },
        "id": "H1SHUd0Glrwc",
        "outputId": "95e6077d-e6c9-4d8e-93b7-862dc095d5bb"
      },
      "execution_count": 11,
      "outputs": [
        {
          "output_type": "stream",
          "name": "stdout",
          "text": [
            "root\n",
            " |-- id_odsp: string (nullable = true)\n",
            " |-- id_event: string (nullable = true)\n",
            " |-- sort_order: integer (nullable = true)\n",
            " |-- time: integer (nullable = true)\n",
            " |-- text: string (nullable = true)\n",
            " |-- event_type: integer (nullable = true)\n",
            " |-- event_type2: string (nullable = true)\n",
            " |-- side: integer (nullable = true)\n",
            " |-- event_team: string (nullable = true)\n",
            " |-- opponent: string (nullable = true)\n",
            " |-- player: string (nullable = true)\n",
            " |-- player2: string (nullable = true)\n",
            " |-- player_in: string (nullable = true)\n",
            " |-- player_out: string (nullable = true)\n",
            " |-- shot_place: string (nullable = true)\n",
            " |-- shot_outcome: string (nullable = true)\n",
            " |-- is_goal: integer (nullable = true)\n",
            " |-- location: string (nullable = true)\n",
            " |-- bodypart: string (nullable = true)\n",
            " |-- assist_method: integer (nullable = true)\n",
            " |-- situation: string (nullable = true)\n",
            " |-- fast_break: integer (nullable = true)\n",
            " |-- country: string (nullable = true)\n",
            " |-- date: timestamp (nullable = true)\n",
            "\n",
            "+---------+----------+----------+----+--------------------+----------+-----------+----+-----------------+-----------------+-------------------+----------------+---------+----------+----------+------------+-------+--------+--------+-------------+---------+----------+-------+-------------------+\n",
            "|  id_odsp|  id_event|sort_order|time|                text|event_type|event_type2|side|       event_team|         opponent|             player|         player2|player_in|player_out|shot_place|shot_outcome|is_goal|location|bodypart|assist_method|situation|fast_break|country|               date|\n",
            "+---------+----------+----------+----+--------------------+----------+-----------+----+-----------------+-----------------+-------------------+----------------+---------+----------+----------+------------+-------+--------+--------+-------------+---------+----------+-------+-------------------+\n",
            "|UFot0hit/| UFot0hit1|         1|   2|Attempt missed. M...|         1|         12|   2|       Hamburg SV|Borussia Dortmund|      mladen petric|     gokhan tore|       NA|        NA|         6|           2|      0|       9|       2|            1|        1|         0|germany|2011-08-05 00:00:00|\n",
            "|UFot0hit/| UFot0hit2|         2|   4|Corner,  Borussia...|         2|         NA|   1|Borussia Dortmund|       Hamburg SV|   dennis diekmeier|dennis diekmeier|       NA|        NA|        NA|          NA|      0|      NA|      NA|            0|       NA|         0|germany|2011-08-05 00:00:00|\n",
            "|UFot0hit/| UFot0hit3|         3|   4|Corner,  Borussia...|         2|         NA|   1|Borussia Dortmund|       Hamburg SV|   heiko westermann|heiko westermann|       NA|        NA|        NA|          NA|      0|      NA|      NA|            0|       NA|         0|germany|2011-08-05 00:00:00|\n",
            "|UFot0hit/| UFot0hit4|         4|   7|Foul by Sven Bend...|         3|         NA|   1|Borussia Dortmund|       Hamburg SV|        sven bender|              NA|       NA|        NA|        NA|          NA|      0|      NA|      NA|            0|       NA|         0|germany|2011-08-05 00:00:00|\n",
            "|UFot0hit/| UFot0hit5|         5|   7|Gokhan Tore (Hamb...|         8|         NA|   2|       Hamburg SV|Borussia Dortmund|        gokhan tore|              NA|       NA|        NA|        NA|          NA|      0|       2|      NA|            0|       NA|         0|germany|2011-08-05 00:00:00|\n",
            "|UFot0hit/| UFot0hit6|         6|   9|Hand ball by Jose...|        10|         NA|   2|       Hamburg SV|Borussia Dortmund|jose paolo guerrero|              NA|       NA|        NA|        NA|          NA|      0|      NA|      NA|            0|       NA|         0|germany|2011-08-05 00:00:00|\n",
            "|UFot0hit/| UFot0hit7|         7|  10|Corner,  Hamburg....|         2|         NA|   2|       Hamburg SV|Borussia Dortmund|    lukasz piszczek| lukasz piszczek|       NA|        NA|        NA|          NA|      0|      NA|      NA|            0|       NA|         0|germany|2011-08-05 00:00:00|\n",
            "|UFot0hit/| UFot0hit8|         8|  11|Chris Lowe (Borus...|         8|         NA|   1|Borussia Dortmund|       Hamburg SV|         chris lowe|              NA|       NA|        NA|        NA|          NA|      0|       2|      NA|            0|       NA|         0|germany|2011-08-05 00:00:00|\n",
            "|UFot0hit/| UFot0hit9|         9|  11|Foul by Gojko Kac...|         3|         NA|   2|       Hamburg SV|Borussia Dortmund|        gojko kacar|              NA|       NA|        NA|        NA|          NA|      0|      NA|      NA|            0|       NA|         0|germany|2011-08-05 00:00:00|\n",
            "|UFot0hit/|UFot0hit10|        10|  13|Foul by Gokhan To...|         3|         NA|   2|       Hamburg SV|Borussia Dortmund|        gokhan tore|              NA|       NA|        NA|        NA|          NA|      0|      NA|      NA|            0|       NA|         0|germany|2011-08-05 00:00:00|\n",
            "+---------+----------+----------+----+--------------------+----------+-----------+----+-----------------+-----------------+-------------------+----------------+---------+----------+----------+------------+-------+--------+--------+-------------+---------+----------+-------+-------------------+\n",
            "only showing top 10 rows\n",
            "\n"
          ]
        }
      ]
    },
    {
      "cell_type": "code",
      "source": [
        "# Extract year from the timestamp and append the column\n",
        "\n",
        "extract_year = lambda x: x.strftime(\"%Y\")\n",
        "extract_year_udf = udf(extract_year)\n",
        "eventsDF = eventsDF.withColumn(\"year\", extract_year_udf(\"date\"))\n",
        "eventsDF.show(10)"
      ],
      "metadata": {
        "colab": {
          "base_uri": "https://localhost:8080/"
        },
        "id": "qXUoh04hl4EC",
        "outputId": "c0b7a396-3cde-43a2-8a64-b3b0df1f2428"
      },
      "execution_count": 12,
      "outputs": [
        {
          "output_type": "stream",
          "name": "stdout",
          "text": [
            "+---------+----------+----------+----+--------------------+----------+-----------+----+-----------------+-----------------+-------------------+----------------+---------+----------+----------+------------+-------+--------+--------+-------------+---------+----------+-------+-------------------+----+\n",
            "|  id_odsp|  id_event|sort_order|time|                text|event_type|event_type2|side|       event_team|         opponent|             player|         player2|player_in|player_out|shot_place|shot_outcome|is_goal|location|bodypart|assist_method|situation|fast_break|country|               date|year|\n",
            "+---------+----------+----------+----+--------------------+----------+-----------+----+-----------------+-----------------+-------------------+----------------+---------+----------+----------+------------+-------+--------+--------+-------------+---------+----------+-------+-------------------+----+\n",
            "|UFot0hit/| UFot0hit1|         1|   2|Attempt missed. M...|         1|         12|   2|       Hamburg SV|Borussia Dortmund|      mladen petric|     gokhan tore|       NA|        NA|         6|           2|      0|       9|       2|            1|        1|         0|germany|2011-08-05 00:00:00|2011|\n",
            "|UFot0hit/| UFot0hit2|         2|   4|Corner,  Borussia...|         2|         NA|   1|Borussia Dortmund|       Hamburg SV|   dennis diekmeier|dennis diekmeier|       NA|        NA|        NA|          NA|      0|      NA|      NA|            0|       NA|         0|germany|2011-08-05 00:00:00|2011|\n",
            "|UFot0hit/| UFot0hit3|         3|   4|Corner,  Borussia...|         2|         NA|   1|Borussia Dortmund|       Hamburg SV|   heiko westermann|heiko westermann|       NA|        NA|        NA|          NA|      0|      NA|      NA|            0|       NA|         0|germany|2011-08-05 00:00:00|2011|\n",
            "|UFot0hit/| UFot0hit4|         4|   7|Foul by Sven Bend...|         3|         NA|   1|Borussia Dortmund|       Hamburg SV|        sven bender|              NA|       NA|        NA|        NA|          NA|      0|      NA|      NA|            0|       NA|         0|germany|2011-08-05 00:00:00|2011|\n",
            "|UFot0hit/| UFot0hit5|         5|   7|Gokhan Tore (Hamb...|         8|         NA|   2|       Hamburg SV|Borussia Dortmund|        gokhan tore|              NA|       NA|        NA|        NA|          NA|      0|       2|      NA|            0|       NA|         0|germany|2011-08-05 00:00:00|2011|\n",
            "|UFot0hit/| UFot0hit6|         6|   9|Hand ball by Jose...|        10|         NA|   2|       Hamburg SV|Borussia Dortmund|jose paolo guerrero|              NA|       NA|        NA|        NA|          NA|      0|      NA|      NA|            0|       NA|         0|germany|2011-08-05 00:00:00|2011|\n",
            "|UFot0hit/| UFot0hit7|         7|  10|Corner,  Hamburg....|         2|         NA|   2|       Hamburg SV|Borussia Dortmund|    lukasz piszczek| lukasz piszczek|       NA|        NA|        NA|          NA|      0|      NA|      NA|            0|       NA|         0|germany|2011-08-05 00:00:00|2011|\n",
            "|UFot0hit/| UFot0hit8|         8|  11|Chris Lowe (Borus...|         8|         NA|   1|Borussia Dortmund|       Hamburg SV|         chris lowe|              NA|       NA|        NA|        NA|          NA|      0|       2|      NA|            0|       NA|         0|germany|2011-08-05 00:00:00|2011|\n",
            "|UFot0hit/| UFot0hit9|         9|  11|Foul by Gojko Kac...|         3|         NA|   2|       Hamburg SV|Borussia Dortmund|        gojko kacar|              NA|       NA|        NA|        NA|          NA|      0|      NA|      NA|            0|       NA|         0|germany|2011-08-05 00:00:00|2011|\n",
            "|UFot0hit/|UFot0hit10|        10|  13|Foul by Gokhan To...|         3|         NA|   2|       Hamburg SV|Borussia Dortmund|        gokhan tore|              NA|       NA|        NA|        NA|          NA|      0|      NA|      NA|            0|       NA|         0|germany|2011-08-05 00:00:00|2011|\n",
            "+---------+----------+----------+----+--------------------+----------+-----------+----+-----------------+-----------------+-------------------+----------------+---------+----------+----------+------------+-------+--------+--------+-------------+---------+----------+-------+-------------------+----+\n",
            "only showing top 10 rows\n",
            "\n"
          ]
        }
      ]
    },
    {
      "cell_type": "code",
      "source": [
        "eventsDF.filter(eventsDF.event_type==1).filter(eventsDF.player != '').count()"
      ],
      "metadata": {
        "colab": {
          "base_uri": "https://localhost:8080/"
        },
        "id": "4WYPEmJ6QGzE",
        "outputId": "fc78da0e-70d3-4ab2-d6af-8ed98ad453b2"
      },
      "execution_count": 13,
      "outputs": [
        {
          "output_type": "execute_result",
          "data": {
            "text/plain": [
              "229134"
            ]
          },
          "metadata": {},
          "execution_count": 13
        }
      ]
    },
    {
      "cell_type": "code",
      "source": [
        "# Create shotsDF dataframe by filtering event type == 1 and non-empty player\n",
        "\n",
        "# shotsDF = eventsDF.filter(eventsDF.event_type==1)\n",
        "shotsDF = eventsDF.filter(eventsDF.event_type==1).filter(eventsDF.player != '')\n",
        "shotsDF = shotsDF.withColumn(\"player\", udf(lambda x: x.title())(\"player\"))\n",
        "shotsDF = shotsDF.withColumn(\"player2\", udf(lambda x: x.title())(\"player2\"))\n",
        "shotsDF = shotsDF.withColumn(\"country\", udf(lambda x: x.title())(\"country\"))\n",
        "shotsDF.show(10)"
      ],
      "metadata": {
        "colab": {
          "base_uri": "https://localhost:8080/"
        },
        "id": "ihVPdsJRln2x",
        "outputId": "d5220110-1a33-4bf3-b171-082f3255d8b8"
      },
      "execution_count": 14,
      "outputs": [
        {
          "output_type": "stream",
          "name": "stdout",
          "text": [
            "+---------+----------+----------+----+--------------------+----------+-----------+----+-----------------+-----------------+-----------------+------------------+---------+----------+----------+------------+-------+--------+--------+-------------+---------+----------+-------+-------------------+----+\n",
            "|  id_odsp|  id_event|sort_order|time|                text|event_type|event_type2|side|       event_team|         opponent|           player|           player2|player_in|player_out|shot_place|shot_outcome|is_goal|location|bodypart|assist_method|situation|fast_break|country|               date|year|\n",
            "+---------+----------+----------+----+--------------------+----------+-----------+----+-----------------+-----------------+-----------------+------------------+---------+----------+----------+------------+-------+--------+--------+-------------+---------+----------+-------+-------------------+----+\n",
            "|UFot0hit/| UFot0hit1|         1|   2|Attempt missed. M...|         1|         12|   2|       Hamburg SV|Borussia Dortmund|    Mladen Petric|       Gokhan Tore|       NA|        NA|         6|           2|      0|       9|       2|            1|        1|         0|Germany|2011-08-05 00:00:00|2011|\n",
            "|UFot0hit/|UFot0hit12|        12|  14|Attempt missed. S...|         1|         12|   1|Borussia Dortmund|       Hamburg SV|    Shinji Kagawa|       Mario Gotze|       NA|        NA|        13|           2|      0|      15|       1|            1|        1|         0|Germany|2011-08-05 00:00:00|2011|\n",
            "|UFot0hit/|UFot0hit14|        14|  17|Goal!  Borussia D...|         1|         12|   1|Borussia Dortmund|       Hamburg SV|Kevin Grosskreutz|       Mario Gotze|       NA|        NA|         4|           1|      1|       9|       2|            1|        1|         0|Germany|2011-08-05 00:00:00|2011|\n",
            "|UFot0hit/|UFot0hit15|        15|  19|Attempt blocked. ...|         1|         NA|   1|Borussia Dortmund|       Hamburg SV|     Mats Hummels|                Na|       NA|        NA|         2|           3|      0|      15|       1|            0|        1|         0|Germany|2011-08-05 00:00:00|2011|\n",
            "|UFot0hit/|UFot0hit18|        18|  20|Attempt blocked. ...|         1|         NA|   2|       Hamburg SV|Borussia Dortmund|     Tomas Rincon|                Na|       NA|        NA|         2|           3|      0|      15|       1|            0|        1|         0|Germany|2011-08-05 00:00:00|2011|\n",
            "|UFot0hit/|UFot0hit19|        19|  25|Shinji Kagawa (Bo...|         1|         12|   1|Borussia Dortmund|       Hamburg SV|    Shinji Kagawa|   Lukasz Piszczek|       NA|        NA|         7|           4|      0|       3|       1|            1|        1|         0|Germany|2011-08-05 00:00:00|2011|\n",
            "|UFot0hit/|UFot0hit21|        21|  25|Attempt blocked. ...|         1|         NA|   1|Borussia Dortmund|       Hamburg SV|   Ilkay Gundogan|                Na|       NA|        NA|         2|           3|      0|      15|       2|            0|        1|         0|Germany|2011-08-05 00:00:00|2011|\n",
            "|UFot0hit/|UFot0hit23|        23|  26|Attempt saved. Ma...|         1|         12|   1|Borussia Dortmund|       Hamburg SV|     Mats Hummels|        Chris Lowe|       NA|        NA|         5|           1|      0|       3|       3|            2|        1|         0|Germany|2011-08-05 00:00:00|2011|\n",
            "|UFot0hit/|UFot0hit26|        26|  28|Attempt missed. S...|         1|         12|   1|Borussia Dortmund|       Hamburg SV|    Shinji Kagawa| Kevin Grosskreutz|       NA|        NA|         9|           2|      0|       9|       1|            1|        1|         0|Germany|2011-08-05 00:00:00|2011|\n",
            "|UFot0hit/|UFot0hit27|        27|  29|Goal!  Borussia D...|         1|         12|   1|Borussia Dortmund|       Hamburg SV|      Mario Gotze|Robert Lewandowski|       NA|        NA|         5|           1|      1|       3|       1|            1|        1|         0|Germany|2011-08-05 00:00:00|2011|\n",
            "+---------+----------+----------+----+--------------------+----------+-----------+----+-----------------+-----------------+-----------------+------------------+---------+----------+----------+------------+-------+--------+--------+-------------+---------+----------+-------+-------------------+----+\n",
            "only showing top 10 rows\n",
            "\n"
          ]
        }
      ]
    },
    {
      "cell_type": "code",
      "source": [
        "# Filter the columns which have all the relevant information about the shot and predict if it is a goal or not\n",
        "# is_goal is the true label. We will not use this in the training\n",
        "\n",
        "input_cols = ['location', 'bodypart', 'assist_method', 'situation', 'is_goal']\n",
        "required_cols = ['location', 'bodypart', 'assist_method', 'situation']\n",
        "\n",
        "# Create dataDF dataframe with the selected input columns\n",
        "dataDF = shotsDF.select(input_cols)\n",
        "\n",
        "# Create string indexer list\n",
        "indexer = []\n",
        "\n",
        "# Convert each column into integer type using string indexer without losing any features\n",
        "for column in required_cols:\n",
        "  temp = StringIndexer(inputCol=column, outputCol=column+\"_index\")\n",
        "  indexer.append(temp)\n",
        "\n",
        "# Pipeline\n",
        "pipeline = Pipeline(stages=indexer)\n",
        "dataDF = pipeline.fit(dataDF).transform(dataDF)\n",
        "\n",
        "dataDF.show(10)"
      ],
      "metadata": {
        "colab": {
          "base_uri": "https://localhost:8080/"
        },
        "id": "7TCHrBkcmm3e",
        "outputId": "091efb3c-3e1b-4b90-f7c6-956becedf479"
      },
      "execution_count": 15,
      "outputs": [
        {
          "output_type": "stream",
          "name": "stdout",
          "text": [
            "+--------+--------+-------------+---------+-------+--------------+--------------+-------------------+---------------+\n",
            "|location|bodypart|assist_method|situation|is_goal|location_index|bodypart_index|assist_method_index|situation_index|\n",
            "+--------+--------+-------------+---------+-------+--------------+--------------+-------------------+---------------+\n",
            "|       9|       2|            1|        1|      0|           2.0|           1.0|                0.0|            0.0|\n",
            "|      15|       1|            1|        1|      0|           0.0|           0.0|                0.0|            0.0|\n",
            "|       9|       2|            1|        1|      1|           2.0|           1.0|                0.0|            0.0|\n",
            "|      15|       1|            0|        1|      0|           0.0|           0.0|                1.0|            0.0|\n",
            "|      15|       1|            0|        1|      0|           0.0|           0.0|                1.0|            0.0|\n",
            "|       3|       1|            1|        1|      0|           1.0|           0.0|                0.0|            0.0|\n",
            "|      15|       2|            0|        1|      0|           0.0|           1.0|                1.0|            0.0|\n",
            "|       3|       3|            2|        1|      0|           1.0|           2.0|                2.0|            0.0|\n",
            "|       9|       1|            1|        1|      0|           2.0|           0.0|                0.0|            0.0|\n",
            "|       3|       1|            1|        1|      1|           1.0|           0.0|                0.0|            0.0|\n",
            "+--------+--------+-------------+---------+-------+--------------+--------------+-------------------+---------------+\n",
            "only showing top 10 rows\n",
            "\n"
          ]
        }
      ]
    },
    {
      "cell_type": "markdown",
      "source": [
        "# Expected Goals with PySpark Machine Learning"
      ],
      "metadata": {
        "id": "vN2Yvehe4JSv"
      }
    },
    {
      "cell_type": "code",
      "source": [
        "required_features = list(dataDF.columns[-4:]) # remove 'is_goal' because it is the label\n",
        "\n",
        "assembler = VectorAssembler(inputCols=required_features, outputCol='features')\n",
        "transformed_data = assembler.transform(dataDF)\n",
        "\n",
        "transformed_data.show(10)"
      ],
      "metadata": {
        "colab": {
          "base_uri": "https://localhost:8080/"
        },
        "id": "MiD6yFkC_F5O",
        "outputId": "b9baed9f-8fd6-46e0-f6c4-025c9ab6325a"
      },
      "execution_count": 16,
      "outputs": [
        {
          "output_type": "stream",
          "name": "stdout",
          "text": [
            "+--------+--------+-------------+---------+-------+--------------+--------------+-------------------+---------------+-----------------+\n",
            "|location|bodypart|assist_method|situation|is_goal|location_index|bodypart_index|assist_method_index|situation_index|         features|\n",
            "+--------+--------+-------------+---------+-------+--------------+--------------+-------------------+---------------+-----------------+\n",
            "|       9|       2|            1|        1|      0|           2.0|           1.0|                0.0|            0.0|[2.0,1.0,0.0,0.0]|\n",
            "|      15|       1|            1|        1|      0|           0.0|           0.0|                0.0|            0.0|        (4,[],[])|\n",
            "|       9|       2|            1|        1|      1|           2.0|           1.0|                0.0|            0.0|[2.0,1.0,0.0,0.0]|\n",
            "|      15|       1|            0|        1|      0|           0.0|           0.0|                1.0|            0.0|    (4,[2],[1.0])|\n",
            "|      15|       1|            0|        1|      0|           0.0|           0.0|                1.0|            0.0|    (4,[2],[1.0])|\n",
            "|       3|       1|            1|        1|      0|           1.0|           0.0|                0.0|            0.0|    (4,[0],[1.0])|\n",
            "|      15|       2|            0|        1|      0|           0.0|           1.0|                1.0|            0.0|[0.0,1.0,1.0,0.0]|\n",
            "|       3|       3|            2|        1|      0|           1.0|           2.0|                2.0|            0.0|[1.0,2.0,2.0,0.0]|\n",
            "|       9|       1|            1|        1|      0|           2.0|           0.0|                0.0|            0.0|    (4,[0],[2.0])|\n",
            "|       3|       1|            1|        1|      1|           1.0|           0.0|                0.0|            0.0|    (4,[0],[1.0])|\n",
            "+--------+--------+-------------+---------+-------+--------------+--------------+-------------------+---------------+-----------------+\n",
            "only showing top 10 rows\n",
            "\n"
          ]
        }
      ]
    },
    {
      "cell_type": "code",
      "source": [
        "# Split the data into training and testing data\n",
        "\n",
        "(training_data, test_data) = transformed_data.randomSplit([0.8,0.2])\n",
        "\n",
        "print(\"Total Data\", transformed_data.count())\n",
        "print(\"Total Training Data\", training_data.count())\n",
        "print(\"Total Test Data\", test_data.count())\n",
        "\n",
        "print(\"Training Dataset\")\n",
        "training_data.show(5)"
      ],
      "metadata": {
        "colab": {
          "base_uri": "https://localhost:8080/"
        },
        "id": "PpkbwY7WEJCI",
        "outputId": "6e61b92c-48ab-4f36-b8bf-17a93ff4f4a1"
      },
      "execution_count": 17,
      "outputs": [
        {
          "output_type": "stream",
          "name": "stdout",
          "text": [
            "Total Data 229134\n",
            "Total Training Data 183214\n",
            "Total Test Data 45920\n",
            "Training Dataset\n",
            "+--------+--------+-------------+---------+-------+--------------+--------------+-------------------+---------------+-----------------+\n",
            "|location|bodypart|assist_method|situation|is_goal|location_index|bodypart_index|assist_method_index|situation_index|         features|\n",
            "+--------+--------+-------------+---------+-------+--------------+--------------+-------------------+---------------+-----------------+\n",
            "|      10|       1|            0|        1|      0|           5.0|           0.0|                1.0|            0.0|[5.0,0.0,1.0,0.0]|\n",
            "|      10|       1|            0|        1|      0|           5.0|           0.0|                1.0|            0.0|[5.0,0.0,1.0,0.0]|\n",
            "|      10|       1|            0|        1|      0|           5.0|           0.0|                1.0|            0.0|[5.0,0.0,1.0,0.0]|\n",
            "|      10|       1|            0|        1|      0|           5.0|           0.0|                1.0|            0.0|[5.0,0.0,1.0,0.0]|\n",
            "|      10|       1|            0|        1|      0|           5.0|           0.0|                1.0|            0.0|[5.0,0.0,1.0,0.0]|\n",
            "+--------+--------+-------------+---------+-------+--------------+--------------+-------------------+---------------+-----------------+\n",
            "only showing top 5 rows\n",
            "\n"
          ]
        }
      ]
    },
    {
      "cell_type": "markdown",
      "source": [
        "# Gradient-Boosted Trees (GBTs) Classifier"
      ],
      "metadata": {
        "id": "rY_vTrzS3xuO"
      }
    },
    {
      "cell_type": "code",
      "source": [
        "gbt = GBTClassifier(labelCol='is_goal', \n",
        "                            featuresCol='features',\n",
        "                            maxDepth=5)"
      ],
      "metadata": {
        "id": "YBQvqTANzyPE"
      },
      "execution_count": 18,
      "outputs": []
    },
    {
      "cell_type": "code",
      "source": [
        "# Another classifier\n",
        "# from pyspark.ml.classification import RandomForestClassifier\n",
        "# gbt = RandomForestClassifier(labelCol='is_goal', \n",
        "#                             featuresCol='features',\n",
        "#                             maxDepth=5)"
      ],
      "metadata": {
        "id": "VTtZEvZTMAlb"
      },
      "execution_count": 19,
      "outputs": []
    },
    {
      "cell_type": "code",
      "source": [
        "# Fit the model on training data\n",
        "model = gbt.fit(training_data)"
      ],
      "metadata": {
        "id": "WU_TAwJ9z7g8"
      },
      "execution_count": 20,
      "outputs": []
    },
    {
      "cell_type": "markdown",
      "source": [
        "# Predictions with Test Data"
      ],
      "metadata": {
        "id": "1Hb-PX5S3sye"
      }
    },
    {
      "cell_type": "code",
      "source": [
        "# Predictions with test data\n",
        "predictions = model.transform(test_data)\n",
        "predictions.show(5)"
      ],
      "metadata": {
        "colab": {
          "base_uri": "https://localhost:8080/"
        },
        "id": "er2r3BpDFJXA",
        "outputId": "2332a974-1846-401d-9ec4-2b7d321e8c49"
      },
      "execution_count": 21,
      "outputs": [
        {
          "output_type": "stream",
          "name": "stdout",
          "text": [
            "+--------+--------+-------------+---------+-------+--------------+--------------+-------------------+---------------+-----------------+--------------------+--------------------+----------+\n",
            "|location|bodypart|assist_method|situation|is_goal|location_index|bodypart_index|assist_method_index|situation_index|         features|       rawPrediction|         probability|prediction|\n",
            "+--------+--------+-------------+---------+-------+--------------+--------------+-------------------+---------------+-----------------+--------------------+--------------------+----------+\n",
            "|      10|       1|            0|        1|      0|           5.0|           0.0|                1.0|            0.0|[5.0,0.0,1.0,0.0]|[0.56875347087723...|[0.75722161650791...|       0.0|\n",
            "|      10|       1|            0|        1|      0|           5.0|           0.0|                1.0|            0.0|[5.0,0.0,1.0,0.0]|[0.56875347087723...|[0.75722161650791...|       0.0|\n",
            "|      10|       1|            0|        1|      0|           5.0|           0.0|                1.0|            0.0|[5.0,0.0,1.0,0.0]|[0.56875347087723...|[0.75722161650791...|       0.0|\n",
            "|      10|       1|            0|        1|      0|           5.0|           0.0|                1.0|            0.0|[5.0,0.0,1.0,0.0]|[0.56875347087723...|[0.75722161650791...|       0.0|\n",
            "|      10|       1|            0|        1|      0|           5.0|           0.0|                1.0|            0.0|[5.0,0.0,1.0,0.0]|[0.56875347087723...|[0.75722161650791...|       0.0|\n",
            "+--------+--------+-------------+---------+-------+--------------+--------------+-------------------+---------------+-----------------+--------------------+--------------------+----------+\n",
            "only showing top 5 rows\n",
            "\n"
          ]
        }
      ]
    },
    {
      "cell_type": "markdown",
      "source": [
        "# Evaluate our model"
      ],
      "metadata": {
        "id": "Yrmiw5Aq3m6-"
      }
    },
    {
      "cell_type": "code",
      "source": [
        "# Evaluate our model\n",
        "evaluator = MulticlassClassificationEvaluator(\n",
        "    labelCol='is_goal', \n",
        "    predictionCol='prediction', \n",
        "    metricName='accuracy')"
      ],
      "metadata": {
        "id": "dZFhLupdFO-I"
      },
      "execution_count": 22,
      "outputs": []
    },
    {
      "cell_type": "markdown",
      "source": [
        "# Calculate Test Accuracy"
      ],
      "metadata": {
        "id": "tZ4jTiw-3fl2"
      }
    },
    {
      "cell_type": "code",
      "source": [
        "accuracy = evaluator.evaluate(predictions)\n",
        "print('Test Accuracy = ', accuracy)"
      ],
      "metadata": {
        "colab": {
          "base_uri": "https://localhost:8080/"
        },
        "id": "t-sDUrKPFUJ3",
        "outputId": "7b426976-f338-4ed7-9eae-8872d6294692"
      },
      "execution_count": 23,
      "outputs": [
        {
          "output_type": "stream",
          "name": "stdout",
          "text": [
            "Test Accuracy =  0.9099085365853659\n"
          ]
        }
      ]
    },
    {
      "cell_type": "code",
      "source": [
        "from pyspark.ml.evaluation import RegressionEvaluator\n",
        "\n",
        "regEvaluator = RegressionEvaluator(\n",
        "    labelCol='is_goal', \n",
        "    predictionCol='prediction', \n",
        "    metricName='rmse')\n",
        "\n",
        "rmse = regEvaluator.evaluate(predictions)\n",
        "print('RMSE = ', rmse)"
      ],
      "metadata": {
        "id": "96kMZaAkCTDf",
        "outputId": "e6ce376a-d067-4094-db53-a525941ac22c",
        "colab": {
          "base_uri": "https://localhost:8080/"
        }
      },
      "execution_count": 24,
      "outputs": [
        {
          "output_type": "stream",
          "name": "stdout",
          "text": [
            "RMSE =  0.3001524003146304\n"
          ]
        }
      ]
    },
    {
      "cell_type": "markdown",
      "source": [
        "# Player Analysis"
      ],
      "metadata": {
        "id": "bUgokzg7UZLf"
      }
    },
    {
      "cell_type": "code",
      "source": [
        "pred = model.transform(transformed_data)\n",
        "pred.show(truncate=False)"
      ],
      "metadata": {
        "colab": {
          "base_uri": "https://localhost:8080/"
        },
        "id": "V4w00_C-C11Y",
        "outputId": "ca692950-d81e-4746-92a1-e19995525fb8"
      },
      "execution_count": 25,
      "outputs": [
        {
          "output_type": "stream",
          "name": "stdout",
          "text": [
            "+--------+--------+-------------+---------+-------+--------------+--------------+-------------------+---------------+------------------+----------------------------------------+-----------------------------------------+----------+\n",
            "|location|bodypart|assist_method|situation|is_goal|location_index|bodypart_index|assist_method_index|situation_index|features          |rawPrediction                           |probability                              |prediction|\n",
            "+--------+--------+-------------+---------+-------+--------------+--------------+-------------------+---------------+------------------+----------------------------------------+-----------------------------------------+----------+\n",
            "|9       |2       |1            |1        |0      |2.0           |1.0           |0.0                |0.0            |[2.0,1.0,0.0,0.0] |[1.2201289947132952,-1.2201289947132952]|[0.9198461112527107,0.08015388874728935] |0.0       |\n",
            "|15      |1       |1            |1        |0      |0.0           |0.0           |0.0                |0.0            |(4,[],[])         |[1.3806342169135524,-1.3806342169135524]|[0.9405466028305466,0.059453397169453415]|0.0       |\n",
            "|9       |2       |1            |1        |1      |2.0           |1.0           |0.0                |0.0            |[2.0,1.0,0.0,0.0] |[1.2201289947132952,-1.2201289947132952]|[0.9198461112527107,0.08015388874728935] |0.0       |\n",
            "|15      |1       |0            |1        |0      |0.0           |0.0           |1.0                |0.0            |(4,[2],[1.0])     |[1.4218827795213407,-1.4218827795213407]|[0.944995520455419,0.055004479544580986] |0.0       |\n",
            "|15      |1       |0            |1        |0      |0.0           |0.0           |1.0                |0.0            |(4,[2],[1.0])     |[1.4218827795213407,-1.4218827795213407]|[0.944995520455419,0.055004479544580986] |0.0       |\n",
            "|3       |1       |1            |1        |0      |1.0           |0.0           |0.0                |0.0            |(4,[0],[1.0])     |[0.686284148843709,-0.686284148843709]  |[0.7977947837922104,0.20220521620778964] |0.0       |\n",
            "|15      |2       |0            |1        |0      |0.0           |1.0           |1.0                |0.0            |[0.0,1.0,1.0,0.0] |[1.4218827795213407,-1.4218827795213407]|[0.944995520455419,0.055004479544580986] |0.0       |\n",
            "|3       |3       |2            |1        |0      |1.0           |2.0           |2.0                |0.0            |[1.0,2.0,2.0,0.0] |[1.1277543468762385,-1.1277543468762385]|[0.9051246456637085,0.09487535433629146] |0.0       |\n",
            "|9       |1       |1            |1        |0      |2.0           |0.0           |0.0                |0.0            |(4,[0],[2.0])     |[1.2144446317491713,-1.2144446317491713]|[0.919003892762881,0.08099610723711903]  |0.0       |\n",
            "|3       |1       |1            |1        |1      |1.0           |0.0           |0.0                |0.0            |(4,[0],[1.0])     |[0.686284148843709,-0.686284148843709]  |[0.7977947837922104,0.20220521620778964] |0.0       |\n",
            "|11      |1       |0            |1        |0      |3.0           |0.0           |1.0                |0.0            |[3.0,0.0,1.0,0.0] |[1.237696979967118,-1.237696979967118]  |[0.9223987415141033,0.07760125848589672] |0.0       |\n",
            "|15      |2       |0            |1        |0      |0.0           |1.0           |1.0                |0.0            |[0.0,1.0,1.0,0.0] |[1.4218827795213407,-1.4218827795213407]|[0.944995520455419,0.055004479544580986] |0.0       |\n",
            "|9       |3       |2            |1        |0      |2.0           |2.0           |2.0                |0.0            |[2.0,2.0,2.0,0.0] |[1.4189845310952485,-1.4189845310952485]|[0.9446934460928101,0.05530655390718986] |0.0       |\n",
            "|11      |1       |1            |1        |0      |3.0           |0.0           |0.0                |0.0            |(4,[0],[3.0])     |[1.2066296539322812,-1.2066296539322812]|[0.9178328199530984,0.0821671800469016]  |0.0       |\n",
            "|3       |1       |1            |1        |0      |1.0           |0.0           |0.0                |0.0            |(4,[0],[1.0])     |[0.686284148843709,-0.686284148843709]  |[0.7977947837922104,0.20220521620778964] |0.0       |\n",
            "|13      |1       |0            |3        |1      |4.0           |0.0           |1.0                |1.0            |[4.0,0.0,1.0,1.0] |[-0.7076532200303889,0.7076532200303889]|[0.19539844036964402,0.804601559630356]  |1.0       |\n",
            "|15      |1       |3            |1        |0      |0.0           |0.0           |3.0                |0.0            |(4,[2],[3.0])     |[1.3806342169135524,-1.3806342169135524]|[0.9405466028305466,0.059453397169453415]|0.0       |\n",
            "|16      |2       |0            |1        |0      |10.0          |1.0           |1.0                |0.0            |[10.0,1.0,1.0,0.0]|[1.4362376987088261,-1.4362376987088261]|[0.9464689039835519,0.05353109601644812] |0.0       |\n",
            "|3       |1       |2            |1        |0      |1.0           |0.0           |2.0                |0.0            |[1.0,0.0,2.0,0.0] |[0.8974152121016319,-0.8974152121016319]|[0.8575184801788033,0.14248151982119672] |0.0       |\n",
            "|3       |3       |2            |1        |0      |1.0           |2.0           |2.0                |0.0            |[1.0,2.0,2.0,0.0] |[1.1277543468762385,-1.1277543468762385]|[0.9051246456637085,0.09487535433629146] |0.0       |\n",
            "+--------+--------+-------------+---------+-------+--------------+--------------+-------------------+---------------+------------------+----------------------------------------+-----------------------------------------+----------+\n",
            "only showing top 20 rows\n",
            "\n"
          ]
        }
      ]
    },
    {
      "cell_type": "code",
      "source": [
        "from pyspark.sql.types import FloatType\n",
        "\n",
        "firstelement=udf(lambda v:float(v[0]),FloatType())\n",
        "\n",
        "prob = pred.select(firstelement('probability'), 'is_goal')\n",
        "\n",
        "print(prob.count())\n",
        "# prob.show(2)\n",
        "\n",
        "shotsDF = shotsDF.join(prob[['is_goal', '<lambda>(probability)']], on='is_goal', how='left')\n",
        "shotsDF.show(5)"
      ],
      "metadata": {
        "colab": {
          "base_uri": "https://localhost:8080/"
        },
        "id": "vYY75iJklTSY",
        "outputId": "0a0989d8-55d8-4bab-c6c9-43e9f25484e3"
      },
      "execution_count": 26,
      "outputs": [
        {
          "output_type": "stream",
          "name": "stdout",
          "text": [
            "229134\n",
            "+-------+---------+----------+----------+----+--------------------+----------+-----------+----+-----------------+----------+-----------------+-----------+---------+----------+----------+------------+--------+--------+-------------+---------+----------+-------+-------------------+----+---------------------+\n",
            "|is_goal|  id_odsp|  id_event|sort_order|time|                text|event_type|event_type2|side|       event_team|  opponent|           player|    player2|player_in|player_out|shot_place|shot_outcome|location|bodypart|assist_method|situation|fast_break|country|               date|year|<lambda>(probability)|\n",
            "+-------+---------+----------+----------+----+--------------------+----------+-----------+----+-----------------+----------+-----------------+-----------+---------+----------+----------+------------+--------+--------+-------------+---------+----------+-------+-------------------+----+---------------------+\n",
            "|      1|UFot0hit/|UFot0hit14|        14|  17|Goal!  Borussia D...|         1|         12|   1|Borussia Dortmund|Hamburg SV|Kevin Grosskreutz|Mario Gotze|       NA|        NA|         4|           1|       9|       2|            1|        1|         0|Germany|2011-08-05 00:00:00|2011|           0.22637102|\n",
            "|      1|UFot0hit/|UFot0hit14|        14|  17|Goal!  Borussia D...|         1|         12|   1|Borussia Dortmund|Hamburg SV|Kevin Grosskreutz|Mario Gotze|       NA|        NA|         4|           1|       9|       2|            1|        1|         0|Germany|2011-08-05 00:00:00|2011|            0.9178328|\n",
            "|      1|UFot0hit/|UFot0hit14|        14|  17|Goal!  Borussia D...|         1|         12|   1|Borussia Dortmund|Hamburg SV|Kevin Grosskreutz|Mario Gotze|       NA|        NA|         4|           1|       9|       2|            1|        1|         0|Germany|2011-08-05 00:00:00|2011|           0.92274296|\n",
            "|      1|UFot0hit/|UFot0hit14|        14|  17|Goal!  Borussia D...|         1|         12|   1|Borussia Dortmund|Hamburg SV|Kevin Grosskreutz|Mario Gotze|       NA|        NA|         4|           1|       9|       2|            1|        1|         0|Germany|2011-08-05 00:00:00|2011|            0.9198461|\n",
            "|      1|UFot0hit/|UFot0hit14|        14|  17|Goal!  Borussia D...|         1|         12|   1|Borussia Dortmund|Hamburg SV|Kevin Grosskreutz|Mario Gotze|       NA|        NA|         4|           1|       9|       2|            1|        1|         0|Germany|2011-08-05 00:00:00|2011|            0.8202112|\n",
            "+-------+---------+----------+----------+----+--------------------+----------+-----------+----+-----------------+----------+-----------------+-----------+---------+----------+----------+------------+--------+--------+-------------+---------+----------+-------+-------------------+----+---------------------+\n",
            "only showing top 5 rows\n",
            "\n"
          ]
        }
      ]
    },
    {
      "cell_type": "code",
      "source": [
        "# newDf = shotsDF.withColumn(\"prediction\", pred.probability)"
      ],
      "metadata": {
        "id": "Iicijod3DXq4"
      },
      "execution_count": 27,
      "outputs": []
    },
    {
      "cell_type": "code",
      "source": [
        "shotsDF = shotsDF.withColumn('difference', shotsDF['<lambda>(probability)'] - shotsDF.is_goal)\n",
        "players = shotsDF.groupBy('player').sum('is_goal')"
      ],
      "metadata": {
        "id": "exlnw6NDUbii"
      },
      "execution_count": 28,
      "outputs": []
    },
    {
      "cell_type": "code",
      "source": [
        "shotsDF.show(5)"
      ],
      "metadata": {
        "colab": {
          "base_uri": "https://localhost:8080/"
        },
        "id": "_z4VLvCLVqOI",
        "outputId": "d285401b-5ef5-4b11-83c4-f8b76cfe34e7"
      },
      "execution_count": 29,
      "outputs": [
        {
          "output_type": "stream",
          "name": "stdout",
          "text": [
            "+-------+---------+----------+----------+----+--------------------+----------+-----------+----+-----------------+----------+-----------------+-----------+---------+----------+----------+------------+--------+--------+-------------+---------+----------+-------+-------------------+----+---------------------+-----------+\n",
            "|is_goal|  id_odsp|  id_event|sort_order|time|                text|event_type|event_type2|side|       event_team|  opponent|           player|    player2|player_in|player_out|shot_place|shot_outcome|location|bodypart|assist_method|situation|fast_break|country|               date|year|<lambda>(probability)| difference|\n",
            "+-------+---------+----------+----------+----+--------------------+----------+-----------+----+-----------------+----------+-----------------+-----------+---------+----------+----------+------------+--------+--------+-------------+---------+----------+-------+-------------------+----+---------------------+-----------+\n",
            "|      1|UFot0hit/|UFot0hit14|        14|  17|Goal!  Borussia D...|         1|         12|   1|Borussia Dortmund|Hamburg SV|Kevin Grosskreutz|Mario Gotze|       NA|        NA|         4|           1|       9|       2|            1|        1|         0|Germany|2011-08-05 00:00:00|2011|           0.22637102|-0.77362895|\n",
            "|      1|UFot0hit/|UFot0hit14|        14|  17|Goal!  Borussia D...|         1|         12|   1|Borussia Dortmund|Hamburg SV|Kevin Grosskreutz|Mario Gotze|       NA|        NA|         4|           1|       9|       2|            1|        1|         0|Germany|2011-08-05 00:00:00|2011|            0.9178328|-0.08216721|\n",
            "|      1|UFot0hit/|UFot0hit14|        14|  17|Goal!  Borussia D...|         1|         12|   1|Borussia Dortmund|Hamburg SV|Kevin Grosskreutz|Mario Gotze|       NA|        NA|         4|           1|       9|       2|            1|        1|         0|Germany|2011-08-05 00:00:00|2011|           0.92274296|-0.07725704|\n",
            "|      1|UFot0hit/|UFot0hit14|        14|  17|Goal!  Borussia D...|         1|         12|   1|Borussia Dortmund|Hamburg SV|Kevin Grosskreutz|Mario Gotze|       NA|        NA|         4|           1|       9|       2|            1|        1|         0|Germany|2011-08-05 00:00:00|2011|            0.9198461|-0.08015388|\n",
            "|      1|UFot0hit/|UFot0hit14|        14|  17|Goal!  Borussia D...|         1|         12|   1|Borussia Dortmund|Hamburg SV|Kevin Grosskreutz|Mario Gotze|       NA|        NA|         4|           1|       9|       2|            1|        1|         0|Germany|2011-08-05 00:00:00|2011|            0.8202112|-0.17978883|\n",
            "+-------+---------+----------+----------+----+--------------------+----------+-----------+----+-----------------+----------+-----------------+-----------+---------+----------+----------+------------+--------+--------+-------------+---------+----------+-------+-------------------+----+---------------------+-----------+\n",
            "only showing top 5 rows\n",
            "\n"
          ]
        }
      ]
    },
    {
      "cell_type": "code",
      "source": [
        "players.show(5)"
      ],
      "metadata": {
        "id": "KX28invITB7v"
      },
      "execution_count": null,
      "outputs": []
    },
    {
      "cell_type": "code",
      "source": [
        "players = players.withColumn('ratio', players['sum(is_goal)'] / players['sum(<lambda>(probability))'])\n",
        "players.head(5)\n"
      ],
      "metadata": {
        "id": "3oANyV2SToSx"
      },
      "execution_count": null,
      "outputs": []
    }
  ],
  "metadata": {
    "kernelspec": {
      "name": "python3",
      "display_name": "Python 3",
      "language": "python"
    },
    "language_info": {
      "name": "python",
      "version": "3.6.6",
      "mimetype": "text/x-python",
      "codemirror_mode": {
        "name": "ipython",
        "version": 3
      },
      "pygments_lexer": "ipython3",
      "nbconvert_exporter": "python",
      "file_extension": ".py"
    },
    "colab": {
      "provenance": [],
      "include_colab_link": true
    },
    "accelerator": "GPU",
    "gpuClass": "standard"
  },
  "nbformat": 4,
  "nbformat_minor": 0
}