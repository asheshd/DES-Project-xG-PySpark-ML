{
  "cells": [
    {
      "cell_type": "markdown",
      "source": [
        "# DA 231o Data Engineering at Scale Project\n",
        "\n"
      ],
      "metadata": {
        "id": "_Mp4yFaY5aX4"
      }
    },
    {
      "metadata": {
        "id": "CtBw-HfrqKEU"
      },
      "cell_type": "markdown",
      "source": [
        "# Expected Goals Model & Player Analysis"
      ]
    },
    {
      "cell_type": "markdown",
      "source": [
        "### Import Libraries"
      ],
      "metadata": {
        "id": "dyNnALy4o3n1"
      }
    },
    {
      "cell_type": "code",
      "source": [
        "!pip install pyspark"
      ],
      "metadata": {
        "colab": {
          "base_uri": "https://localhost:8080/"
        },
        "id": "yf4nn9Njzf6l",
        "outputId": "623bb496-2eee-4f9f-bfb8-cea9c2113aed"
      },
      "execution_count": 1,
      "outputs": [
        {
          "output_type": "stream",
          "name": "stdout",
          "text": [
            "Looking in indexes: https://pypi.org/simple, https://us-python.pkg.dev/colab-wheels/public/simple/\n",
            "Requirement already satisfied: pyspark in /usr/local/lib/python3.7/dist-packages (3.3.1)\n",
            "Requirement already satisfied: py4j==0.10.9.5 in /usr/local/lib/python3.7/dist-packages (from pyspark) (0.10.9.5)\n"
          ]
        }
      ]
    },
    {
      "metadata": {
        "_kg_hide-output": true,
        "trusted": true,
        "id": "-q6iNmVPqKEb"
      },
      "cell_type": "code",
      "source": [
        "import pandas as pd\n",
        "import numpy as np\n",
        "import matplotlib.pyplot as plt\n",
        "import seaborn as sns\n",
        "from datetime import datetime\n",
        "\n",
        "import pyspark\n",
        "pyspark.__version__\n",
        "\n",
        "from pyspark.ml import Pipeline\n",
        "from pyspark.ml.feature import StringIndexer, VectorAssembler\n",
        "from pyspark.ml.classification import GBTClassifier\n",
        "from pyspark.ml.evaluation import MulticlassClassificationEvaluator\n",
        "\n",
        "from pyspark.sql import SparkSession\n",
        "from pyspark.sql.functions import udf, regexp_replace, when"
      ],
      "execution_count": 2,
      "outputs": []
    },
    {
      "metadata": {
        "id": "ieW3Bcy1qKEf"
      },
      "cell_type": "markdown",
      "source": [
        "# Load input Dataset with Goals"
      ]
    },
    {
      "cell_type": "code",
      "source": [
        "# Mount the drive\n",
        "\n",
        "from google.colab import drive\n",
        "drive.mount('/content/drive')"
      ],
      "metadata": {
        "colab": {
          "base_uri": "https://localhost:8080/"
        },
        "id": "2GbdFJR4ukCV",
        "outputId": "3feea06c-b67f-4687-c0d7-3a3c8cd6cb79"
      },
      "execution_count": 3,
      "outputs": [
        {
          "output_type": "stream",
          "name": "stdout",
          "text": [
            "Drive already mounted at /content/drive; to attempt to forcibly remount, call drive.mount(\"/content/drive\", force_remount=True).\n"
          ]
        }
      ]
    },
    {
      "cell_type": "code",
      "source": [
        "# Read the csv file for visualization. We do not use this data anywhere in our model\n",
        "\n",
        "data = pd.read_csv('/content/drive/Shareddrives/DES_Project/events.csv')"
      ],
      "metadata": {
        "id": "4hqvNNn-2krm"
      },
      "execution_count": 4,
      "outputs": []
    },
    {
      "metadata": {
        "trusted": true,
        "colab": {
          "base_uri": "https://localhost:8080/"
        },
        "id": "CEALMyjtqKEk",
        "outputId": "b796e8b1-9f9e-4874-bbb7-aad840ca2785"
      },
      "cell_type": "code",
      "source": [
        "print(len(data))\n",
        "print(data.is_goal.sum())\n",
        "print(len(data.columns)-1)"
      ],
      "execution_count": 5,
      "outputs": [
        {
          "output_type": "stream",
          "name": "stdout",
          "text": [
            "941009\n",
            "24446\n",
            "21\n"
          ]
        }
      ]
    },
    {
      "cell_type": "code",
      "source": [
        "data.columns"
      ],
      "metadata": {
        "colab": {
          "base_uri": "https://localhost:8080/"
        },
        "id": "DSjuHa4gpdlY",
        "outputId": "435dd92e-57a1-4b4b-9b7b-741d37e38bae"
      },
      "execution_count": 6,
      "outputs": [
        {
          "output_type": "execute_result",
          "data": {
            "text/plain": [
              "Index(['id_odsp', 'id_event', 'sort_order', 'time', 'text', 'event_type',\n",
              "       'event_type2', 'side', 'event_team', 'opponent', 'player', 'player2',\n",
              "       'player_in', 'player_out', 'shot_place', 'shot_outcome', 'is_goal',\n",
              "       'location', 'bodypart', 'assist_method', 'situation', 'fast_break'],\n",
              "      dtype='object')"
            ]
          },
          "metadata": {},
          "execution_count": 6
        }
      ]
    },
    {
      "cell_type": "code",
      "source": [
        "# Create spark session\n",
        "\n",
        "spark = SparkSession \\\n",
        "    .builder \\\n",
        "    .appName('xG Project Solution') \\\n",
        "    .getOrCreate()\n",
        "  \n",
        "spark"
      ],
      "metadata": {
        "colab": {
          "base_uri": "https://localhost:8080/",
          "height": 216
        },
        "id": "vlDbnrOAzpec",
        "outputId": "6869afcb-4825-4902-bb2d-d9caa527a7e4"
      },
      "execution_count": 7,
      "outputs": [
        {
          "output_type": "execute_result",
          "data": {
            "text/plain": [
              "<pyspark.sql.session.SparkSession at 0x7f9c96d46710>"
            ],
            "text/html": [
              "\n",
              "            <div>\n",
              "                <p><b>SparkSession - in-memory</b></p>\n",
              "                \n",
              "        <div>\n",
              "            <p><b>SparkContext</b></p>\n",
              "\n",
              "            <p><a href=\"http://ab9dcd5dc13c:4040\">Spark UI</a></p>\n",
              "\n",
              "            <dl>\n",
              "              <dt>Version</dt>\n",
              "                <dd><code>v3.3.1</code></dd>\n",
              "              <dt>Master</dt>\n",
              "                <dd><code>local[*]</code></dd>\n",
              "              <dt>AppName</dt>\n",
              "                <dd><code>xG Project Solution</code></dd>\n",
              "            </dl>\n",
              "        </div>\n",
              "        \n",
              "            </div>\n",
              "        "
            ]
          },
          "metadata": {},
          "execution_count": 7
        }
      ]
    },
    {
      "cell_type": "code",
      "source": [
        "# Load the events and the info as spark sql dataframes\n",
        "\n",
        "eventsDF = spark.read.option(\"header\", True).option(\"inferSchema\", True).option(\"nullable\", 'NA').csv('/content/drive/Shareddrives/DES_Project/events.csv')\n",
        "infoDF = spark.read.option(\"header\", True).option(\"inferSchema\", True).option(\"nullable\", 'NA').csv('/content/drive/Shareddrives/DES_Project/ginf.csv')"
      ],
      "metadata": {
        "id": "0NC9jfLolPV3"
      },
      "execution_count": 8,
      "outputs": []
    },
    {
      "cell_type": "code",
      "source": [
        "# Print Schema\n",
        "\n",
        "eventsDF.printSchema()\n",
        "\n",
        "infoDF.printSchema()"
      ],
      "metadata": {
        "colab": {
          "base_uri": "https://localhost:8080/"
        },
        "id": "ayxLl6RbmAkQ",
        "outputId": "e394aae9-29c7-42b8-f4e1-ca995a900d5e"
      },
      "execution_count": 9,
      "outputs": [
        {
          "output_type": "stream",
          "name": "stdout",
          "text": [
            "root\n",
            " |-- id_odsp: string (nullable = true)\n",
            " |-- id_event: string (nullable = true)\n",
            " |-- sort_order: integer (nullable = true)\n",
            " |-- time: integer (nullable = true)\n",
            " |-- text: string (nullable = true)\n",
            " |-- event_type: integer (nullable = true)\n",
            " |-- event_type2: string (nullable = true)\n",
            " |-- side: integer (nullable = true)\n",
            " |-- event_team: string (nullable = true)\n",
            " |-- opponent: string (nullable = true)\n",
            " |-- player: string (nullable = true)\n",
            " |-- player2: string (nullable = true)\n",
            " |-- player_in: string (nullable = true)\n",
            " |-- player_out: string (nullable = true)\n",
            " |-- shot_place: string (nullable = true)\n",
            " |-- shot_outcome: string (nullable = true)\n",
            " |-- is_goal: integer (nullable = true)\n",
            " |-- location: string (nullable = true)\n",
            " |-- bodypart: string (nullable = true)\n",
            " |-- assist_method: integer (nullable = true)\n",
            " |-- situation: string (nullable = true)\n",
            " |-- fast_break: integer (nullable = true)\n",
            "\n",
            "root\n",
            " |-- id_odsp: string (nullable = true)\n",
            " |-- link_odsp: string (nullable = true)\n",
            " |-- adv_stats: boolean (nullable = true)\n",
            " |-- date: timestamp (nullable = true)\n",
            " |-- league: string (nullable = true)\n",
            " |-- season: integer (nullable = true)\n",
            " |-- country: string (nullable = true)\n",
            " |-- ht: string (nullable = true)\n",
            " |-- at: string (nullable = true)\n",
            " |-- fthg: integer (nullable = true)\n",
            " |-- ftag: integer (nullable = true)\n",
            " |-- odd_h: double (nullable = true)\n",
            " |-- odd_d: double (nullable = true)\n",
            " |-- odd_a: double (nullable = true)\n",
            " |-- odd_over: string (nullable = true)\n",
            " |-- odd_under: string (nullable = true)\n",
            " |-- odd_bts: string (nullable = true)\n",
            " |-- odd_bts_n: string (nullable = true)\n",
            "\n"
          ]
        }
      ]
    },
    {
      "cell_type": "code",
      "source": [
        "# Verify if the data loaded is correct and in the proper format\n",
        "\n",
        "eventsDF.show(10)\n",
        "type(eventsDF)"
      ],
      "metadata": {
        "colab": {
          "base_uri": "https://localhost:8080/"
        },
        "id": "XCQEoR-4lbGB",
        "outputId": "3b4eee93-7ee1-4d8c-ed33-d05c8da538d5"
      },
      "execution_count": 10,
      "outputs": [
        {
          "output_type": "stream",
          "name": "stdout",
          "text": [
            "+---------+----------+----------+----+--------------------+----------+-----------+----+-----------------+-----------------+-------------------+----------------+---------+----------+----------+------------+-------+--------+--------+-------------+---------+----------+\n",
            "|  id_odsp|  id_event|sort_order|time|                text|event_type|event_type2|side|       event_team|         opponent|             player|         player2|player_in|player_out|shot_place|shot_outcome|is_goal|location|bodypart|assist_method|situation|fast_break|\n",
            "+---------+----------+----------+----+--------------------+----------+-----------+----+-----------------+-----------------+-------------------+----------------+---------+----------+----------+------------+-------+--------+--------+-------------+---------+----------+\n",
            "|UFot0hit/| UFot0hit1|         1|   2|Attempt missed. M...|         1|         12|   2|       Hamburg SV|Borussia Dortmund|      mladen petric|     gokhan tore|       NA|        NA|         6|           2|      0|       9|       2|            1|        1|         0|\n",
            "|UFot0hit/| UFot0hit2|         2|   4|Corner,  Borussia...|         2|         NA|   1|Borussia Dortmund|       Hamburg SV|   dennis diekmeier|dennis diekmeier|       NA|        NA|        NA|          NA|      0|      NA|      NA|            0|       NA|         0|\n",
            "|UFot0hit/| UFot0hit3|         3|   4|Corner,  Borussia...|         2|         NA|   1|Borussia Dortmund|       Hamburg SV|   heiko westermann|heiko westermann|       NA|        NA|        NA|          NA|      0|      NA|      NA|            0|       NA|         0|\n",
            "|UFot0hit/| UFot0hit4|         4|   7|Foul by Sven Bend...|         3|         NA|   1|Borussia Dortmund|       Hamburg SV|        sven bender|              NA|       NA|        NA|        NA|          NA|      0|      NA|      NA|            0|       NA|         0|\n",
            "|UFot0hit/| UFot0hit5|         5|   7|Gokhan Tore (Hamb...|         8|         NA|   2|       Hamburg SV|Borussia Dortmund|        gokhan tore|              NA|       NA|        NA|        NA|          NA|      0|       2|      NA|            0|       NA|         0|\n",
            "|UFot0hit/| UFot0hit6|         6|   9|Hand ball by Jose...|        10|         NA|   2|       Hamburg SV|Borussia Dortmund|jose paolo guerrero|              NA|       NA|        NA|        NA|          NA|      0|      NA|      NA|            0|       NA|         0|\n",
            "|UFot0hit/| UFot0hit7|         7|  10|Corner,  Hamburg....|         2|         NA|   2|       Hamburg SV|Borussia Dortmund|    lukasz piszczek| lukasz piszczek|       NA|        NA|        NA|          NA|      0|      NA|      NA|            0|       NA|         0|\n",
            "|UFot0hit/| UFot0hit8|         8|  11|Chris Lowe (Borus...|         8|         NA|   1|Borussia Dortmund|       Hamburg SV|         chris lowe|              NA|       NA|        NA|        NA|          NA|      0|       2|      NA|            0|       NA|         0|\n",
            "|UFot0hit/| UFot0hit9|         9|  11|Foul by Gojko Kac...|         3|         NA|   2|       Hamburg SV|Borussia Dortmund|        gojko kacar|              NA|       NA|        NA|        NA|          NA|      0|      NA|      NA|            0|       NA|         0|\n",
            "|UFot0hit/|UFot0hit10|        10|  13|Foul by Gokhan To...|         3|         NA|   2|       Hamburg SV|Borussia Dortmund|        gokhan tore|              NA|       NA|        NA|        NA|          NA|      0|      NA|      NA|            0|       NA|         0|\n",
            "+---------+----------+----------+----+--------------------+----------+-----------+----+-----------------+-----------------+-------------------+----------------+---------+----------+----------+------------+-------+--------+--------+-------------+---------+----------+\n",
            "only showing top 10 rows\n",
            "\n"
          ]
        },
        {
          "output_type": "execute_result",
          "data": {
            "text/plain": [
              "pyspark.sql.dataframe.DataFrame"
            ]
          },
          "metadata": {},
          "execution_count": 10
        }
      ]
    },
    {
      "cell_type": "code",
      "source": [
        "# Join id_odsp, country, date columns from infoDF on id_odsp\n",
        "\n",
        "eventsDF = eventsDF.join(infoDF[['id_odsp', 'country', 'date']], on='id_odsp', how='left')\n",
        "eventsDF.printSchema()\n",
        "eventsDF.show(10)"
      ],
      "metadata": {
        "colab": {
          "base_uri": "https://localhost:8080/"
        },
        "id": "H1SHUd0Glrwc",
        "outputId": "85cba5f8-d0fa-41b1-c1e2-f8da990ff2d0"
      },
      "execution_count": 11,
      "outputs": [
        {
          "output_type": "stream",
          "name": "stdout",
          "text": [
            "root\n",
            " |-- id_odsp: string (nullable = true)\n",
            " |-- id_event: string (nullable = true)\n",
            " |-- sort_order: integer (nullable = true)\n",
            " |-- time: integer (nullable = true)\n",
            " |-- text: string (nullable = true)\n",
            " |-- event_type: integer (nullable = true)\n",
            " |-- event_type2: string (nullable = true)\n",
            " |-- side: integer (nullable = true)\n",
            " |-- event_team: string (nullable = true)\n",
            " |-- opponent: string (nullable = true)\n",
            " |-- player: string (nullable = true)\n",
            " |-- player2: string (nullable = true)\n",
            " |-- player_in: string (nullable = true)\n",
            " |-- player_out: string (nullable = true)\n",
            " |-- shot_place: string (nullable = true)\n",
            " |-- shot_outcome: string (nullable = true)\n",
            " |-- is_goal: integer (nullable = true)\n",
            " |-- location: string (nullable = true)\n",
            " |-- bodypart: string (nullable = true)\n",
            " |-- assist_method: integer (nullable = true)\n",
            " |-- situation: string (nullable = true)\n",
            " |-- fast_break: integer (nullable = true)\n",
            " |-- country: string (nullable = true)\n",
            " |-- date: timestamp (nullable = true)\n",
            "\n",
            "+---------+----------+----------+----+--------------------+----------+-----------+----+-----------------+-----------------+-------------------+----------------+---------+----------+----------+------------+-------+--------+--------+-------------+---------+----------+-------+-------------------+\n",
            "|  id_odsp|  id_event|sort_order|time|                text|event_type|event_type2|side|       event_team|         opponent|             player|         player2|player_in|player_out|shot_place|shot_outcome|is_goal|location|bodypart|assist_method|situation|fast_break|country|               date|\n",
            "+---------+----------+----------+----+--------------------+----------+-----------+----+-----------------+-----------------+-------------------+----------------+---------+----------+----------+------------+-------+--------+--------+-------------+---------+----------+-------+-------------------+\n",
            "|UFot0hit/| UFot0hit1|         1|   2|Attempt missed. M...|         1|         12|   2|       Hamburg SV|Borussia Dortmund|      mladen petric|     gokhan tore|       NA|        NA|         6|           2|      0|       9|       2|            1|        1|         0|germany|2011-08-05 00:00:00|\n",
            "|UFot0hit/| UFot0hit2|         2|   4|Corner,  Borussia...|         2|         NA|   1|Borussia Dortmund|       Hamburg SV|   dennis diekmeier|dennis diekmeier|       NA|        NA|        NA|          NA|      0|      NA|      NA|            0|       NA|         0|germany|2011-08-05 00:00:00|\n",
            "|UFot0hit/| UFot0hit3|         3|   4|Corner,  Borussia...|         2|         NA|   1|Borussia Dortmund|       Hamburg SV|   heiko westermann|heiko westermann|       NA|        NA|        NA|          NA|      0|      NA|      NA|            0|       NA|         0|germany|2011-08-05 00:00:00|\n",
            "|UFot0hit/| UFot0hit4|         4|   7|Foul by Sven Bend...|         3|         NA|   1|Borussia Dortmund|       Hamburg SV|        sven bender|              NA|       NA|        NA|        NA|          NA|      0|      NA|      NA|            0|       NA|         0|germany|2011-08-05 00:00:00|\n",
            "|UFot0hit/| UFot0hit5|         5|   7|Gokhan Tore (Hamb...|         8|         NA|   2|       Hamburg SV|Borussia Dortmund|        gokhan tore|              NA|       NA|        NA|        NA|          NA|      0|       2|      NA|            0|       NA|         0|germany|2011-08-05 00:00:00|\n",
            "|UFot0hit/| UFot0hit6|         6|   9|Hand ball by Jose...|        10|         NA|   2|       Hamburg SV|Borussia Dortmund|jose paolo guerrero|              NA|       NA|        NA|        NA|          NA|      0|      NA|      NA|            0|       NA|         0|germany|2011-08-05 00:00:00|\n",
            "|UFot0hit/| UFot0hit7|         7|  10|Corner,  Hamburg....|         2|         NA|   2|       Hamburg SV|Borussia Dortmund|    lukasz piszczek| lukasz piszczek|       NA|        NA|        NA|          NA|      0|      NA|      NA|            0|       NA|         0|germany|2011-08-05 00:00:00|\n",
            "|UFot0hit/| UFot0hit8|         8|  11|Chris Lowe (Borus...|         8|         NA|   1|Borussia Dortmund|       Hamburg SV|         chris lowe|              NA|       NA|        NA|        NA|          NA|      0|       2|      NA|            0|       NA|         0|germany|2011-08-05 00:00:00|\n",
            "|UFot0hit/| UFot0hit9|         9|  11|Foul by Gojko Kac...|         3|         NA|   2|       Hamburg SV|Borussia Dortmund|        gojko kacar|              NA|       NA|        NA|        NA|          NA|      0|      NA|      NA|            0|       NA|         0|germany|2011-08-05 00:00:00|\n",
            "|UFot0hit/|UFot0hit10|        10|  13|Foul by Gokhan To...|         3|         NA|   2|       Hamburg SV|Borussia Dortmund|        gokhan tore|              NA|       NA|        NA|        NA|          NA|      0|      NA|      NA|            0|       NA|         0|germany|2011-08-05 00:00:00|\n",
            "+---------+----------+----------+----+--------------------+----------+-----------+----+-----------------+-----------------+-------------------+----------------+---------+----------+----------+------------+-------+--------+--------+-------------+---------+----------+-------+-------------------+\n",
            "only showing top 10 rows\n",
            "\n"
          ]
        }
      ]
    },
    {
      "cell_type": "code",
      "source": [
        "# Extract year from the timestamp and append the column\n",
        "\n",
        "extract_year = lambda x: x.strftime(\"%Y\")\n",
        "extract_year_udf = udf(extract_year)\n",
        "eventsDF = eventsDF.withColumn(\"year\", extract_year_udf(\"date\"))\n",
        "eventsDF.show(10)"
      ],
      "metadata": {
        "colab": {
          "base_uri": "https://localhost:8080/"
        },
        "id": "qXUoh04hl4EC",
        "outputId": "0ab7b6c0-74f2-4969-8f6c-d3dec2c8ca7d"
      },
      "execution_count": 12,
      "outputs": [
        {
          "output_type": "stream",
          "name": "stdout",
          "text": [
            "+---------+----------+----------+----+--------------------+----------+-----------+----+-----------------+-----------------+-------------------+----------------+---------+----------+----------+------------+-------+--------+--------+-------------+---------+----------+-------+-------------------+----+\n",
            "|  id_odsp|  id_event|sort_order|time|                text|event_type|event_type2|side|       event_team|         opponent|             player|         player2|player_in|player_out|shot_place|shot_outcome|is_goal|location|bodypart|assist_method|situation|fast_break|country|               date|year|\n",
            "+---------+----------+----------+----+--------------------+----------+-----------+----+-----------------+-----------------+-------------------+----------------+---------+----------+----------+------------+-------+--------+--------+-------------+---------+----------+-------+-------------------+----+\n",
            "|UFot0hit/| UFot0hit1|         1|   2|Attempt missed. M...|         1|         12|   2|       Hamburg SV|Borussia Dortmund|      mladen petric|     gokhan tore|       NA|        NA|         6|           2|      0|       9|       2|            1|        1|         0|germany|2011-08-05 00:00:00|2011|\n",
            "|UFot0hit/| UFot0hit2|         2|   4|Corner,  Borussia...|         2|         NA|   1|Borussia Dortmund|       Hamburg SV|   dennis diekmeier|dennis diekmeier|       NA|        NA|        NA|          NA|      0|      NA|      NA|            0|       NA|         0|germany|2011-08-05 00:00:00|2011|\n",
            "|UFot0hit/| UFot0hit3|         3|   4|Corner,  Borussia...|         2|         NA|   1|Borussia Dortmund|       Hamburg SV|   heiko westermann|heiko westermann|       NA|        NA|        NA|          NA|      0|      NA|      NA|            0|       NA|         0|germany|2011-08-05 00:00:00|2011|\n",
            "|UFot0hit/| UFot0hit4|         4|   7|Foul by Sven Bend...|         3|         NA|   1|Borussia Dortmund|       Hamburg SV|        sven bender|              NA|       NA|        NA|        NA|          NA|      0|      NA|      NA|            0|       NA|         0|germany|2011-08-05 00:00:00|2011|\n",
            "|UFot0hit/| UFot0hit5|         5|   7|Gokhan Tore (Hamb...|         8|         NA|   2|       Hamburg SV|Borussia Dortmund|        gokhan tore|              NA|       NA|        NA|        NA|          NA|      0|       2|      NA|            0|       NA|         0|germany|2011-08-05 00:00:00|2011|\n",
            "|UFot0hit/| UFot0hit6|         6|   9|Hand ball by Jose...|        10|         NA|   2|       Hamburg SV|Borussia Dortmund|jose paolo guerrero|              NA|       NA|        NA|        NA|          NA|      0|      NA|      NA|            0|       NA|         0|germany|2011-08-05 00:00:00|2011|\n",
            "|UFot0hit/| UFot0hit7|         7|  10|Corner,  Hamburg....|         2|         NA|   2|       Hamburg SV|Borussia Dortmund|    lukasz piszczek| lukasz piszczek|       NA|        NA|        NA|          NA|      0|      NA|      NA|            0|       NA|         0|germany|2011-08-05 00:00:00|2011|\n",
            "|UFot0hit/| UFot0hit8|         8|  11|Chris Lowe (Borus...|         8|         NA|   1|Borussia Dortmund|       Hamburg SV|         chris lowe|              NA|       NA|        NA|        NA|          NA|      0|       2|      NA|            0|       NA|         0|germany|2011-08-05 00:00:00|2011|\n",
            "|UFot0hit/| UFot0hit9|         9|  11|Foul by Gojko Kac...|         3|         NA|   2|       Hamburg SV|Borussia Dortmund|        gojko kacar|              NA|       NA|        NA|        NA|          NA|      0|      NA|      NA|            0|       NA|         0|germany|2011-08-05 00:00:00|2011|\n",
            "|UFot0hit/|UFot0hit10|        10|  13|Foul by Gokhan To...|         3|         NA|   2|       Hamburg SV|Borussia Dortmund|        gokhan tore|              NA|       NA|        NA|        NA|          NA|      0|      NA|      NA|            0|       NA|         0|germany|2011-08-05 00:00:00|2011|\n",
            "+---------+----------+----------+----+--------------------+----------+-----------+----+-----------------+-----------------+-------------------+----------------+---------+----------+----------+------------+-------+--------+--------+-------------+---------+----------+-------+-------------------+----+\n",
            "only showing top 10 rows\n",
            "\n"
          ]
        }
      ]
    },
    {
      "cell_type": "code",
      "source": [
        "# Create shotsDF dataframe by filtering event type == 1\n",
        "\n",
        "shotsDF = eventsDF.filter(eventsDF.event_type==1)\n",
        "shotsDF = shotsDF.withColumn(\"player\", udf(lambda x: x.title())(\"player\"))\n",
        "shotsDF = shotsDF.withColumn(\"player2\", udf(lambda x: x.title())(\"player2\"))\n",
        "shotsDF = shotsDF.withColumn(\"country\", udf(lambda x: x.title())(\"country\"))\n",
        "shotsDF.show(10)"
      ],
      "metadata": {
        "colab": {
          "base_uri": "https://localhost:8080/"
        },
        "id": "ihVPdsJRln2x",
        "outputId": "5503cffd-c6c3-4101-f76a-5a137f73a6d6"
      },
      "execution_count": 13,
      "outputs": [
        {
          "output_type": "stream",
          "name": "stdout",
          "text": [
            "+---------+----------+----------+----+--------------------+----------+-----------+----+-----------------+-----------------+-----------------+------------------+---------+----------+----------+------------+-------+--------+--------+-------------+---------+----------+-------+-------------------+----+\n",
            "|  id_odsp|  id_event|sort_order|time|                text|event_type|event_type2|side|       event_team|         opponent|           player|           player2|player_in|player_out|shot_place|shot_outcome|is_goal|location|bodypart|assist_method|situation|fast_break|country|               date|year|\n",
            "+---------+----------+----------+----+--------------------+----------+-----------+----+-----------------+-----------------+-----------------+------------------+---------+----------+----------+------------+-------+--------+--------+-------------+---------+----------+-------+-------------------+----+\n",
            "|UFot0hit/| UFot0hit1|         1|   2|Attempt missed. M...|         1|         12|   2|       Hamburg SV|Borussia Dortmund|    Mladen Petric|       Gokhan Tore|       NA|        NA|         6|           2|      0|       9|       2|            1|        1|         0|Germany|2011-08-05 00:00:00|2011|\n",
            "|UFot0hit/|UFot0hit12|        12|  14|Attempt missed. S...|         1|         12|   1|Borussia Dortmund|       Hamburg SV|    Shinji Kagawa|       Mario Gotze|       NA|        NA|        13|           2|      0|      15|       1|            1|        1|         0|Germany|2011-08-05 00:00:00|2011|\n",
            "|UFot0hit/|UFot0hit14|        14|  17|Goal!  Borussia D...|         1|         12|   1|Borussia Dortmund|       Hamburg SV|Kevin Grosskreutz|       Mario Gotze|       NA|        NA|         4|           1|      1|       9|       2|            1|        1|         0|Germany|2011-08-05 00:00:00|2011|\n",
            "|UFot0hit/|UFot0hit15|        15|  19|Attempt blocked. ...|         1|         NA|   1|Borussia Dortmund|       Hamburg SV|     Mats Hummels|                Na|       NA|        NA|         2|           3|      0|      15|       1|            0|        1|         0|Germany|2011-08-05 00:00:00|2011|\n",
            "|UFot0hit/|UFot0hit18|        18|  20|Attempt blocked. ...|         1|         NA|   2|       Hamburg SV|Borussia Dortmund|     Tomas Rincon|                Na|       NA|        NA|         2|           3|      0|      15|       1|            0|        1|         0|Germany|2011-08-05 00:00:00|2011|\n",
            "|UFot0hit/|UFot0hit19|        19|  25|Shinji Kagawa (Bo...|         1|         12|   1|Borussia Dortmund|       Hamburg SV|    Shinji Kagawa|   Lukasz Piszczek|       NA|        NA|         7|           4|      0|       3|       1|            1|        1|         0|Germany|2011-08-05 00:00:00|2011|\n",
            "|UFot0hit/|UFot0hit21|        21|  25|Attempt blocked. ...|         1|         NA|   1|Borussia Dortmund|       Hamburg SV|   Ilkay Gundogan|                Na|       NA|        NA|         2|           3|      0|      15|       2|            0|        1|         0|Germany|2011-08-05 00:00:00|2011|\n",
            "|UFot0hit/|UFot0hit23|        23|  26|Attempt saved. Ma...|         1|         12|   1|Borussia Dortmund|       Hamburg SV|     Mats Hummels|        Chris Lowe|       NA|        NA|         5|           1|      0|       3|       3|            2|        1|         0|Germany|2011-08-05 00:00:00|2011|\n",
            "|UFot0hit/|UFot0hit26|        26|  28|Attempt missed. S...|         1|         12|   1|Borussia Dortmund|       Hamburg SV|    Shinji Kagawa| Kevin Grosskreutz|       NA|        NA|         9|           2|      0|       9|       1|            1|        1|         0|Germany|2011-08-05 00:00:00|2011|\n",
            "|UFot0hit/|UFot0hit27|        27|  29|Goal!  Borussia D...|         1|         12|   1|Borussia Dortmund|       Hamburg SV|      Mario Gotze|Robert Lewandowski|       NA|        NA|         5|           1|      1|       3|       1|            1|        1|         0|Germany|2011-08-05 00:00:00|2011|\n",
            "+---------+----------+----------+----+--------------------+----------+-----------+----+-----------------+-----------------+-----------------+------------------+---------+----------+----------+------------+-------+--------+--------+-------------+---------+----------+-------+-------------------+----+\n",
            "only showing top 10 rows\n",
            "\n"
          ]
        }
      ]
    },
    {
      "cell_type": "code",
      "source": [
        "# Filter the columns which have all the relevant information about the shot and predict if it is a goal or not\n",
        "# is_goal is the true label. We will not use this in the training\n",
        "\n",
        "input_cols = ['location', 'bodypart', 'assist_method', 'situation', 'is_goal']\n",
        "required_cols = ['location', 'bodypart', 'assist_method', 'situation']\n",
        "\n",
        "# Create dataDF dataframe with the selected input columns\n",
        "dataDF = shotsDF.select(input_cols)\n",
        "\n",
        "# Create string indexer list\n",
        "indexer = []\n",
        "\n",
        "# Convert each column into integer type using string indexer without losing any features\n",
        "for column in required_cols:\n",
        "  temp = StringIndexer(inputCol=column, outputCol=column+\"_index\")\n",
        "  indexer.append(temp)\n",
        "\n",
        "# Pipeline\n",
        "pipeline = Pipeline(stages=indexer)\n",
        "dataDF = pipeline.fit(dataDF).transform(dataDF)\n",
        "\n",
        "dataDF.show(10)"
      ],
      "metadata": {
        "colab": {
          "base_uri": "https://localhost:8080/"
        },
        "id": "7TCHrBkcmm3e",
        "outputId": "8194a54e-d341-4575-9fc0-9a41a82fb785"
      },
      "execution_count": 14,
      "outputs": [
        {
          "output_type": "stream",
          "name": "stdout",
          "text": [
            "+--------+--------+-------------+---------+-------+--------------+--------------+-------------------+---------------+\n",
            "|location|bodypart|assist_method|situation|is_goal|location_index|bodypart_index|assist_method_index|situation_index|\n",
            "+--------+--------+-------------+---------+-------+--------------+--------------+-------------------+---------------+\n",
            "|       9|       2|            1|        1|      0|           2.0|           1.0|                0.0|            0.0|\n",
            "|      15|       1|            1|        1|      0|           0.0|           0.0|                0.0|            0.0|\n",
            "|       9|       2|            1|        1|      1|           2.0|           1.0|                0.0|            0.0|\n",
            "|      15|       1|            0|        1|      0|           0.0|           0.0|                1.0|            0.0|\n",
            "|      15|       1|            0|        1|      0|           0.0|           0.0|                1.0|            0.0|\n",
            "|       3|       1|            1|        1|      0|           1.0|           0.0|                0.0|            0.0|\n",
            "|      15|       2|            0|        1|      0|           0.0|           1.0|                1.0|            0.0|\n",
            "|       3|       3|            2|        1|      0|           1.0|           2.0|                2.0|            0.0|\n",
            "|       9|       1|            1|        1|      0|           2.0|           0.0|                0.0|            0.0|\n",
            "|       3|       1|            1|        1|      1|           1.0|           0.0|                0.0|            0.0|\n",
            "+--------+--------+-------------+---------+-------+--------------+--------------+-------------------+---------------+\n",
            "only showing top 10 rows\n",
            "\n"
          ]
        }
      ]
    },
    {
      "cell_type": "markdown",
      "source": [
        "# Extended Goals with PySpark Machine Learning"
      ],
      "metadata": {
        "id": "vN2Yvehe4JSv"
      }
    },
    {
      "cell_type": "code",
      "source": [
        "required_features = list(dataDF.columns[-4:]) # remove 'is_goal' because it is the label\n",
        "\n",
        "assembler = VectorAssembler(inputCols=required_features, outputCol='features')\n",
        "transformed_data = assembler.transform(dataDF)\n",
        "\n",
        "transformed_data.show(10)"
      ],
      "metadata": {
        "colab": {
          "base_uri": "https://localhost:8080/"
        },
        "id": "MiD6yFkC_F5O",
        "outputId": "dc99d353-c67f-4acb-b5d6-3597eddd30e7"
      },
      "execution_count": 15,
      "outputs": [
        {
          "output_type": "stream",
          "name": "stdout",
          "text": [
            "+--------+--------+-------------+---------+-------+--------------+--------------+-------------------+---------------+-----------------+\n",
            "|location|bodypart|assist_method|situation|is_goal|location_index|bodypart_index|assist_method_index|situation_index|         features|\n",
            "+--------+--------+-------------+---------+-------+--------------+--------------+-------------------+---------------+-----------------+\n",
            "|       9|       2|            1|        1|      0|           2.0|           1.0|                0.0|            0.0|[2.0,1.0,0.0,0.0]|\n",
            "|      15|       1|            1|        1|      0|           0.0|           0.0|                0.0|            0.0|        (4,[],[])|\n",
            "|       9|       2|            1|        1|      1|           2.0|           1.0|                0.0|            0.0|[2.0,1.0,0.0,0.0]|\n",
            "|      15|       1|            0|        1|      0|           0.0|           0.0|                1.0|            0.0|    (4,[2],[1.0])|\n",
            "|      15|       1|            0|        1|      0|           0.0|           0.0|                1.0|            0.0|    (4,[2],[1.0])|\n",
            "|       3|       1|            1|        1|      0|           1.0|           0.0|                0.0|            0.0|    (4,[0],[1.0])|\n",
            "|      15|       2|            0|        1|      0|           0.0|           1.0|                1.0|            0.0|[0.0,1.0,1.0,0.0]|\n",
            "|       3|       3|            2|        1|      0|           1.0|           2.0|                2.0|            0.0|[1.0,2.0,2.0,0.0]|\n",
            "|       9|       1|            1|        1|      0|           2.0|           0.0|                0.0|            0.0|    (4,[0],[2.0])|\n",
            "|       3|       1|            1|        1|      1|           1.0|           0.0|                0.0|            0.0|    (4,[0],[1.0])|\n",
            "+--------+--------+-------------+---------+-------+--------------+--------------+-------------------+---------------+-----------------+\n",
            "only showing top 10 rows\n",
            "\n"
          ]
        }
      ]
    },
    {
      "cell_type": "code",
      "source": [
        "# Split the data into training and testing data\n",
        "\n",
        "(training_data, test_data) = transformed_data.randomSplit([0.8,0.2])\n",
        "\n",
        "print(\"Total Data\", transformed_data.count())\n",
        "print(\"Total Training Data\", training_data.count())\n",
        "print(\"Total Test Data\", test_data.count())\n",
        "\n",
        "print(\"Training Dataset\")\n",
        "training_data.show(5)"
      ],
      "metadata": {
        "colab": {
          "base_uri": "https://localhost:8080/"
        },
        "id": "PpkbwY7WEJCI",
        "outputId": "b330e6ad-ed93-43a0-8658-9524df4525a7"
      },
      "execution_count": 16,
      "outputs": [
        {
          "output_type": "stream",
          "name": "stdout",
          "text": [
            "Total Data 229135\n",
            "Total Training Data 183495\n",
            "Total Test Data 45640\n",
            "Training Dataset\n",
            "+--------+--------+-------------+---------+-------+--------------+--------------+-------------------+---------------+-----------------+\n",
            "|location|bodypart|assist_method|situation|is_goal|location_index|bodypart_index|assist_method_index|situation_index|         features|\n",
            "+--------+--------+-------------+---------+-------+--------------+--------------+-------------------+---------------+-----------------+\n",
            "|      10|       1|            0|        1|      0|           5.0|           0.0|                1.0|            0.0|[5.0,0.0,1.0,0.0]|\n",
            "|      10|       1|            0|        1|      0|           5.0|           0.0|                1.0|            0.0|[5.0,0.0,1.0,0.0]|\n",
            "|      10|       1|            0|        1|      0|           5.0|           0.0|                1.0|            0.0|[5.0,0.0,1.0,0.0]|\n",
            "|      10|       1|            0|        1|      0|           5.0|           0.0|                1.0|            0.0|[5.0,0.0,1.0,0.0]|\n",
            "|      10|       1|            0|        1|      0|           5.0|           0.0|                1.0|            0.0|[5.0,0.0,1.0,0.0]|\n",
            "+--------+--------+-------------+---------+-------+--------------+--------------+-------------------+---------------+-----------------+\n",
            "only showing top 5 rows\n",
            "\n"
          ]
        }
      ]
    },
    {
      "cell_type": "markdown",
      "source": [
        "# Gradient-Boosted Trees (GBTs) Classifier"
      ],
      "metadata": {
        "id": "rY_vTrzS3xuO"
      }
    },
    {
      "cell_type": "code",
      "source": [
        "gbt = GBTClassifier(labelCol='is_goal', \n",
        "                            featuresCol='features',\n",
        "                            maxDepth=5)"
      ],
      "metadata": {
        "id": "YBQvqTANzyPE"
      },
      "execution_count": 17,
      "outputs": []
    },
    {
      "cell_type": "code",
      "source": [
        "# Another classifier\n",
        "# from pyspark.ml.classification import RandomForestClassifier\n",
        "# gbt = RandomForestClassifier(labelCol='is_goal', \n",
        "#                             featuresCol='features',\n",
        "#                             maxDepth=5)"
      ],
      "metadata": {
        "id": "VTtZEvZTMAlb"
      },
      "execution_count": 18,
      "outputs": []
    },
    {
      "cell_type": "code",
      "source": [
        "# Fit the model on training data\n",
        "model = gbt.fit(training_data)"
      ],
      "metadata": {
        "id": "WU_TAwJ9z7g8"
      },
      "execution_count": 19,
      "outputs": []
    },
    {
      "cell_type": "markdown",
      "source": [
        "# Predictions with Test Data"
      ],
      "metadata": {
        "id": "1Hb-PX5S3sye"
      }
    },
    {
      "cell_type": "code",
      "source": [
        "# Predictions with test data\n",
        "predictions = model.transform(test_data)\n",
        "predictions.show(5)"
      ],
      "metadata": {
        "colab": {
          "base_uri": "https://localhost:8080/"
        },
        "id": "er2r3BpDFJXA",
        "outputId": "aa0ed698-0039-475b-cc68-5ada1af2e281"
      },
      "execution_count": 20,
      "outputs": [
        {
          "output_type": "stream",
          "name": "stdout",
          "text": [
            "+--------+--------+-------------+---------+-------+--------------+--------------+-------------------+---------------+-----------------+--------------------+--------------------+----------+\n",
            "|location|bodypart|assist_method|situation|is_goal|location_index|bodypart_index|assist_method_index|situation_index|         features|       rawPrediction|         probability|prediction|\n",
            "+--------+--------+-------------+---------+-------+--------------+--------------+-------------------+---------------+-----------------+--------------------+--------------------+----------+\n",
            "|      10|       1|            0|        1|      0|           5.0|           0.0|                1.0|            0.0|[5.0,0.0,1.0,0.0]|[0.58228792672286...|[0.76216317673189...|       0.0|\n",
            "|      10|       1|            0|        1|      0|           5.0|           0.0|                1.0|            0.0|[5.0,0.0,1.0,0.0]|[0.58228792672286...|[0.76216317673189...|       0.0|\n",
            "|      10|       1|            0|        1|      0|           5.0|           0.0|                1.0|            0.0|[5.0,0.0,1.0,0.0]|[0.58228792672286...|[0.76216317673189...|       0.0|\n",
            "|      10|       1|            0|        1|      0|           5.0|           0.0|                1.0|            0.0|[5.0,0.0,1.0,0.0]|[0.58228792672286...|[0.76216317673189...|       0.0|\n",
            "|      10|       1|            0|        1|      0|           5.0|           0.0|                1.0|            0.0|[5.0,0.0,1.0,0.0]|[0.58228792672286...|[0.76216317673189...|       0.0|\n",
            "+--------+--------+-------------+---------+-------+--------------+--------------+-------------------+---------------+-----------------+--------------------+--------------------+----------+\n",
            "only showing top 5 rows\n",
            "\n"
          ]
        }
      ]
    },
    {
      "cell_type": "markdown",
      "source": [
        "# Evaluate our model"
      ],
      "metadata": {
        "id": "Yrmiw5Aq3m6-"
      }
    },
    {
      "cell_type": "code",
      "source": [
        "# Evaluate our model\n",
        "evaluator = MulticlassClassificationEvaluator(\n",
        "    labelCol='is_goal', \n",
        "    predictionCol='prediction', \n",
        "    metricName='accuracy')"
      ],
      "metadata": {
        "id": "dZFhLupdFO-I"
      },
      "execution_count": 21,
      "outputs": []
    },
    {
      "cell_type": "markdown",
      "source": [
        "# Calculate Test Accuracy"
      ],
      "metadata": {
        "id": "tZ4jTiw-3fl2"
      }
    },
    {
      "cell_type": "code",
      "source": [
        "accuracy = evaluator.evaluate(predictions)\n",
        "print('Test Accuracy = ', accuracy)"
      ],
      "metadata": {
        "colab": {
          "base_uri": "https://localhost:8080/"
        },
        "id": "t-sDUrKPFUJ3",
        "outputId": "4c430354-81d9-47b9-f7be-09a2b6cea90d"
      },
      "execution_count": 22,
      "outputs": [
        {
          "output_type": "stream",
          "name": "stdout",
          "text": [
            "Test Accuracy =  0.9086985100788781\n"
          ]
        }
      ]
    }
  ],
  "metadata": {
    "kernelspec": {
      "name": "python3",
      "display_name": "Python 3",
      "language": "python"
    },
    "language_info": {
      "name": "python",
      "version": "3.6.6",
      "mimetype": "text/x-python",
      "codemirror_mode": {
        "name": "ipython",
        "version": 3
      },
      "pygments_lexer": "ipython3",
      "nbconvert_exporter": "python",
      "file_extension": ".py"
    },
    "colab": {
      "provenance": []
    },
    "accelerator": "GPU",
    "gpuClass": "standard"
  },
  "nbformat": 4,
  "nbformat_minor": 0
}