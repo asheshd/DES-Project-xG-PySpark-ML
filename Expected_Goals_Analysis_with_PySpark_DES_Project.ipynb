{
  "cells": [
    {
      "cell_type": "markdown",
      "source": [
        "# DA 231o Data Engineering at Scale Project\n",
        "\n"
      ],
      "metadata": {
        "id": "_Mp4yFaY5aX4"
      }
    },
    {
      "metadata": {
        "id": "CtBw-HfrqKEU"
      },
      "cell_type": "markdown",
      "source": [
        "# Expected Goals Model & Player Analysis"
      ]
    },
    {
      "cell_type": "markdown",
      "source": [
        "### Import Libraries"
      ],
      "metadata": {
        "id": "dyNnALy4o3n1"
      }
    },
    {
      "cell_type": "code",
      "source": [
        "!pip install pyspark"
      ],
      "metadata": {
        "colab": {
          "base_uri": "https://localhost:8080/"
        },
        "id": "yf4nn9Njzf6l",
        "outputId": "f7c3f2b8-a84f-4d34-e59e-725c5ffb5d11"
      },
      "execution_count": 1,
      "outputs": [
        {
          "output_type": "stream",
          "name": "stdout",
          "text": [
            "Looking in indexes: https://pypi.org/simple, https://us-python.pkg.dev/colab-wheels/public/simple/\n",
            "Requirement already satisfied: pyspark in /usr/local/lib/python3.7/dist-packages (3.3.1)\n",
            "Requirement already satisfied: py4j==0.10.9.5 in /usr/local/lib/python3.7/dist-packages (from pyspark) (0.10.9.5)\n"
          ]
        }
      ]
    },
    {
      "metadata": {
        "_kg_hide-output": true,
        "trusted": true,
        "id": "-q6iNmVPqKEb"
      },
      "cell_type": "code",
      "source": [
        "import pandas as pd\n",
        "import numpy as np\n",
        "import matplotlib.pyplot as plt\n",
        "import seaborn as sns\n",
        "from datetime import datetime\n",
        "\n",
        "import pyspark\n",
        "pyspark.__version__\n",
        "\n",
        "from pyspark.ml import Pipeline\n",
        "from pyspark.ml.feature import StringIndexer, VectorAssembler\n",
        "from pyspark.ml.classification import GBTClassifier\n",
        "from pyspark.ml.evaluation import MulticlassClassificationEvaluator\n",
        "\n",
        "from pyspark.sql import SparkSession\n",
        "from pyspark.sql.functions import udf, regexp_replace, when, col"
      ],
      "execution_count": 40,
      "outputs": []
    },
    {
      "metadata": {
        "id": "ieW3Bcy1qKEf"
      },
      "cell_type": "markdown",
      "source": [
        "# Load input Dataset with Goals"
      ]
    },
    {
      "cell_type": "code",
      "source": [
        "# Mount the drive\n",
        "\n",
        "from google.colab import drive\n",
        "drive.mount('/content/drive')"
      ],
      "metadata": {
        "colab": {
          "base_uri": "https://localhost:8080/"
        },
        "id": "2GbdFJR4ukCV",
        "outputId": "f9aff6ff-dd03-4153-fed8-bf5d2123ed28"
      },
      "execution_count": 3,
      "outputs": [
        {
          "output_type": "stream",
          "name": "stdout",
          "text": [
            "Drive already mounted at /content/drive; to attempt to forcibly remount, call drive.mount(\"/content/drive\", force_remount=True).\n"
          ]
        }
      ]
    },
    {
      "cell_type": "code",
      "source": [
        "# Read the csv file for visualization. We do not use this data anywhere in our model\n",
        "\n",
        "data = pd.read_csv('/content/drive/Shareddrives/DES_Project/events.csv')"
      ],
      "metadata": {
        "id": "4hqvNNn-2krm"
      },
      "execution_count": 4,
      "outputs": []
    },
    {
      "metadata": {
        "trusted": true,
        "colab": {
          "base_uri": "https://localhost:8080/"
        },
        "id": "CEALMyjtqKEk",
        "outputId": "c1f4e085-d62b-40c0-81ab-1e23e9401a4c"
      },
      "cell_type": "code",
      "source": [
        "print(len(data))\n",
        "print(data.is_goal.sum())\n",
        "print(len(data.columns)-1)"
      ],
      "execution_count": 5,
      "outputs": [
        {
          "output_type": "stream",
          "name": "stdout",
          "text": [
            "941009\n",
            "24446\n",
            "21\n"
          ]
        }
      ]
    },
    {
      "cell_type": "code",
      "source": [
        "data.columns"
      ],
      "metadata": {
        "colab": {
          "base_uri": "https://localhost:8080/"
        },
        "id": "DSjuHa4gpdlY",
        "outputId": "f1b85e29-d7dc-4a06-dcb3-c80f944416f4"
      },
      "execution_count": 6,
      "outputs": [
        {
          "output_type": "execute_result",
          "data": {
            "text/plain": [
              "Index(['id_odsp', 'id_event', 'sort_order', 'time', 'text', 'event_type',\n",
              "       'event_type2', 'side', 'event_team', 'opponent', 'player', 'player2',\n",
              "       'player_in', 'player_out', 'shot_place', 'shot_outcome', 'is_goal',\n",
              "       'location', 'bodypart', 'assist_method', 'situation', 'fast_break'],\n",
              "      dtype='object')"
            ]
          },
          "metadata": {},
          "execution_count": 6
        }
      ]
    },
    {
      "cell_type": "code",
      "source": [
        "# Create spark session\n",
        "\n",
        "spark = SparkSession \\\n",
        "    .builder \\\n",
        "    .appName('xG Project Solution') \\\n",
        "    .getOrCreate()\n",
        "  \n",
        "spark"
      ],
      "metadata": {
        "colab": {
          "base_uri": "https://localhost:8080/",
          "height": 216
        },
        "id": "vlDbnrOAzpec",
        "outputId": "c6cf322b-70ec-46f3-93a3-b344ccb97114"
      },
      "execution_count": 7,
      "outputs": [
        {
          "output_type": "execute_result",
          "data": {
            "text/plain": [
              "<pyspark.sql.session.SparkSession at 0x7f80c680bb10>"
            ],
            "text/html": [
              "\n",
              "            <div>\n",
              "                <p><b>SparkSession - in-memory</b></p>\n",
              "                \n",
              "        <div>\n",
              "            <p><b>SparkContext</b></p>\n",
              "\n",
              "            <p><a href=\"http://cce1bf523dc8:4040\">Spark UI</a></p>\n",
              "\n",
              "            <dl>\n",
              "              <dt>Version</dt>\n",
              "                <dd><code>v3.3.1</code></dd>\n",
              "              <dt>Master</dt>\n",
              "                <dd><code>local[*]</code></dd>\n",
              "              <dt>AppName</dt>\n",
              "                <dd><code>xG Project Solution</code></dd>\n",
              "            </dl>\n",
              "        </div>\n",
              "        \n",
              "            </div>\n",
              "        "
            ]
          },
          "metadata": {},
          "execution_count": 7
        }
      ]
    },
    {
      "cell_type": "code",
      "source": [
        "# Load the events and the info as spark sql dataframes\n",
        "\n",
        "eventsDF = spark.read.option(\"header\", True).option(\"inferSchema\", True).option(\"nullable\", 'NA').csv('/content/drive/Shareddrives/DES_Project/events.csv')\n",
        "infoDF = spark.read.option(\"header\", True).option(\"inferSchema\", True).option(\"nullable\", 'NA').csv('/content/drive/Shareddrives/DES_Project/ginf.csv')"
      ],
      "metadata": {
        "id": "0NC9jfLolPV3"
      },
      "execution_count": 8,
      "outputs": []
    },
    {
      "cell_type": "code",
      "source": [
        "# Print Schema\n",
        "\n",
        "eventsDF.printSchema()\n",
        "\n",
        "infoDF.printSchema()"
      ],
      "metadata": {
        "colab": {
          "base_uri": "https://localhost:8080/"
        },
        "id": "ayxLl6RbmAkQ",
        "outputId": "c1f01bbb-5aec-4915-f7ec-589269814eec"
      },
      "execution_count": 9,
      "outputs": [
        {
          "output_type": "stream",
          "name": "stdout",
          "text": [
            "root\n",
            " |-- id_odsp: string (nullable = true)\n",
            " |-- id_event: string (nullable = true)\n",
            " |-- sort_order: integer (nullable = true)\n",
            " |-- time: integer (nullable = true)\n",
            " |-- text: string (nullable = true)\n",
            " |-- event_type: integer (nullable = true)\n",
            " |-- event_type2: string (nullable = true)\n",
            " |-- side: integer (nullable = true)\n",
            " |-- event_team: string (nullable = true)\n",
            " |-- opponent: string (nullable = true)\n",
            " |-- player: string (nullable = true)\n",
            " |-- player2: string (nullable = true)\n",
            " |-- player_in: string (nullable = true)\n",
            " |-- player_out: string (nullable = true)\n",
            " |-- shot_place: string (nullable = true)\n",
            " |-- shot_outcome: string (nullable = true)\n",
            " |-- is_goal: integer (nullable = true)\n",
            " |-- location: string (nullable = true)\n",
            " |-- bodypart: string (nullable = true)\n",
            " |-- assist_method: integer (nullable = true)\n",
            " |-- situation: string (nullable = true)\n",
            " |-- fast_break: integer (nullable = true)\n",
            "\n",
            "root\n",
            " |-- id_odsp: string (nullable = true)\n",
            " |-- link_odsp: string (nullable = true)\n",
            " |-- adv_stats: boolean (nullable = true)\n",
            " |-- date: timestamp (nullable = true)\n",
            " |-- league: string (nullable = true)\n",
            " |-- season: integer (nullable = true)\n",
            " |-- country: string (nullable = true)\n",
            " |-- ht: string (nullable = true)\n",
            " |-- at: string (nullable = true)\n",
            " |-- fthg: integer (nullable = true)\n",
            " |-- ftag: integer (nullable = true)\n",
            " |-- odd_h: double (nullable = true)\n",
            " |-- odd_d: double (nullable = true)\n",
            " |-- odd_a: double (nullable = true)\n",
            " |-- odd_over: string (nullable = true)\n",
            " |-- odd_under: string (nullable = true)\n",
            " |-- odd_bts: string (nullable = true)\n",
            " |-- odd_bts_n: string (nullable = true)\n",
            "\n"
          ]
        }
      ]
    },
    {
      "cell_type": "code",
      "source": [
        "# Verify if the data loaded is correct and in the proper format\n",
        "\n",
        "eventsDF.show(10)\n",
        "type(eventsDF)"
      ],
      "metadata": {
        "colab": {
          "base_uri": "https://localhost:8080/"
        },
        "id": "XCQEoR-4lbGB",
        "outputId": "9cd869e3-9064-4c1f-910b-9f6c77a15e65"
      },
      "execution_count": 10,
      "outputs": [
        {
          "output_type": "stream",
          "name": "stdout",
          "text": [
            "+---------+----------+----------+----+--------------------+----------+-----------+----+-----------------+-----------------+-------------------+----------------+---------+----------+----------+------------+-------+--------+--------+-------------+---------+----------+\n",
            "|  id_odsp|  id_event|sort_order|time|                text|event_type|event_type2|side|       event_team|         opponent|             player|         player2|player_in|player_out|shot_place|shot_outcome|is_goal|location|bodypart|assist_method|situation|fast_break|\n",
            "+---------+----------+----------+----+--------------------+----------+-----------+----+-----------------+-----------------+-------------------+----------------+---------+----------+----------+------------+-------+--------+--------+-------------+---------+----------+\n",
            "|UFot0hit/| UFot0hit1|         1|   2|Attempt missed. M...|         1|         12|   2|       Hamburg SV|Borussia Dortmund|      mladen petric|     gokhan tore|       NA|        NA|         6|           2|      0|       9|       2|            1|        1|         0|\n",
            "|UFot0hit/| UFot0hit2|         2|   4|Corner,  Borussia...|         2|         NA|   1|Borussia Dortmund|       Hamburg SV|   dennis diekmeier|dennis diekmeier|       NA|        NA|        NA|          NA|      0|      NA|      NA|            0|       NA|         0|\n",
            "|UFot0hit/| UFot0hit3|         3|   4|Corner,  Borussia...|         2|         NA|   1|Borussia Dortmund|       Hamburg SV|   heiko westermann|heiko westermann|       NA|        NA|        NA|          NA|      0|      NA|      NA|            0|       NA|         0|\n",
            "|UFot0hit/| UFot0hit4|         4|   7|Foul by Sven Bend...|         3|         NA|   1|Borussia Dortmund|       Hamburg SV|        sven bender|              NA|       NA|        NA|        NA|          NA|      0|      NA|      NA|            0|       NA|         0|\n",
            "|UFot0hit/| UFot0hit5|         5|   7|Gokhan Tore (Hamb...|         8|         NA|   2|       Hamburg SV|Borussia Dortmund|        gokhan tore|              NA|       NA|        NA|        NA|          NA|      0|       2|      NA|            0|       NA|         0|\n",
            "|UFot0hit/| UFot0hit6|         6|   9|Hand ball by Jose...|        10|         NA|   2|       Hamburg SV|Borussia Dortmund|jose paolo guerrero|              NA|       NA|        NA|        NA|          NA|      0|      NA|      NA|            0|       NA|         0|\n",
            "|UFot0hit/| UFot0hit7|         7|  10|Corner,  Hamburg....|         2|         NA|   2|       Hamburg SV|Borussia Dortmund|    lukasz piszczek| lukasz piszczek|       NA|        NA|        NA|          NA|      0|      NA|      NA|            0|       NA|         0|\n",
            "|UFot0hit/| UFot0hit8|         8|  11|Chris Lowe (Borus...|         8|         NA|   1|Borussia Dortmund|       Hamburg SV|         chris lowe|              NA|       NA|        NA|        NA|          NA|      0|       2|      NA|            0|       NA|         0|\n",
            "|UFot0hit/| UFot0hit9|         9|  11|Foul by Gojko Kac...|         3|         NA|   2|       Hamburg SV|Borussia Dortmund|        gojko kacar|              NA|       NA|        NA|        NA|          NA|      0|      NA|      NA|            0|       NA|         0|\n",
            "|UFot0hit/|UFot0hit10|        10|  13|Foul by Gokhan To...|         3|         NA|   2|       Hamburg SV|Borussia Dortmund|        gokhan tore|              NA|       NA|        NA|        NA|          NA|      0|      NA|      NA|            0|       NA|         0|\n",
            "+---------+----------+----------+----+--------------------+----------+-----------+----+-----------------+-----------------+-------------------+----------------+---------+----------+----------+------------+-------+--------+--------+-------------+---------+----------+\n",
            "only showing top 10 rows\n",
            "\n"
          ]
        },
        {
          "output_type": "execute_result",
          "data": {
            "text/plain": [
              "pyspark.sql.dataframe.DataFrame"
            ]
          },
          "metadata": {},
          "execution_count": 10
        }
      ]
    },
    {
      "cell_type": "code",
      "source": [
        "# Join id_odsp, country, date columns from infoDF on id_odsp\n",
        "\n",
        "eventsDF = eventsDF.join(infoDF[['id_odsp', 'country', 'date']], on='id_odsp', how='left')\n",
        "eventsDF.printSchema()\n",
        "eventsDF.show(10)\n",
        "eventsDF.count()"
      ],
      "metadata": {
        "colab": {
          "base_uri": "https://localhost:8080/"
        },
        "id": "H1SHUd0Glrwc",
        "outputId": "77d265ee-8b18-45c0-cb8e-aee201acace7"
      },
      "execution_count": 11,
      "outputs": [
        {
          "output_type": "stream",
          "name": "stdout",
          "text": [
            "root\n",
            " |-- id_odsp: string (nullable = true)\n",
            " |-- id_event: string (nullable = true)\n",
            " |-- sort_order: integer (nullable = true)\n",
            " |-- time: integer (nullable = true)\n",
            " |-- text: string (nullable = true)\n",
            " |-- event_type: integer (nullable = true)\n",
            " |-- event_type2: string (nullable = true)\n",
            " |-- side: integer (nullable = true)\n",
            " |-- event_team: string (nullable = true)\n",
            " |-- opponent: string (nullable = true)\n",
            " |-- player: string (nullable = true)\n",
            " |-- player2: string (nullable = true)\n",
            " |-- player_in: string (nullable = true)\n",
            " |-- player_out: string (nullable = true)\n",
            " |-- shot_place: string (nullable = true)\n",
            " |-- shot_outcome: string (nullable = true)\n",
            " |-- is_goal: integer (nullable = true)\n",
            " |-- location: string (nullable = true)\n",
            " |-- bodypart: string (nullable = true)\n",
            " |-- assist_method: integer (nullable = true)\n",
            " |-- situation: string (nullable = true)\n",
            " |-- fast_break: integer (nullable = true)\n",
            " |-- country: string (nullable = true)\n",
            " |-- date: timestamp (nullable = true)\n",
            "\n",
            "+---------+----------+----------+----+--------------------+----------+-----------+----+-----------------+-----------------+-------------------+----------------+---------+----------+----------+------------+-------+--------+--------+-------------+---------+----------+-------+-------------------+\n",
            "|  id_odsp|  id_event|sort_order|time|                text|event_type|event_type2|side|       event_team|         opponent|             player|         player2|player_in|player_out|shot_place|shot_outcome|is_goal|location|bodypart|assist_method|situation|fast_break|country|               date|\n",
            "+---------+----------+----------+----+--------------------+----------+-----------+----+-----------------+-----------------+-------------------+----------------+---------+----------+----------+------------+-------+--------+--------+-------------+---------+----------+-------+-------------------+\n",
            "|UFot0hit/| UFot0hit1|         1|   2|Attempt missed. M...|         1|         12|   2|       Hamburg SV|Borussia Dortmund|      mladen petric|     gokhan tore|       NA|        NA|         6|           2|      0|       9|       2|            1|        1|         0|germany|2011-08-05 00:00:00|\n",
            "|UFot0hit/| UFot0hit2|         2|   4|Corner,  Borussia...|         2|         NA|   1|Borussia Dortmund|       Hamburg SV|   dennis diekmeier|dennis diekmeier|       NA|        NA|        NA|          NA|      0|      NA|      NA|            0|       NA|         0|germany|2011-08-05 00:00:00|\n",
            "|UFot0hit/| UFot0hit3|         3|   4|Corner,  Borussia...|         2|         NA|   1|Borussia Dortmund|       Hamburg SV|   heiko westermann|heiko westermann|       NA|        NA|        NA|          NA|      0|      NA|      NA|            0|       NA|         0|germany|2011-08-05 00:00:00|\n",
            "|UFot0hit/| UFot0hit4|         4|   7|Foul by Sven Bend...|         3|         NA|   1|Borussia Dortmund|       Hamburg SV|        sven bender|              NA|       NA|        NA|        NA|          NA|      0|      NA|      NA|            0|       NA|         0|germany|2011-08-05 00:00:00|\n",
            "|UFot0hit/| UFot0hit5|         5|   7|Gokhan Tore (Hamb...|         8|         NA|   2|       Hamburg SV|Borussia Dortmund|        gokhan tore|              NA|       NA|        NA|        NA|          NA|      0|       2|      NA|            0|       NA|         0|germany|2011-08-05 00:00:00|\n",
            "|UFot0hit/| UFot0hit6|         6|   9|Hand ball by Jose...|        10|         NA|   2|       Hamburg SV|Borussia Dortmund|jose paolo guerrero|              NA|       NA|        NA|        NA|          NA|      0|      NA|      NA|            0|       NA|         0|germany|2011-08-05 00:00:00|\n",
            "|UFot0hit/| UFot0hit7|         7|  10|Corner,  Hamburg....|         2|         NA|   2|       Hamburg SV|Borussia Dortmund|    lukasz piszczek| lukasz piszczek|       NA|        NA|        NA|          NA|      0|      NA|      NA|            0|       NA|         0|germany|2011-08-05 00:00:00|\n",
            "|UFot0hit/| UFot0hit8|         8|  11|Chris Lowe (Borus...|         8|         NA|   1|Borussia Dortmund|       Hamburg SV|         chris lowe|              NA|       NA|        NA|        NA|          NA|      0|       2|      NA|            0|       NA|         0|germany|2011-08-05 00:00:00|\n",
            "|UFot0hit/| UFot0hit9|         9|  11|Foul by Gojko Kac...|         3|         NA|   2|       Hamburg SV|Borussia Dortmund|        gojko kacar|              NA|       NA|        NA|        NA|          NA|      0|      NA|      NA|            0|       NA|         0|germany|2011-08-05 00:00:00|\n",
            "|UFot0hit/|UFot0hit10|        10|  13|Foul by Gokhan To...|         3|         NA|   2|       Hamburg SV|Borussia Dortmund|        gokhan tore|              NA|       NA|        NA|        NA|          NA|      0|      NA|      NA|            0|       NA|         0|germany|2011-08-05 00:00:00|\n",
            "+---------+----------+----------+----+--------------------+----------+-----------+----+-----------------+-----------------+-------------------+----------------+---------+----------+----------+------------+-------+--------+--------+-------------+---------+----------+-------+-------------------+\n",
            "only showing top 10 rows\n",
            "\n"
          ]
        },
        {
          "output_type": "execute_result",
          "data": {
            "text/plain": [
              "941009"
            ]
          },
          "metadata": {},
          "execution_count": 11
        }
      ]
    },
    {
      "cell_type": "code",
      "source": [
        "# Extract year from the timestamp and append the column\n",
        "\n",
        "extract_year = lambda x: x.strftime(\"%Y\")\n",
        "extract_year_udf = udf(extract_year)\n",
        "eventsDF = eventsDF.withColumn(\"year\", extract_year_udf(\"date\"))\n",
        "eventsDF.show(10)"
      ],
      "metadata": {
        "colab": {
          "base_uri": "https://localhost:8080/"
        },
        "id": "qXUoh04hl4EC",
        "outputId": "c693a97a-587f-435c-b1a7-1dc86ee32984"
      },
      "execution_count": 12,
      "outputs": [
        {
          "output_type": "stream",
          "name": "stdout",
          "text": [
            "+---------+----------+----------+----+--------------------+----------+-----------+----+-----------------+-----------------+-------------------+----------------+---------+----------+----------+------------+-------+--------+--------+-------------+---------+----------+-------+-------------------+----+\n",
            "|  id_odsp|  id_event|sort_order|time|                text|event_type|event_type2|side|       event_team|         opponent|             player|         player2|player_in|player_out|shot_place|shot_outcome|is_goal|location|bodypart|assist_method|situation|fast_break|country|               date|year|\n",
            "+---------+----------+----------+----+--------------------+----------+-----------+----+-----------------+-----------------+-------------------+----------------+---------+----------+----------+------------+-------+--------+--------+-------------+---------+----------+-------+-------------------+----+\n",
            "|UFot0hit/| UFot0hit1|         1|   2|Attempt missed. M...|         1|         12|   2|       Hamburg SV|Borussia Dortmund|      mladen petric|     gokhan tore|       NA|        NA|         6|           2|      0|       9|       2|            1|        1|         0|germany|2011-08-05 00:00:00|2011|\n",
            "|UFot0hit/| UFot0hit2|         2|   4|Corner,  Borussia...|         2|         NA|   1|Borussia Dortmund|       Hamburg SV|   dennis diekmeier|dennis diekmeier|       NA|        NA|        NA|          NA|      0|      NA|      NA|            0|       NA|         0|germany|2011-08-05 00:00:00|2011|\n",
            "|UFot0hit/| UFot0hit3|         3|   4|Corner,  Borussia...|         2|         NA|   1|Borussia Dortmund|       Hamburg SV|   heiko westermann|heiko westermann|       NA|        NA|        NA|          NA|      0|      NA|      NA|            0|       NA|         0|germany|2011-08-05 00:00:00|2011|\n",
            "|UFot0hit/| UFot0hit4|         4|   7|Foul by Sven Bend...|         3|         NA|   1|Borussia Dortmund|       Hamburg SV|        sven bender|              NA|       NA|        NA|        NA|          NA|      0|      NA|      NA|            0|       NA|         0|germany|2011-08-05 00:00:00|2011|\n",
            "|UFot0hit/| UFot0hit5|         5|   7|Gokhan Tore (Hamb...|         8|         NA|   2|       Hamburg SV|Borussia Dortmund|        gokhan tore|              NA|       NA|        NA|        NA|          NA|      0|       2|      NA|            0|       NA|         0|germany|2011-08-05 00:00:00|2011|\n",
            "|UFot0hit/| UFot0hit6|         6|   9|Hand ball by Jose...|        10|         NA|   2|       Hamburg SV|Borussia Dortmund|jose paolo guerrero|              NA|       NA|        NA|        NA|          NA|      0|      NA|      NA|            0|       NA|         0|germany|2011-08-05 00:00:00|2011|\n",
            "|UFot0hit/| UFot0hit7|         7|  10|Corner,  Hamburg....|         2|         NA|   2|       Hamburg SV|Borussia Dortmund|    lukasz piszczek| lukasz piszczek|       NA|        NA|        NA|          NA|      0|      NA|      NA|            0|       NA|         0|germany|2011-08-05 00:00:00|2011|\n",
            "|UFot0hit/| UFot0hit8|         8|  11|Chris Lowe (Borus...|         8|         NA|   1|Borussia Dortmund|       Hamburg SV|         chris lowe|              NA|       NA|        NA|        NA|          NA|      0|       2|      NA|            0|       NA|         0|germany|2011-08-05 00:00:00|2011|\n",
            "|UFot0hit/| UFot0hit9|         9|  11|Foul by Gojko Kac...|         3|         NA|   2|       Hamburg SV|Borussia Dortmund|        gojko kacar|              NA|       NA|        NA|        NA|          NA|      0|      NA|      NA|            0|       NA|         0|germany|2011-08-05 00:00:00|2011|\n",
            "|UFot0hit/|UFot0hit10|        10|  13|Foul by Gokhan To...|         3|         NA|   2|       Hamburg SV|Borussia Dortmund|        gokhan tore|              NA|       NA|        NA|        NA|          NA|      0|      NA|      NA|            0|       NA|         0|germany|2011-08-05 00:00:00|2011|\n",
            "+---------+----------+----------+----+--------------------+----------+-----------+----+-----------------+-----------------+-------------------+----------------+---------+----------+----------+------------+-------+--------+--------+-------------+---------+----------+-------+-------------------+----+\n",
            "only showing top 10 rows\n",
            "\n"
          ]
        }
      ]
    },
    {
      "cell_type": "code",
      "source": [
        "eventsDF.filter(eventsDF.event_type==1).filter(eventsDF.player != '').count()"
      ],
      "metadata": {
        "colab": {
          "base_uri": "https://localhost:8080/"
        },
        "id": "4WYPEmJ6QGzE",
        "outputId": "27940ef8-9f56-450f-e72e-92955e3398e6"
      },
      "execution_count": 13,
      "outputs": [
        {
          "output_type": "execute_result",
          "data": {
            "text/plain": [
              "229134"
            ]
          },
          "metadata": {},
          "execution_count": 13
        }
      ]
    },
    {
      "cell_type": "code",
      "source": [
        "# Create shotsDF dataframe by filtering event type == 1 and non-empty player\n",
        "\n",
        "shotsDF = eventsDF.filter(eventsDF.event_type==1).filter(eventsDF.player != '').filter(eventsDF.player2 != '').filter(eventsDF.country != '')\n",
        "shotsDF = shotsDF.withColumn(\"player\", udf(lambda x: x.title())(\"player\"))\n",
        "shotsDF = shotsDF.withColumn(\"player2\", udf(lambda x: x.title())(\"player2\"))\n",
        "shotsDF = shotsDF.withColumn(\"country\", udf(lambda x: x.title())(\"country\"))\n",
        "shotsDF.show(10)"
      ],
      "metadata": {
        "colab": {
          "base_uri": "https://localhost:8080/"
        },
        "id": "ihVPdsJRln2x",
        "outputId": "73e52c26-1240-4bfe-95a0-e0d0d11f20e1"
      },
      "execution_count": 14,
      "outputs": [
        {
          "output_type": "stream",
          "name": "stdout",
          "text": [
            "+---------+----------+----------+----+--------------------+----------+-----------+----+-----------------+-----------------+-----------------+------------------+---------+----------+----------+------------+-------+--------+--------+-------------+---------+----------+-------+-------------------+----+\n",
            "|  id_odsp|  id_event|sort_order|time|                text|event_type|event_type2|side|       event_team|         opponent|           player|           player2|player_in|player_out|shot_place|shot_outcome|is_goal|location|bodypart|assist_method|situation|fast_break|country|               date|year|\n",
            "+---------+----------+----------+----+--------------------+----------+-----------+----+-----------------+-----------------+-----------------+------------------+---------+----------+----------+------------+-------+--------+--------+-------------+---------+----------+-------+-------------------+----+\n",
            "|UFot0hit/| UFot0hit1|         1|   2|Attempt missed. M...|         1|         12|   2|       Hamburg SV|Borussia Dortmund|    Mladen Petric|       Gokhan Tore|       NA|        NA|         6|           2|      0|       9|       2|            1|        1|         0|Germany|2011-08-05 00:00:00|2011|\n",
            "|UFot0hit/|UFot0hit12|        12|  14|Attempt missed. S...|         1|         12|   1|Borussia Dortmund|       Hamburg SV|    Shinji Kagawa|       Mario Gotze|       NA|        NA|        13|           2|      0|      15|       1|            1|        1|         0|Germany|2011-08-05 00:00:00|2011|\n",
            "|UFot0hit/|UFot0hit14|        14|  17|Goal!  Borussia D...|         1|         12|   1|Borussia Dortmund|       Hamburg SV|Kevin Grosskreutz|       Mario Gotze|       NA|        NA|         4|           1|      1|       9|       2|            1|        1|         0|Germany|2011-08-05 00:00:00|2011|\n",
            "|UFot0hit/|UFot0hit15|        15|  19|Attempt blocked. ...|         1|         NA|   1|Borussia Dortmund|       Hamburg SV|     Mats Hummels|                Na|       NA|        NA|         2|           3|      0|      15|       1|            0|        1|         0|Germany|2011-08-05 00:00:00|2011|\n",
            "|UFot0hit/|UFot0hit18|        18|  20|Attempt blocked. ...|         1|         NA|   2|       Hamburg SV|Borussia Dortmund|     Tomas Rincon|                Na|       NA|        NA|         2|           3|      0|      15|       1|            0|        1|         0|Germany|2011-08-05 00:00:00|2011|\n",
            "|UFot0hit/|UFot0hit19|        19|  25|Shinji Kagawa (Bo...|         1|         12|   1|Borussia Dortmund|       Hamburg SV|    Shinji Kagawa|   Lukasz Piszczek|       NA|        NA|         7|           4|      0|       3|       1|            1|        1|         0|Germany|2011-08-05 00:00:00|2011|\n",
            "|UFot0hit/|UFot0hit21|        21|  25|Attempt blocked. ...|         1|         NA|   1|Borussia Dortmund|       Hamburg SV|   Ilkay Gundogan|                Na|       NA|        NA|         2|           3|      0|      15|       2|            0|        1|         0|Germany|2011-08-05 00:00:00|2011|\n",
            "|UFot0hit/|UFot0hit23|        23|  26|Attempt saved. Ma...|         1|         12|   1|Borussia Dortmund|       Hamburg SV|     Mats Hummels|        Chris Lowe|       NA|        NA|         5|           1|      0|       3|       3|            2|        1|         0|Germany|2011-08-05 00:00:00|2011|\n",
            "|UFot0hit/|UFot0hit26|        26|  28|Attempt missed. S...|         1|         12|   1|Borussia Dortmund|       Hamburg SV|    Shinji Kagawa| Kevin Grosskreutz|       NA|        NA|         9|           2|      0|       9|       1|            1|        1|         0|Germany|2011-08-05 00:00:00|2011|\n",
            "|UFot0hit/|UFot0hit27|        27|  29|Goal!  Borussia D...|         1|         12|   1|Borussia Dortmund|       Hamburg SV|      Mario Gotze|Robert Lewandowski|       NA|        NA|         5|           1|      1|       3|       1|            1|        1|         0|Germany|2011-08-05 00:00:00|2011|\n",
            "+---------+----------+----------+----+--------------------+----------+-----------+----+-----------------+-----------------+-----------------+------------------+---------+----------+----------+------------+-------+--------+--------+-------------+---------+----------+-------+-------------------+----+\n",
            "only showing top 10 rows\n",
            "\n"
          ]
        }
      ]
    },
    {
      "cell_type": "code",
      "source": [
        "# Filter the columns which have all the relevant information about the shot and predict if it is a goal or not\n",
        "# is_goal is the true label. We will not use this in the training\n",
        "\n",
        "required_cols = ['shot_place', 'shot_outcome', 'location', 'bodypart', 'assist_method', 'situation']\n",
        "\n",
        "# Create dataDF dataframe with all the input columns\n",
        "dataDF = shotsDF\n",
        "\n",
        "# Create string indexer list\n",
        "indexer = []\n",
        "\n",
        "# Convert each column into integer type using string indexer without losing any features\n",
        "for column in required_cols:\n",
        "  temp = StringIndexer(inputCol=column, outputCol=column+\"_index\")\n",
        "  indexer.append(temp)\n",
        "\n",
        "# Pipeline\n",
        "pipeline = Pipeline(stages=indexer)\n",
        "dataDF = pipeline.fit(dataDF).transform(dataDF)\n",
        "\n",
        "dataDF.show(10)"
      ],
      "metadata": {
        "colab": {
          "base_uri": "https://localhost:8080/"
        },
        "id": "7TCHrBkcmm3e",
        "outputId": "1646e471-0662-4674-e8e8-bddf572781b3"
      },
      "execution_count": 15,
      "outputs": [
        {
          "output_type": "stream",
          "name": "stdout",
          "text": [
            "+---------+----------+----------+----+--------------------+----------+-----------+----+-----------------+-----------------+-----------------+------------------+---------+----------+----------+------------+-------+--------+--------+-------------+---------+----------+-------+-------------------+----+----------------+------------------+--------------+--------------+-------------------+---------------+\n",
            "|  id_odsp|  id_event|sort_order|time|                text|event_type|event_type2|side|       event_team|         opponent|           player|           player2|player_in|player_out|shot_place|shot_outcome|is_goal|location|bodypart|assist_method|situation|fast_break|country|               date|year|shot_place_index|shot_outcome_index|location_index|bodypart_index|assist_method_index|situation_index|\n",
            "+---------+----------+----------+----+--------------------+----------+-----------+----+-----------------+-----------------+-----------------+------------------+---------+----------+----------+------------+-------+--------+--------+-------------+---------+----------+-------+-------------------+----+----------------+------------------+--------------+--------------+-------------------+---------------+\n",
            "|UFot0hit/| UFot0hit1|         1|   2|Attempt missed. M...|         1|         12|   2|       Hamburg SV|Borussia Dortmund|    Mladen Petric|       Gokhan Tore|       NA|        NA|         6|           2|      0|       9|       2|            1|        1|         0|Germany|2011-08-05 00:00:00|2011|             6.0|               0.0|           2.0|           1.0|                0.0|            0.0|\n",
            "|UFot0hit/|UFot0hit12|        12|  14|Attempt missed. S...|         1|         12|   1|Borussia Dortmund|       Hamburg SV|    Shinji Kagawa|       Mario Gotze|       NA|        NA|        13|           2|      0|      15|       1|            1|        1|         0|Germany|2011-08-05 00:00:00|2011|             8.0|               0.0|           0.0|           0.0|                0.0|            0.0|\n",
            "|UFot0hit/|UFot0hit14|        14|  17|Goal!  Borussia D...|         1|         12|   1|Borussia Dortmund|       Hamburg SV|Kevin Grosskreutz|       Mario Gotze|       NA|        NA|         4|           1|      1|       9|       2|            1|        1|         0|Germany|2011-08-05 00:00:00|2011|             4.0|               1.0|           2.0|           1.0|                0.0|            0.0|\n",
            "|UFot0hit/|UFot0hit15|        15|  19|Attempt blocked. ...|         1|         NA|   1|Borussia Dortmund|       Hamburg SV|     Mats Hummels|                Na|       NA|        NA|         2|           3|      0|      15|       1|            0|        1|         0|Germany|2011-08-05 00:00:00|2011|             0.0|               2.0|           0.0|           0.0|                1.0|            0.0|\n",
            "|UFot0hit/|UFot0hit18|        18|  20|Attempt blocked. ...|         1|         NA|   2|       Hamburg SV|Borussia Dortmund|     Tomas Rincon|                Na|       NA|        NA|         2|           3|      0|      15|       1|            0|        1|         0|Germany|2011-08-05 00:00:00|2011|             0.0|               2.0|           0.0|           0.0|                1.0|            0.0|\n",
            "|UFot0hit/|UFot0hit19|        19|  25|Shinji Kagawa (Bo...|         1|         12|   1|Borussia Dortmund|       Hamburg SV|    Shinji Kagawa|   Lukasz Piszczek|       NA|        NA|         7|           4|      0|       3|       1|            1|        1|         0|Germany|2011-08-05 00:00:00|2011|            12.0|               3.0|           1.0|           0.0|                0.0|            0.0|\n",
            "|UFot0hit/|UFot0hit21|        21|  25|Attempt blocked. ...|         1|         NA|   1|Borussia Dortmund|       Hamburg SV|   Ilkay Gundogan|                Na|       NA|        NA|         2|           3|      0|      15|       2|            0|        1|         0|Germany|2011-08-05 00:00:00|2011|             0.0|               2.0|           0.0|           1.0|                1.0|            0.0|\n",
            "|UFot0hit/|UFot0hit23|        23|  26|Attempt saved. Ma...|         1|         12|   1|Borussia Dortmund|       Hamburg SV|     Mats Hummels|        Chris Lowe|       NA|        NA|         5|           1|      0|       3|       3|            2|        1|         0|Germany|2011-08-05 00:00:00|2011|             3.0|               1.0|           1.0|           2.0|                2.0|            0.0|\n",
            "|UFot0hit/|UFot0hit26|        26|  28|Attempt missed. S...|         1|         12|   1|Borussia Dortmund|       Hamburg SV|    Shinji Kagawa| Kevin Grosskreutz|       NA|        NA|         9|           2|      0|       9|       1|            1|        1|         0|Germany|2011-08-05 00:00:00|2011|             2.0|               0.0|           2.0|           0.0|                0.0|            0.0|\n",
            "|UFot0hit/|UFot0hit27|        27|  29|Goal!  Borussia D...|         1|         12|   1|Borussia Dortmund|       Hamburg SV|      Mario Gotze|Robert Lewandowski|       NA|        NA|         5|           1|      1|       3|       1|            1|        1|         0|Germany|2011-08-05 00:00:00|2011|             3.0|               1.0|           1.0|           0.0|                0.0|            0.0|\n",
            "+---------+----------+----------+----+--------------------+----------+-----------+----+-----------------+-----------------+-----------------+------------------+---------+----------+----------+------------+-------+--------+--------+-------------+---------+----------+-------+-------------------+----+----------------+------------------+--------------+--------------+-------------------+---------------+\n",
            "only showing top 10 rows\n",
            "\n"
          ]
        }
      ]
    },
    {
      "cell_type": "markdown",
      "source": [
        "# Expected Goals with PySpark Machine Learning"
      ],
      "metadata": {
        "id": "vN2Yvehe4JSv"
      }
    },
    {
      "cell_type": "code",
      "source": [
        "required_features = list(dataDF.columns[-6:]) # remove 'is_goal' because it is the label\n",
        "\n",
        "assembler = VectorAssembler(inputCols=required_features, outputCol='features')\n",
        "transformed_data = assembler.transform(dataDF)\n",
        "\n",
        "transformed_data.show(10)"
      ],
      "metadata": {
        "colab": {
          "base_uri": "https://localhost:8080/"
        },
        "id": "MiD6yFkC_F5O",
        "outputId": "2ccd34b9-a434-4aba-8128-ceff37a5e2eb"
      },
      "execution_count": 16,
      "outputs": [
        {
          "output_type": "stream",
          "name": "stdout",
          "text": [
            "+---------+----------+----------+----+--------------------+----------+-----------+----+-----------------+-----------------+-----------------+------------------+---------+----------+----------+------------+-------+--------+--------+-------------+---------+----------+-------+-------------------+----+----------------+------------------+--------------+--------------+-------------------+---------------+--------------------+\n",
            "|  id_odsp|  id_event|sort_order|time|                text|event_type|event_type2|side|       event_team|         opponent|           player|           player2|player_in|player_out|shot_place|shot_outcome|is_goal|location|bodypart|assist_method|situation|fast_break|country|               date|year|shot_place_index|shot_outcome_index|location_index|bodypart_index|assist_method_index|situation_index|            features|\n",
            "+---------+----------+----------+----+--------------------+----------+-----------+----+-----------------+-----------------+-----------------+------------------+---------+----------+----------+------------+-------+--------+--------+-------------+---------+----------+-------+-------------------+----+----------------+------------------+--------------+--------------+-------------------+---------------+--------------------+\n",
            "|UFot0hit/| UFot0hit1|         1|   2|Attempt missed. M...|         1|         12|   2|       Hamburg SV|Borussia Dortmund|    Mladen Petric|       Gokhan Tore|       NA|        NA|         6|           2|      0|       9|       2|            1|        1|         0|Germany|2011-08-05 00:00:00|2011|             6.0|               0.0|           2.0|           1.0|                0.0|            0.0|[6.0,0.0,2.0,1.0,...|\n",
            "|UFot0hit/|UFot0hit12|        12|  14|Attempt missed. S...|         1|         12|   1|Borussia Dortmund|       Hamburg SV|    Shinji Kagawa|       Mario Gotze|       NA|        NA|        13|           2|      0|      15|       1|            1|        1|         0|Germany|2011-08-05 00:00:00|2011|             8.0|               0.0|           0.0|           0.0|                0.0|            0.0|       (6,[0],[8.0])|\n",
            "|UFot0hit/|UFot0hit14|        14|  17|Goal!  Borussia D...|         1|         12|   1|Borussia Dortmund|       Hamburg SV|Kevin Grosskreutz|       Mario Gotze|       NA|        NA|         4|           1|      1|       9|       2|            1|        1|         0|Germany|2011-08-05 00:00:00|2011|             4.0|               1.0|           2.0|           1.0|                0.0|            0.0|[4.0,1.0,2.0,1.0,...|\n",
            "|UFot0hit/|UFot0hit15|        15|  19|Attempt blocked. ...|         1|         NA|   1|Borussia Dortmund|       Hamburg SV|     Mats Hummels|                Na|       NA|        NA|         2|           3|      0|      15|       1|            0|        1|         0|Germany|2011-08-05 00:00:00|2011|             0.0|               2.0|           0.0|           0.0|                1.0|            0.0| (6,[1,4],[2.0,1.0])|\n",
            "|UFot0hit/|UFot0hit18|        18|  20|Attempt blocked. ...|         1|         NA|   2|       Hamburg SV|Borussia Dortmund|     Tomas Rincon|                Na|       NA|        NA|         2|           3|      0|      15|       1|            0|        1|         0|Germany|2011-08-05 00:00:00|2011|             0.0|               2.0|           0.0|           0.0|                1.0|            0.0| (6,[1,4],[2.0,1.0])|\n",
            "|UFot0hit/|UFot0hit19|        19|  25|Shinji Kagawa (Bo...|         1|         12|   1|Borussia Dortmund|       Hamburg SV|    Shinji Kagawa|   Lukasz Piszczek|       NA|        NA|         7|           4|      0|       3|       1|            1|        1|         0|Germany|2011-08-05 00:00:00|2011|            12.0|               3.0|           1.0|           0.0|                0.0|            0.0|[12.0,3.0,1.0,0.0...|\n",
            "|UFot0hit/|UFot0hit21|        21|  25|Attempt blocked. ...|         1|         NA|   1|Borussia Dortmund|       Hamburg SV|   Ilkay Gundogan|                Na|       NA|        NA|         2|           3|      0|      15|       2|            0|        1|         0|Germany|2011-08-05 00:00:00|2011|             0.0|               2.0|           0.0|           1.0|                1.0|            0.0|[0.0,2.0,0.0,1.0,...|\n",
            "|UFot0hit/|UFot0hit23|        23|  26|Attempt saved. Ma...|         1|         12|   1|Borussia Dortmund|       Hamburg SV|     Mats Hummels|        Chris Lowe|       NA|        NA|         5|           1|      0|       3|       3|            2|        1|         0|Germany|2011-08-05 00:00:00|2011|             3.0|               1.0|           1.0|           2.0|                2.0|            0.0|[3.0,1.0,1.0,2.0,...|\n",
            "|UFot0hit/|UFot0hit26|        26|  28|Attempt missed. S...|         1|         12|   1|Borussia Dortmund|       Hamburg SV|    Shinji Kagawa| Kevin Grosskreutz|       NA|        NA|         9|           2|      0|       9|       1|            1|        1|         0|Germany|2011-08-05 00:00:00|2011|             2.0|               0.0|           2.0|           0.0|                0.0|            0.0| (6,[0,2],[2.0,2.0])|\n",
            "|UFot0hit/|UFot0hit27|        27|  29|Goal!  Borussia D...|         1|         12|   1|Borussia Dortmund|       Hamburg SV|      Mario Gotze|Robert Lewandowski|       NA|        NA|         5|           1|      1|       3|       1|            1|        1|         0|Germany|2011-08-05 00:00:00|2011|             3.0|               1.0|           1.0|           0.0|                0.0|            0.0|[3.0,1.0,1.0,0.0,...|\n",
            "+---------+----------+----------+----+--------------------+----------+-----------+----+-----------------+-----------------+-----------------+------------------+---------+----------+----------+------------+-------+--------+--------+-------------+---------+----------+-------+-------------------+----+----------------+------------------+--------------+--------------+-------------------+---------------+--------------------+\n",
            "only showing top 10 rows\n",
            "\n"
          ]
        }
      ]
    },
    {
      "cell_type": "code",
      "source": [
        "# Split the data into training and testing data\n",
        "\n",
        "(training_data, test_data) = transformed_data.randomSplit([0.8,0.2])\n",
        "\n",
        "print(\"Total Data\", transformed_data.count())\n",
        "print(\"Total Training Data\", training_data.count())\n",
        "print(\"Total Test Data\", test_data.count())\n",
        "\n",
        "print(\"\\nTraining Dataset\")\n",
        "training_data.show(5)"
      ],
      "metadata": {
        "colab": {
          "base_uri": "https://localhost:8080/"
        },
        "id": "PpkbwY7WEJCI",
        "outputId": "223833d8-c237-4a86-e2db-34523f5bcd81"
      },
      "execution_count": 17,
      "outputs": [
        {
          "output_type": "stream",
          "name": "stdout",
          "text": [
            "Total Data 229131\n",
            "Total Training Data 183268\n",
            "Total Test Data 45863\n",
            "Training Dataset\n",
            "+---------+-----------+----------+----+--------------------+----------+-----------+----+----------+--------+------------------+---------------+---------+----------+----------+------------+-------+--------+--------+-------------+---------+----------+-------+-------------------+----+----------------+------------------+--------------+--------------+-------------------+---------------+--------------------+\n",
            "|  id_odsp|   id_event|sort_order|time|                text|event_type|event_type2|side|event_team|opponent|            player|        player2|player_in|player_out|shot_place|shot_outcome|is_goal|location|bodypart|assist_method|situation|fast_break|country|               date|year|shot_place_index|shot_outcome_index|location_index|bodypart_index|assist_method_index|situation_index|            features|\n",
            "+---------+-----------+----------+----+--------------------+----------+-----------+----+----------+--------+------------------+---------------+---------+----------+----------+------------+-------+--------+--------+-------------+---------+----------+-------+-------------------+----+----------------+------------------+--------------+--------------+-------------------+---------------+--------------------+\n",
            "|00LMl81F/|00LMl81F100|       100|  77|Attempt missed. A...|         1|         12|   2|  AC Milan| AS Roma|   Antonio Cassano|Urby Emanuelson|       NA|        NA|         6|           2|      0|       7|       1|            1|        1|         0|  Italy|2011-10-29 00:00:00|2011|             6.0|               0.0|           8.0|           0.0|                0.0|            0.0| (6,[0,2],[6.0,8.0])|\n",
            "|00LMl81F/|00LMl81F105|       105|  80|Attempt blocked. ...|         1|         12|   1|   AS Roma|AC Milan|  Nicolas Burdisso|          Bojan|       NA|        NA|         2|           3|      0|       3|       2|            3|        1|         0|  Italy|2011-10-29 00:00:00|2011|             0.0|               2.0|           1.0|           1.0|                3.0|            0.0|[0.0,2.0,1.0,1.0,...|\n",
            "|00LMl81F/|00LMl81F107|       107|  81|Attempt missed. Z...|         1|         12|   2|  AC Milan| AS Roma|Zlatan Ibrahimovic|Antonio Cassano|       NA|        NA|         6|           2|      0|       3|       1|            2|        1|         0|  Italy|2011-10-29 00:00:00|2011|             6.0|               0.0|           1.0|           0.0|                2.0|            0.0|[6.0,0.0,1.0,0.0,...|\n",
            "|00LMl81F/|00LMl81F111|       111|  86|Attempt missed. A...|         1|         12|   2|  AC Milan| AS Roma|  Antonio Nocerino|Antonio Cassano|       NA|        NA|         8|           2|      0|      10|       2|            1|        1|         1|  Italy|2011-10-29 00:00:00|2011|             1.0|               0.0|           5.0|           1.0|                0.0|            0.0|[1.0,0.0,5.0,1.0,...|\n",
            "|00LMl81F/|00LMl81F112|       112|  87|Attempt saved. Er...|         1|         NA|   1|   AS Roma|AC Milan|       Erik Lamela|             Na|       NA|        NA|         4|           1|      0|       3|       2|            0|        1|         0|  Italy|2011-10-29 00:00:00|2011|             4.0|               1.0|           1.0|           1.0|                1.0|            0.0|[4.0,1.0,1.0,1.0,...|\n",
            "+---------+-----------+----------+----+--------------------+----------+-----------+----+----------+--------+------------------+---------------+---------+----------+----------+------------+-------+--------+--------+-------------+---------+----------+-------+-------------------+----+----------------+------------------+--------------+--------------+-------------------+---------------+--------------------+\n",
            "only showing top 5 rows\n",
            "\n"
          ]
        }
      ]
    },
    {
      "cell_type": "markdown",
      "source": [
        "# Gradient-Boosted Trees (GBTs) Classifier"
      ],
      "metadata": {
        "id": "rY_vTrzS3xuO"
      }
    },
    {
      "cell_type": "code",
      "source": [
        "gbt = GBTClassifier(labelCol='is_goal', \n",
        "                            featuresCol='features',\n",
        "                            maxDepth=5)"
      ],
      "metadata": {
        "id": "YBQvqTANzyPE"
      },
      "execution_count": 18,
      "outputs": []
    },
    {
      "cell_type": "code",
      "source": [
        "# Another classifier\n",
        "# from pyspark.ml.classification import DecisionTreeClassifier\n",
        "# gbt = DecisionTreeClassifier(labelCol='is_goal', \n",
        "#                             featuresCol='features',\n",
        "#                             maxDepth=5)"
      ],
      "metadata": {
        "id": "e4bjrD4Lee5r"
      },
      "execution_count": 20,
      "outputs": []
    },
    {
      "cell_type": "code",
      "source": [
        "# Fit the model on training data\n",
        "model = gbt.fit(training_data)"
      ],
      "metadata": {
        "id": "WU_TAwJ9z7g8"
      },
      "execution_count": 21,
      "outputs": []
    },
    {
      "cell_type": "markdown",
      "source": [
        "# Predictions with Test Data"
      ],
      "metadata": {
        "id": "1Hb-PX5S3sye"
      }
    },
    {
      "cell_type": "code",
      "source": [
        "# Predictions with test data\n",
        "predictions = model.transform(test_data)\n",
        "predictions.show(5)"
      ],
      "metadata": {
        "colab": {
          "base_uri": "https://localhost:8080/"
        },
        "id": "er2r3BpDFJXA",
        "outputId": "3f8dd011-e52f-4d1a-862c-6f1bee0859ba"
      },
      "execution_count": 22,
      "outputs": [
        {
          "output_type": "stream",
          "name": "stdout",
          "text": [
            "+---------+-----------+----------+----+--------------------+----------+-----------+----+----------+--------+------------------+----------------+---------+----------+----------+------------+-------+--------+--------+-------------+---------+----------+-------+-------------------+----+----------------+------------------+--------------+--------------+-------------------+---------------+--------------------+--------------------+--------------------+----------+\n",
            "|  id_odsp|   id_event|sort_order|time|                text|event_type|event_type2|side|event_team|opponent|            player|         player2|player_in|player_out|shot_place|shot_outcome|is_goal|location|bodypart|assist_method|situation|fast_break|country|               date|year|shot_place_index|shot_outcome_index|location_index|bodypart_index|assist_method_index|situation_index|            features|       rawPrediction|         probability|prediction|\n",
            "+---------+-----------+----------+----+--------------------+----------+-----------+----+----------+--------+------------------+----------------+---------+----------+----------+------------+-------+--------+--------+-------------+---------+----------+-------+-------------------+----+----------------+------------------+--------------+--------------+-------------------+---------------+--------------------+--------------------+--------------------+----------+\n",
            "|00LMl81F/| 00LMl81F10|        10|   8|Attempt missed. N...|         1|         12|   1|   AS Roma|AC Milan|  Nicolas Burdisso|  Miralem Pjanic|       NA|        NA|         8|           2|      0|       3|       3|            2|        3|         0|  Italy|2011-10-29 00:00:00|2011|             1.0|               0.0|           1.0|           2.0|                2.0|            1.0|[1.0,0.0,1.0,2.0,...|[1.54350200272502...|[0.95635347857271...|       0.0|\n",
            "|00LMl81F/|00LMl81F102|       102|  78|Goal!  Roma 1, Mi...|         1|         12|   2|  AC Milan| AS Roma|Zlatan Ibrahimovic|Alberto Aquilani|       NA|        NA|        12|           1|      1|       3|       3|            2|        3|         0|  Italy|2011-10-29 00:00:00|2011|            10.0|               1.0|           1.0|           2.0|                2.0|            1.0|[10.0,1.0,1.0,2.0...|[-1.4244626881946...|[0.05473689246615...|       1.0|\n",
            "|00LMl81F/|00LMl81F108|       108|  85|Attempt saved. Pa...|         1|         12|   1|   AS Roma|AC Milan|     Pablo Osvaldo|     Erik Lamela|       NA|        NA|         3|           1|      0|       9|       2|            1|        1|         0|  Italy|2011-10-29 00:00:00|2011|             5.0|               1.0|           2.0|           1.0|                0.0|            0.0|[5.0,1.0,2.0,1.0,...|[0.75814059391549...|[0.81999021368549...|       0.0|\n",
            "|00LMl81F/|00LMl81F113|       113|  87|Goal!  Roma 2, Mi...|         1|         NA|   1|   AS Roma|AC Milan|             Bojan|              Na|       NA|        NA|         4|           1|      1|      13|       1|            0|        1|         0|  Italy|2011-10-29 00:00:00|2011|             4.0|               1.0|           4.0|           0.0|                1.0|            0.0|[4.0,1.0,4.0,0.0,...|[-0.7998890286577...|[0.16801263670309...|       1.0|\n",
            "|00LMl81F/| 00LMl81F20|        20|  17|Goal!  Roma 0, Mi...|         1|         12|   2|  AC Milan| AS Roma|Zlatan Ibrahimovic|Alberto Aquilani|       NA|        NA|         4|           1|      1|       3|       3|            2|        1|         0|  Italy|2011-10-29 00:00:00|2011|             4.0|               1.0|           1.0|           2.0|                2.0|            0.0|[4.0,1.0,1.0,2.0,...|[0.54132075231625...|[0.74699353800809...|       0.0|\n",
            "+---------+-----------+----------+----+--------------------+----------+-----------+----+----------+--------+------------------+----------------+---------+----------+----------+------------+-------+--------+--------+-------------+---------+----------+-------+-------------------+----+----------------+------------------+--------------+--------------+-------------------+---------------+--------------------+--------------------+--------------------+----------+\n",
            "only showing top 5 rows\n",
            "\n"
          ]
        }
      ]
    },
    {
      "cell_type": "markdown",
      "source": [
        "# Evaluate our model"
      ],
      "metadata": {
        "id": "Yrmiw5Aq3m6-"
      }
    },
    {
      "cell_type": "code",
      "source": [
        "# Evaluate our model\n",
        "evaluator = MulticlassClassificationEvaluator(\n",
        "    labelCol='is_goal', \n",
        "    predictionCol='prediction', \n",
        "    metricName='accuracy')"
      ],
      "metadata": {
        "id": "dZFhLupdFO-I"
      },
      "execution_count": 23,
      "outputs": []
    },
    {
      "cell_type": "markdown",
      "source": [
        "# Calculate Test Accuracy"
      ],
      "metadata": {
        "id": "tZ4jTiw-3fl2"
      }
    },
    {
      "cell_type": "code",
      "source": [
        "accuracy = evaluator.evaluate(predictions)\n",
        "print('Test Accuracy = ', accuracy)"
      ],
      "metadata": {
        "colab": {
          "base_uri": "https://localhost:8080/"
        },
        "id": "t-sDUrKPFUJ3",
        "outputId": "a72d982d-a79c-4b6f-9bd3-b046c3b87bb7"
      },
      "execution_count": 24,
      "outputs": [
        {
          "output_type": "stream",
          "name": "stdout",
          "text": [
            "Test Accuracy =  0.9373787148681944\n"
          ]
        }
      ]
    },
    {
      "cell_type": "code",
      "source": [
        "from pyspark.ml.evaluation import RegressionEvaluator\n",
        "\n",
        "regEvaluator = RegressionEvaluator(\n",
        "    labelCol='is_goal', \n",
        "    predictionCol='prediction', \n",
        "    metricName='rmse')\n",
        "\n",
        "rmse = regEvaluator.evaluate(predictions)\n",
        "print('RMSE = ', rmse)"
      ],
      "metadata": {
        "id": "96kMZaAkCTDf",
        "outputId": "a8fe098b-ee90-43ff-880a-6538cd22090f",
        "colab": {
          "base_uri": "https://localhost:8080/"
        }
      },
      "execution_count": 25,
      "outputs": [
        {
          "output_type": "stream",
          "name": "stdout",
          "text": [
            "RMSE =  0.25024245269699064\n"
          ]
        }
      ]
    },
    {
      "cell_type": "markdown",
      "source": [
        "# Player Analysis"
      ],
      "metadata": {
        "id": "bUgokzg7UZLf"
      }
    },
    {
      "cell_type": "code",
      "source": [
        "# Predict the expected goal on all the data (training + test)\n",
        "\n",
        "pred = model.transform(transformed_data)\n",
        "pred.show()\n",
        "pred.count()"
      ],
      "metadata": {
        "colab": {
          "base_uri": "https://localhost:8080/"
        },
        "id": "V4w00_C-C11Y",
        "outputId": "36eeefe0-50d6-48a1-ee52-3f251a2967ec"
      },
      "execution_count": 26,
      "outputs": [
        {
          "output_type": "stream",
          "name": "stdout",
          "text": [
            "+---------+----------+----------+----+--------------------+----------+-----------+----+-----------------+-----------------+------------------+------------------+---------+----------+----------+------------+-------+--------+--------+-------------+---------+----------+-------+-------------------+----+----------------+------------------+--------------+--------------+-------------------+---------------+--------------------+--------------------+--------------------+----------+\n",
            "|  id_odsp|  id_event|sort_order|time|                text|event_type|event_type2|side|       event_team|         opponent|            player|           player2|player_in|player_out|shot_place|shot_outcome|is_goal|location|bodypart|assist_method|situation|fast_break|country|               date|year|shot_place_index|shot_outcome_index|location_index|bodypart_index|assist_method_index|situation_index|            features|       rawPrediction|         probability|prediction|\n",
            "+---------+----------+----------+----+--------------------+----------+-----------+----+-----------------+-----------------+------------------+------------------+---------+----------+----------+------------+-------+--------+--------+-------------+---------+----------+-------+-------------------+----+----------------+------------------+--------------+--------------+-------------------+---------------+--------------------+--------------------+--------------------+----------+\n",
            "|UFot0hit/| UFot0hit1|         1|   2|Attempt missed. M...|         1|         12|   2|       Hamburg SV|Borussia Dortmund|     Mladen Petric|       Gokhan Tore|       NA|        NA|         6|           2|      0|       9|       2|            1|        1|         0|Germany|2011-08-05 00:00:00|2011|             6.0|               0.0|           2.0|           1.0|                0.0|            0.0|[6.0,0.0,2.0,1.0,...|[1.54350200272508...|[0.95635347857271...|       0.0|\n",
            "|UFot0hit/|UFot0hit12|        12|  14|Attempt missed. S...|         1|         12|   1|Borussia Dortmund|       Hamburg SV|     Shinji Kagawa|       Mario Gotze|       NA|        NA|        13|           2|      0|      15|       1|            1|        1|         0|Germany|2011-08-05 00:00:00|2011|             8.0|               0.0|           0.0|           0.0|                0.0|            0.0|       (6,[0],[8.0])|[1.41065166420423...|[0.94381621822692...|       0.0|\n",
            "|UFot0hit/|UFot0hit14|        14|  17|Goal!  Borussia D...|         1|         12|   1|Borussia Dortmund|       Hamburg SV| Kevin Grosskreutz|       Mario Gotze|       NA|        NA|         4|           1|      1|       9|       2|            1|        1|         0|Germany|2011-08-05 00:00:00|2011|             4.0|               1.0|           2.0|           1.0|                0.0|            0.0|[4.0,1.0,2.0,1.0,...|[0.68677223915736...|[0.79795221378140...|       0.0|\n",
            "|UFot0hit/|UFot0hit15|        15|  19|Attempt blocked. ...|         1|         NA|   1|Borussia Dortmund|       Hamburg SV|      Mats Hummels|                Na|       NA|        NA|         2|           3|      0|      15|       1|            0|        1|         0|Germany|2011-08-05 00:00:00|2011|             0.0|               2.0|           0.0|           0.0|                1.0|            0.0| (6,[1,4],[2.0,1.0])|[1.54350200272509...|[0.95635347857271...|       0.0|\n",
            "|UFot0hit/|UFot0hit18|        18|  20|Attempt blocked. ...|         1|         NA|   2|       Hamburg SV|Borussia Dortmund|      Tomas Rincon|                Na|       NA|        NA|         2|           3|      0|      15|       1|            0|        1|         0|Germany|2011-08-05 00:00:00|2011|             0.0|               2.0|           0.0|           0.0|                1.0|            0.0| (6,[1,4],[2.0,1.0])|[1.54350200272509...|[0.95635347857271...|       0.0|\n",
            "|UFot0hit/|UFot0hit19|        19|  25|Shinji Kagawa (Bo...|         1|         12|   1|Borussia Dortmund|       Hamburg SV|     Shinji Kagawa|   Lukasz Piszczek|       NA|        NA|         7|           4|      0|       3|       1|            1|        1|         0|Germany|2011-08-05 00:00:00|2011|            12.0|               3.0|           1.0|           0.0|                0.0|            0.0|[12.0,3.0,1.0,0.0...|[1.54350200272505...|[0.95635347857271...|       0.0|\n",
            "|UFot0hit/|UFot0hit21|        21|  25|Attempt blocked. ...|         1|         NA|   1|Borussia Dortmund|       Hamburg SV|    Ilkay Gundogan|                Na|       NA|        NA|         2|           3|      0|      15|       2|            0|        1|         0|Germany|2011-08-05 00:00:00|2011|             0.0|               2.0|           0.0|           1.0|                1.0|            0.0|[0.0,2.0,0.0,1.0,...|[1.54350200272509...|[0.95635347857271...|       0.0|\n",
            "|UFot0hit/|UFot0hit23|        23|  26|Attempt saved. Ma...|         1|         12|   1|Borussia Dortmund|       Hamburg SV|      Mats Hummels|        Chris Lowe|       NA|        NA|         5|           1|      0|       3|       3|            2|        1|         0|Germany|2011-08-05 00:00:00|2011|             3.0|               1.0|           1.0|           2.0|                2.0|            0.0|[3.0,1.0,1.0,2.0,...|[0.84519359039167...|[0.84427507112972...|       0.0|\n",
            "|UFot0hit/|UFot0hit26|        26|  28|Attempt missed. S...|         1|         12|   1|Borussia Dortmund|       Hamburg SV|     Shinji Kagawa| Kevin Grosskreutz|       NA|        NA|         9|           2|      0|       9|       1|            1|        1|         0|Germany|2011-08-05 00:00:00|2011|             2.0|               0.0|           2.0|           0.0|                0.0|            0.0| (6,[0,2],[2.0,2.0])|[1.54350200272508...|[0.95635347857271...|       0.0|\n",
            "|UFot0hit/|UFot0hit27|        27|  29|Goal!  Borussia D...|         1|         12|   1|Borussia Dortmund|       Hamburg SV|       Mario Gotze|Robert Lewandowski|       NA|        NA|         5|           1|      1|       3|       1|            1|        1|         0|Germany|2011-08-05 00:00:00|2011|             3.0|               1.0|           1.0|           0.0|                0.0|            0.0|[3.0,1.0,1.0,0.0,...|[0.67293307195376...|[0.79345297154266...|       0.0|\n",
            "|UFot0hit/|UFot0hit35|        35|  36|Attempt missed. M...|         1|         NA|   1|Borussia Dortmund|       Hamburg SV|       Mario Gotze|                Na|       NA|        NA|        10|           2|      0|      11|       1|            0|        1|         0|Germany|2011-08-05 00:00:00|2011|             7.0|               0.0|           3.0|           0.0|                1.0|            0.0|[7.0,0.0,3.0,0.0,...|[1.54350200272508...|[0.95635347857271...|       0.0|\n",
            "|UFot0hit/|UFot0hit38|        38|  38|Attempt missed. G...|         1|         NA|   2|       Hamburg SV|Borussia Dortmund|       Gokhan Tore|                Na|       NA|        NA|        10|           2|      0|      15|       2|            0|        1|         0|Germany|2011-08-05 00:00:00|2011|             7.0|               0.0|           0.0|           1.0|                1.0|            0.0|[7.0,0.0,0.0,1.0,...|[1.54350200272508...|[0.95635347857271...|       0.0|\n",
            "|UFot0hit/|UFot0hit39|        39|  39|Attempt missed. R...|         1|         12|   1|Borussia Dortmund|       Hamburg SV|Robert Lewandowski|   Lukasz Piszczek|       NA|        NA|         9|           2|      0|       9|       3|            2|        1|         0|Germany|2011-08-05 00:00:00|2011|             2.0|               0.0|           2.0|           2.0|                2.0|            0.0|[2.0,0.0,2.0,2.0,...|[1.54350200272508...|[0.95635347857271...|       0.0|\n",
            "|UFot0hit/|UFot0hit44|        44|  45|Attempt missed. I...|         1|         12|   1|Borussia Dortmund|       Hamburg SV|    Ilkay Gundogan|       Mario Gotze|       NA|        NA|         8|           2|      0|      11|       1|            1|        1|         1|Germany|2011-08-05 00:00:00|2011|             1.0|               0.0|           3.0|           0.0|                0.0|            0.0| (6,[0,2],[1.0,3.0])|[1.54350200272508...|[0.95635347857271...|       0.0|\n",
            "|UFot0hit/|UFot0hit50|        50|  48|Attempt saved. Ke...|         1|         12|   1|Borussia Dortmund|       Hamburg SV| Kevin Grosskreutz|       Mario Gotze|       NA|        NA|        11|           1|      0|       3|       1|            1|        1|         0|Germany|2011-08-05 00:00:00|2011|            11.0|               1.0|           1.0|           0.0|                0.0|            0.0|[11.0,1.0,1.0,0.0...|[1.50210561899867...|[0.95276401430180...|       0.0|\n",
            "|UFot0hit/|UFot0hit51|        51|  49|Goal!  Borussia D...|         1|         NA|   1|Borussia Dortmund|       Hamburg SV| Kevin Grosskreutz|                Na|       NA|        NA|         4|           1|      1|      13|       1|            0|        3|         0|Germany|2011-08-05 00:00:00|2011|             4.0|               1.0|           4.0|           0.0|                1.0|            1.0|[4.0,1.0,4.0,0.0,...|[-1.4856818527353...|[0.04873646103062...|       1.0|\n",
            "|UFot0hit/|UFot0hit59|        59|  54|Attempt blocked. ...|         1|         12|   1|Borussia Dortmund|       Hamburg SV|     Shinji Kagawa| Kevin Grosskreutz|       NA|        NA|         2|           3|      0|      15|       1|            3|        1|         0|Germany|2011-08-05 00:00:00|2011|             0.0|               2.0|           0.0|           0.0|                3.0|            0.0| (6,[1,4],[2.0,3.0])|[1.54350200272507...|[0.95635347857271...|       0.0|\n",
            "|UFot0hit/|UFot0hit70|        70|  62|Attempt blocked. ...|         1|         NA|   2|       Hamburg SV|Borussia Dortmund|    Marcell Jansen|                Na|       NA|        NA|         2|           3|      0|      16|       2|            0|        1|         0|Germany|2011-08-05 00:00:00|2011|             0.0|               2.0|          10.0|           1.0|                1.0|            0.0|[0.0,2.0,10.0,1.0...|[1.54350200272509...|[0.95635347857271...|       0.0|\n",
            "|UFot0hit/|UFot0hit72|        72|  64|Attempt blocked. ...|         1|         12|   2|       Hamburg SV|Borussia Dortmund| Michael Mancienne|       Gokhan Tore|       NA|        NA|         2|           3|      0|       3|       1|            2|        1|         0|Germany|2011-08-05 00:00:00|2011|             0.0|               2.0|           1.0|           0.0|                2.0|            0.0|[0.0,2.0,1.0,0.0,...|[1.54350200272509...|[0.95635347857271...|       0.0|\n",
            "|UFot0hit/|UFot0hit92|        92|  79|Attempt blocked. ...|         1|         12|   2|       Hamburg SV|Borussia Dortmund|    Marcell Jansen|    Anis Benhatira|       NA|        NA|         2|           3|      0|       3|       3|            2|        1|         0|Germany|2011-08-05 00:00:00|2011|             0.0|               2.0|           1.0|           2.0|                2.0|            0.0|[0.0,2.0,1.0,2.0,...|[1.54350200272509...|[0.95635347857271...|       0.0|\n",
            "+---------+----------+----------+----+--------------------+----------+-----------+----+-----------------+-----------------+------------------+------------------+---------+----------+----------+------------+-------+--------+--------+-------------+---------+----------+-------+-------------------+----+----------------+------------------+--------------+--------------+-------------------+---------------+--------------------+--------------------+--------------------+----------+\n",
            "only showing top 20 rows\n",
            "\n"
          ]
        },
        {
          "output_type": "execute_result",
          "data": {
            "text/plain": [
              "229131"
            ]
          },
          "metadata": {},
          "execution_count": 26
        }
      ]
    },
    {
      "cell_type": "code",
      "source": [
        "# Create a new dataframe with selected columns for player analysis\n",
        "\n",
        "players = pred.select('player', 'is_goal', 'prediction')\n",
        "players.show(5)\n",
        "players.count()"
      ],
      "metadata": {
        "colab": {
          "base_uri": "https://localhost:8080/"
        },
        "id": "TR2r7eSHqqUE",
        "outputId": "caf57fd1-3b13-4901-ab50-4a537347f727"
      },
      "execution_count": 27,
      "outputs": [
        {
          "output_type": "stream",
          "name": "stdout",
          "text": [
            "+-----------------+-------+----------+\n",
            "|           player|is_goal|prediction|\n",
            "+-----------------+-------+----------+\n",
            "|    Mladen Petric|      0|       0.0|\n",
            "|    Shinji Kagawa|      0|       0.0|\n",
            "|Kevin Grosskreutz|      1|       0.0|\n",
            "|     Mats Hummels|      0|       0.0|\n",
            "|     Tomas Rincon|      0|       0.0|\n",
            "+-----------------+-------+----------+\n",
            "only showing top 5 rows\n",
            "\n"
          ]
        },
        {
          "output_type": "execute_result",
          "data": {
            "text/plain": [
              "229131"
            ]
          },
          "metadata": {},
          "execution_count": 27
        }
      ]
    },
    {
      "cell_type": "code",
      "source": [
        "# Count the number of actual goals and expected goals per player\n",
        "\n",
        "player_group = players.groupBy('player').sum()\n",
        "player_group = player_group.withColumnRenamed('sum(is_goal)', 'true_goals').withColumnRenamed('sum(prediction)', 'expected_goals')\n",
        "\n",
        "# Calculate the difference between the expected goals and the true goals\n",
        "player_group = player_group.withColumn('difference', player_group.expected_goals - player_group.true_goals)\n",
        "player_group.show(5)"
      ],
      "metadata": {
        "colab": {
          "base_uri": "https://localhost:8080/"
        },
        "id": "Q_tn3jmrxV2b",
        "outputId": "f7268aab-44f0-402f-f91c-5c210d3a888f"
      },
      "execution_count": 28,
      "outputs": [
        {
          "output_type": "stream",
          "name": "stdout",
          "text": [
            "+----------------+----------+--------------+----------+\n",
            "|          player|true_goals|expected_goals|difference|\n",
            "+----------------+----------+--------------+----------+\n",
            "|    Isimat Mirin|         0|           0.0|       0.0|\n",
            "| Claudio Pizarro|        47|          48.0|       1.0|\n",
            "|   Julien Escude|         1|           2.0|       1.0|\n",
            "|Antonio Da Silva|         0|           0.0|       0.0|\n",
            "|     Inigo Lopez|         5|           5.0|       0.0|\n",
            "+----------------+----------+--------------+----------+\n",
            "only showing top 5 rows\n",
            "\n"
          ]
        }
      ]
    },
    {
      "cell_type": "code",
      "source": [
        "# Sort by the least difference (Expected - True)\n",
        "# Absolute difference indicates the number of goals made on top of the expected goals\n",
        "\n",
        "# Best Finishers with most goals on top of expected\n",
        "result = player_group.sort('difference')\n",
        "result.show(6)"
      ],
      "metadata": {
        "colab": {
          "base_uri": "https://localhost:8080/"
        },
        "id": "uxxxfUm8aQjx",
        "outputId": "120cdc16-9418-465b-c3d5-bd1e5891c5b2"
      },
      "execution_count": 43,
      "outputs": [
        {
          "output_type": "stream",
          "name": "stdout",
          "text": [
            "+------------------+----------+--------------+----------+\n",
            "|            player|true_goals|expected_goals|difference|\n",
            "+------------------+----------+--------------+----------+\n",
            "| Cristiano Ronaldo|       198|         168.0|     -30.0|\n",
            "|   Gonzalo Higuain|       118|          95.0|     -23.0|\n",
            "|        Marco Reus|        65|          44.0|     -21.0|\n",
            "|       Gareth Bale|        50|          31.0|     -19.0|\n",
            "|Robert Lewandowski|       124|         105.0|     -19.0|\n",
            "|      Lionel Messi|       205|         186.0|     -19.0|\n",
            "+------------------+----------+--------------+----------+\n",
            "only showing top 6 rows\n",
            "\n"
          ]
        }
      ]
    },
    {
      "cell_type": "code",
      "source": [
        "# Messi is my favourite player. So showing the result below\n",
        "\n",
        "result.filter(result.player == 'Lionel Messi').show()"
      ],
      "metadata": {
        "id": "kA6i0FeJkK0o",
        "outputId": "8b665401-1e21-45c2-c356-3d26ef94f3c3",
        "colab": {
          "base_uri": "https://localhost:8080/"
        }
      },
      "execution_count": 44,
      "outputs": [
        {
          "output_type": "stream",
          "name": "stdout",
          "text": [
            "+------------+----------+--------------+----------+\n",
            "|      player|true_goals|expected_goals|difference|\n",
            "+------------+----------+--------------+----------+\n",
            "|Lionel Messi|       205|         186.0|     -19.0|\n",
            "+------------+----------+--------------+----------+\n",
            "\n"
          ]
        }
      ]
    },
    {
      "cell_type": "code",
      "source": [
        "# Sort by ratio between the true goals and the expected goals in descending order\n",
        "\n",
        "# Best Finishers with highest (true goals / expected goals) ratio\n",
        "result2 = player_group.withColumn('ratio', player_group['true_goals'] / player_group['expected_goals'])\n",
        "result2.orderBy(col('ratio').desc()).show(5)"
      ],
      "metadata": {
        "id": "3oANyV2SToSx",
        "colab": {
          "base_uri": "https://localhost:8080/"
        },
        "outputId": "e7c7df25-b4ad-4349-9c78-1bdcc00f8d50"
      },
      "execution_count": 45,
      "outputs": [
        {
          "output_type": "stream",
          "name": "stdout",
          "text": [
            "+---------------+----------+--------------+----------+-----+\n",
            "|         player|true_goals|expected_goals|difference|ratio|\n",
            "+---------------+----------+--------------+----------+-----+\n",
            "|   Gokhan Inler|         9|           1.0|      -8.0|  9.0|\n",
            "| Cristian Tello|        13|           2.0|     -11.0|  6.5|\n",
            "|   Jordon Mutch|         6|           1.0|      -5.0|  6.0|\n",
            "|Geoffrey Dernis|         6|           1.0|      -5.0|  6.0|\n",
            "| Adrian Embarba|         5|           1.0|      -4.0|  5.0|\n",
            "+---------------+----------+--------------+----------+-----+\n",
            "only showing top 5 rows\n",
            "\n"
          ]
        }
      ]
    },
    {
      "cell_type": "code",
      "source": [
        "pred.filter(pred.prediction == 1).count()"
      ],
      "metadata": {
        "colab": {
          "base_uri": "https://localhost:8080/"
        },
        "id": "_tnTPhq3bJua",
        "outputId": "38b9d300-db15-402c-f781-a23a64ad1dbe"
      },
      "execution_count": 31,
      "outputs": [
        {
          "output_type": "execute_result",
          "data": {
            "text/plain": [
              "21484"
            ]
          },
          "metadata": {},
          "execution_count": 31
        }
      ]
    }
  ],
  "metadata": {
    "kernelspec": {
      "name": "python3",
      "display_name": "Python 3",
      "language": "python"
    },
    "language_info": {
      "name": "python",
      "version": "3.6.6",
      "mimetype": "text/x-python",
      "codemirror_mode": {
        "name": "ipython",
        "version": 3
      },
      "pygments_lexer": "ipython3",
      "nbconvert_exporter": "python",
      "file_extension": ".py"
    },
    "colab": {
      "provenance": []
    },
    "accelerator": "GPU",
    "gpuClass": "standard"
  },
  "nbformat": 4,
  "nbformat_minor": 0
}