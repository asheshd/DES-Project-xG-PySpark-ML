{
  "cells": [
    {
      "cell_type": "markdown",
      "source": [
        "# DA 231o Data Engineering at Scale Project\n",
        "\n"
      ],
      "metadata": {
        "id": "_Mp4yFaY5aX4"
      }
    },
    {
      "metadata": {
        "id": "CtBw-HfrqKEU"
      },
      "cell_type": "markdown",
      "source": [
        "# Expected Goals Model & Player Analysis"
      ]
    },
    {
      "cell_type": "code",
      "source": [
        "!pip install pyspark"
      ],
      "metadata": {
        "colab": {
          "base_uri": "https://localhost:8080/"
        },
        "id": "yf4nn9Njzf6l",
        "outputId": "a8973a86-100d-4f69-c4b1-bfbe2c8b46c7"
      },
      "execution_count": 1,
      "outputs": [
        {
          "output_type": "stream",
          "name": "stdout",
          "text": [
            "Looking in indexes: https://pypi.org/simple, https://us-python.pkg.dev/colab-wheels/public/simple/\n",
            "Collecting pyspark\n",
            "  Downloading pyspark-3.3.1.tar.gz (281.4 MB)\n",
            "\u001b[K     |████████████████████████████████| 281.4 MB 37 kB/s \n",
            "\u001b[?25hCollecting py4j==0.10.9.5\n",
            "  Downloading py4j-0.10.9.5-py2.py3-none-any.whl (199 kB)\n",
            "\u001b[K     |████████████████████████████████| 199 kB 64.7 MB/s \n",
            "\u001b[?25hBuilding wheels for collected packages: pyspark\n",
            "  Building wheel for pyspark (setup.py) ... \u001b[?25l\u001b[?25hdone\n",
            "  Created wheel for pyspark: filename=pyspark-3.3.1-py2.py3-none-any.whl size=281845512 sha256=6c7f1c7a56ba26467b6e3c6cd35cc7778277caeeadc953567504d0638b95ef2e\n",
            "  Stored in directory: /root/.cache/pip/wheels/42/59/f5/79a5bf931714dcd201b26025347785f087370a10a3329a899c\n",
            "Successfully built pyspark\n",
            "Installing collected packages: py4j, pyspark\n",
            "Successfully installed py4j-0.10.9.5 pyspark-3.3.1\n"
          ]
        }
      ]
    },
    {
      "metadata": {
        "_kg_hide-output": true,
        "trusted": true,
        "id": "-q6iNmVPqKEb"
      },
      "cell_type": "code",
      "source": [
        "import pandas as pd\n",
        "import numpy as np\n",
        "import matplotlib.pyplot as plt\n",
        "import seaborn as sns\n",
        "\n",
        "import pyspark\n",
        "pyspark.__version__\n",
        "\n",
        "from pyspark.ml.feature import VectorAssembler\n",
        "from pyspark.ml.classification import GBTClassifier\n",
        "from pyspark.ml.evaluation import MulticlassClassificationEvaluator\n",
        "\n",
        "from pyspark.sql import SparkSession"
      ],
      "execution_count": 2,
      "outputs": []
    },
    {
      "metadata": {
        "id": "ieW3Bcy1qKEf"
      },
      "cell_type": "markdown",
      "source": [
        "# Load input Dataset with Goals"
      ]
    },
    {
      "cell_type": "code",
      "source": [
        "from google.colab import drive\n",
        "drive.mount('/content/drive')"
      ],
      "metadata": {
        "colab": {
          "base_uri": "https://localhost:8080/"
        },
        "id": "2GbdFJR4ukCV",
        "outputId": "47170d47-46c1-4411-de59-c599b927740d"
      },
      "execution_count": 3,
      "outputs": [
        {
          "output_type": "stream",
          "name": "stdout",
          "text": [
            "Mounted at /content/drive\n"
          ]
        }
      ]
    },
    {
      "cell_type": "code",
      "source": [
        "data = pd.read_csv('drive/MyDrive/refined_goal_dataset.csv')"
      ],
      "metadata": {
        "id": "4hqvNNn-2krm"
      },
      "execution_count": 4,
      "outputs": []
    },
    {
      "metadata": {
        "trusted": true,
        "colab": {
          "base_uri": "https://localhost:8080/"
        },
        "id": "CEALMyjtqKEk",
        "outputId": "24fdca86-123c-4bd9-c314-d4084294ea1b"
      },
      "cell_type": "code",
      "source": [
        "print(len(data))\n",
        "print(data.is_goal.sum())\n",
        "print(len(data.columns)-1)"
      ],
      "execution_count": 5,
      "outputs": [
        {
          "output_type": "stream",
          "name": "stdout",
          "text": [
            "229135\n",
            "24441\n",
            "29\n"
          ]
        }
      ]
    },
    {
      "cell_type": "code",
      "source": [
        "spark = SparkSession \\\n",
        "    .builder \\\n",
        "    .appName('xG Project Solution') \\\n",
        "    .getOrCreate()\n",
        "  \n",
        "spark"
      ],
      "metadata": {
        "colab": {
          "base_uri": "https://localhost:8080/",
          "height": 219
        },
        "id": "vlDbnrOAzpec",
        "outputId": "cc603923-7d5b-4caf-db5b-5ff7e5476292"
      },
      "execution_count": 6,
      "outputs": [
        {
          "output_type": "execute_result",
          "data": {
            "text/plain": [
              "<pyspark.sql.session.SparkSession at 0x7fd193ad6090>"
            ],
            "text/html": [
              "\n",
              "            <div>\n",
              "                <p><b>SparkSession - in-memory</b></p>\n",
              "                \n",
              "        <div>\n",
              "            <p><b>SparkContext</b></p>\n",
              "\n",
              "            <p><a href=\"http://e07120091c2e:4040\">Spark UI</a></p>\n",
              "\n",
              "            <dl>\n",
              "              <dt>Version</dt>\n",
              "                <dd><code>v3.3.1</code></dd>\n",
              "              <dt>Master</dt>\n",
              "                <dd><code>local[*]</code></dd>\n",
              "              <dt>AppName</dt>\n",
              "                <dd><code>xG Project Solution</code></dd>\n",
              "            </dl>\n",
              "        </div>\n",
              "        \n",
              "            </div>\n",
              "        "
            ]
          },
          "metadata": {},
          "execution_count": 6
        }
      ]
    },
    {
      "cell_type": "code",
      "source": [
        "data.columns"
      ],
      "metadata": {
        "colab": {
          "base_uri": "https://localhost:8080/"
        },
        "id": "7w-fnKAp9b4m",
        "outputId": "fb529eae-8be8-4ecf-83ca-c3c069a9bf6e"
      },
      "execution_count": 7,
      "outputs": [
        {
          "output_type": "execute_result",
          "data": {
            "text/plain": [
              "Index(['Unnamed: 0', 'fast_break', 'loc_centre_box', 'loc_diff_angle_lr',\n",
              "       'diff_angle_left', 'diff_angle_right', 'left_side_box',\n",
              "       'left_side_6ybox', 'right_side_box', 'right_side_6ybox', 'close_range',\n",
              "       'penalty', 'outside_box', 'long_range', 'more_35y', 'more_40y',\n",
              "       'not_recorded', 'right_foot', 'left_foot', 'header', 'no_assist',\n",
              "       'assist_pass', 'assist_cross', 'assist_header', 'assist_through_ball',\n",
              "       'open_play', 'set_piece', 'corner', 'free_kick', 'is_goal'],\n",
              "      dtype='object')"
            ]
          },
          "metadata": {},
          "execution_count": 7
        }
      ]
    },
    {
      "cell_type": "code",
      "source": [
        "dataset = spark.createDataFrame(data=data)\n",
        "dataset.show()"
      ],
      "metadata": {
        "colab": {
          "base_uri": "https://localhost:8080/"
        },
        "id": "YtdhLESrCvqv",
        "outputId": "a07d0e26-ece0-45d0-8b48-f37ff544ff2a"
      },
      "execution_count": 8,
      "outputs": [
        {
          "output_type": "stream",
          "name": "stdout",
          "text": [
            "+----------+----------+--------------+-----------------+---------------+----------------+-------------+---------------+--------------+----------------+-----------+-------+-----------+----------+--------+--------+------------+----------+---------+------+---------+-----------+------------+-------------+-------------------+---------+---------+------+---------+-------+\n",
            "|Unnamed: 0|fast_break|loc_centre_box|loc_diff_angle_lr|diff_angle_left|diff_angle_right|left_side_box|left_side_6ybox|right_side_box|right_side_6ybox|close_range|penalty|outside_box|long_range|more_35y|more_40y|not_recorded|right_foot|left_foot|header|no_assist|assist_pass|assist_cross|assist_header|assist_through_ball|open_play|set_piece|corner|free_kick|is_goal|\n",
            "+----------+----------+--------------+-----------------+---------------+----------------+-------------+---------------+--------------+----------------+-----------+-------+-----------+----------+--------+--------+------------+----------+---------+------+---------+-----------+------------+-------------+-------------------+---------+---------+------+---------+-------+\n",
            "|         0|         0|             0|                0|              0|               0|            1|              0|             0|               0|          0|      0|          0|         0|       0|       0|           0|         0|        1|     0|        0|          1|           0|            0|                  0|        1|        0|     0|        0|      0|\n",
            "|        11|         0|             0|                0|              0|               0|            0|              0|             0|               0|          0|      0|          1|         0|       0|       0|           0|         1|        0|     0|        0|          1|           0|            0|                  0|        1|        0|     0|        0|      0|\n",
            "|        13|         0|             0|                0|              0|               0|            1|              0|             0|               0|          0|      0|          0|         0|       0|       0|           0|         0|        1|     0|        0|          1|           0|            0|                  0|        1|        0|     0|        0|      1|\n",
            "|        14|         0|             0|                0|              0|               0|            0|              0|             0|               0|          0|      0|          1|         0|       0|       0|           0|         1|        0|     0|        1|          0|           0|            0|                  0|        1|        0|     0|        0|      0|\n",
            "|        17|         0|             0|                0|              0|               0|            0|              0|             0|               0|          0|      0|          1|         0|       0|       0|           0|         1|        0|     0|        1|          0|           0|            0|                  0|        1|        0|     0|        0|      0|\n",
            "|        18|         0|             1|                0|              0|               0|            0|              0|             0|               0|          0|      0|          0|         0|       0|       0|           0|         1|        0|     0|        0|          1|           0|            0|                  0|        1|        0|     0|        0|      0|\n",
            "|        20|         0|             0|                0|              0|               0|            0|              0|             0|               0|          0|      0|          1|         0|       0|       0|           0|         0|        1|     0|        1|          0|           0|            0|                  0|        1|        0|     0|        0|      0|\n",
            "|        22|         0|             1|                0|              0|               0|            0|              0|             0|               0|          0|      0|          0|         0|       0|       0|           0|         0|        0|     1|        0|          0|           1|            0|                  0|        1|        0|     0|        0|      0|\n",
            "|        25|         0|             0|                0|              0|               0|            1|              0|             0|               0|          0|      0|          0|         0|       0|       0|           0|         1|        0|     0|        0|          1|           0|            0|                  0|        1|        0|     0|        0|      0|\n",
            "|        26|         0|             1|                0|              0|               0|            0|              0|             0|               0|          0|      0|          0|         0|       0|       0|           0|         1|        0|     0|        0|          1|           0|            0|                  0|        1|        0|     0|        0|      1|\n",
            "|        34|         0|             0|                0|              0|               0|            0|              0|             1|               0|          0|      0|          0|         0|       0|       0|           0|         1|        0|     0|        1|          0|           0|            0|                  0|        1|        0|     0|        0|      0|\n",
            "|        37|         0|             0|                0|              0|               0|            0|              0|             0|               0|          0|      0|          1|         0|       0|       0|           0|         0|        1|     0|        1|          0|           0|            0|                  0|        1|        0|     0|        0|      0|\n",
            "|        38|         0|             0|                0|              0|               0|            1|              0|             0|               0|          0|      0|          0|         0|       0|       0|           0|         0|        0|     1|        0|          0|           1|            0|                  0|        1|        0|     0|        0|      0|\n",
            "|        43|         1|             0|                0|              0|               0|            0|              0|             1|               0|          0|      0|          0|         0|       0|       0|           0|         1|        0|     0|        0|          1|           0|            0|                  0|        1|        0|     0|        0|      0|\n",
            "|        49|         0|             1|                0|              0|               0|            0|              0|             0|               0|          0|      0|          0|         0|       0|       0|           0|         1|        0|     0|        0|          1|           0|            0|                  0|        1|        0|     0|        0|      0|\n",
            "|        50|         0|             0|                0|              0|               0|            0|              0|             0|               0|          1|      0|          0|         0|       0|       0|           0|         1|        0|     0|        1|          0|           0|            0|                  0|        0|        0|     1|        0|      1|\n",
            "|        58|         0|             0|                0|              0|               0|            0|              0|             0|               0|          0|      0|          1|         0|       0|       0|           0|         1|        0|     0|        0|          0|           0|            1|                  0|        1|        0|     0|        0|      0|\n",
            "|        69|         0|             0|                0|              0|               0|            0|              0|             0|               0|          0|      0|          0|         1|       0|       0|           0|         0|        1|     0|        1|          0|           0|            0|                  0|        1|        0|     0|        0|      0|\n",
            "|        71|         0|             1|                0|              0|               0|            0|              0|             0|               0|          0|      0|          0|         0|       0|       0|           0|         1|        0|     0|        0|          0|           1|            0|                  0|        1|        0|     0|        0|      0|\n",
            "|        91|         0|             1|                0|              0|               0|            0|              0|             0|               0|          0|      0|          0|         0|       0|       0|           0|         0|        0|     1|        0|          0|           1|            0|                  0|        1|        0|     0|        0|      0|\n",
            "+----------+----------+--------------+-----------------+---------------+----------------+-------------+---------------+--------------+----------------+-----------+-------+-----------+----------+--------+--------+------------+----------+---------+------+---------+-----------+------------+-------------+-------------------+---------+---------+------+---------+-------+\n",
            "only showing top 20 rows\n",
            "\n"
          ]
        }
      ]
    },
    {
      "cell_type": "markdown",
      "source": [
        "# Extended Goals with PySpark Machine Learning"
      ],
      "metadata": {
        "id": "vN2Yvehe4JSv"
      }
    },
    {
      "cell_type": "code",
      "source": [
        "required_features = list(data.columns[:-1]) # remove 'is_goal' because it is the label\n",
        "\n",
        "assembler = VectorAssembler(inputCols=required_features, outputCol='features')\n",
        "transformed_data = assembler.transform(dataset)\n",
        "\n",
        "transformed_data.show()"
      ],
      "metadata": {
        "colab": {
          "base_uri": "https://localhost:8080/"
        },
        "id": "MiD6yFkC_F5O",
        "outputId": "49ef7115-683e-465d-9786-c8bfa2a45ab7"
      },
      "execution_count": 9,
      "outputs": [
        {
          "output_type": "stream",
          "name": "stdout",
          "text": [
            "+----------+----------+--------------+-----------------+---------------+----------------+-------------+---------------+--------------+----------------+-----------+-------+-----------+----------+--------+--------+------------+----------+---------+------+---------+-----------+------------+-------------+-------------------+---------+---------+------+---------+-------+--------------------+\n",
            "|Unnamed: 0|fast_break|loc_centre_box|loc_diff_angle_lr|diff_angle_left|diff_angle_right|left_side_box|left_side_6ybox|right_side_box|right_side_6ybox|close_range|penalty|outside_box|long_range|more_35y|more_40y|not_recorded|right_foot|left_foot|header|no_assist|assist_pass|assist_cross|assist_header|assist_through_ball|open_play|set_piece|corner|free_kick|is_goal|            features|\n",
            "+----------+----------+--------------+-----------------+---------------+----------------+-------------+---------------+--------------+----------------+-----------+-------+-----------+----------+--------+--------+------------+----------+---------+------+---------+-----------+------------+-------------+-------------------+---------+---------+------+---------+-------+--------------------+\n",
            "|         0|         0|             0|                0|              0|               0|            1|              0|             0|               0|          0|      0|          0|         0|       0|       0|           0|         0|        1|     0|        0|          1|           0|            0|                  0|        1|        0|     0|        0|      0|(29,[6,18,21,25],...|\n",
            "|        11|         0|             0|                0|              0|               0|            0|              0|             0|               0|          0|      0|          1|         0|       0|       0|           0|         1|        0|     0|        0|          1|           0|            0|                  0|        1|        0|     0|        0|      0|(29,[0,12,17,21,2...|\n",
            "|        13|         0|             0|                0|              0|               0|            1|              0|             0|               0|          0|      0|          0|         0|       0|       0|           0|         0|        1|     0|        0|          1|           0|            0|                  0|        1|        0|     0|        0|      1|(29,[0,6,18,21,25...|\n",
            "|        14|         0|             0|                0|              0|               0|            0|              0|             0|               0|          0|      0|          1|         0|       0|       0|           0|         1|        0|     0|        1|          0|           0|            0|                  0|        1|        0|     0|        0|      0|(29,[0,12,17,20,2...|\n",
            "|        17|         0|             0|                0|              0|               0|            0|              0|             0|               0|          0|      0|          1|         0|       0|       0|           0|         1|        0|     0|        1|          0|           0|            0|                  0|        1|        0|     0|        0|      0|(29,[0,12,17,20,2...|\n",
            "|        18|         0|             1|                0|              0|               0|            0|              0|             0|               0|          0|      0|          0|         0|       0|       0|           0|         1|        0|     0|        0|          1|           0|            0|                  0|        1|        0|     0|        0|      0|(29,[0,2,17,21,25...|\n",
            "|        20|         0|             0|                0|              0|               0|            0|              0|             0|               0|          0|      0|          1|         0|       0|       0|           0|         0|        1|     0|        1|          0|           0|            0|                  0|        1|        0|     0|        0|      0|(29,[0,12,18,20,2...|\n",
            "|        22|         0|             1|                0|              0|               0|            0|              0|             0|               0|          0|      0|          0|         0|       0|       0|           0|         0|        0|     1|        0|          0|           1|            0|                  0|        1|        0|     0|        0|      0|(29,[0,2,19,22,25...|\n",
            "|        25|         0|             0|                0|              0|               0|            1|              0|             0|               0|          0|      0|          0|         0|       0|       0|           0|         1|        0|     0|        0|          1|           0|            0|                  0|        1|        0|     0|        0|      0|(29,[0,6,17,21,25...|\n",
            "|        26|         0|             1|                0|              0|               0|            0|              0|             0|               0|          0|      0|          0|         0|       0|       0|           0|         1|        0|     0|        0|          1|           0|            0|                  0|        1|        0|     0|        0|      1|(29,[0,2,17,21,25...|\n",
            "|        34|         0|             0|                0|              0|               0|            0|              0|             1|               0|          0|      0|          0|         0|       0|       0|           0|         1|        0|     0|        1|          0|           0|            0|                  0|        1|        0|     0|        0|      0|(29,[0,8,17,20,25...|\n",
            "|        37|         0|             0|                0|              0|               0|            0|              0|             0|               0|          0|      0|          1|         0|       0|       0|           0|         0|        1|     0|        1|          0|           0|            0|                  0|        1|        0|     0|        0|      0|(29,[0,12,18,20,2...|\n",
            "|        38|         0|             0|                0|              0|               0|            1|              0|             0|               0|          0|      0|          0|         0|       0|       0|           0|         0|        0|     1|        0|          0|           1|            0|                  0|        1|        0|     0|        0|      0|(29,[0,6,19,22,25...|\n",
            "|        43|         1|             0|                0|              0|               0|            0|              0|             1|               0|          0|      0|          0|         0|       0|       0|           0|         1|        0|     0|        0|          1|           0|            0|                  0|        1|        0|     0|        0|      0|(29,[0,1,8,17,21,...|\n",
            "|        49|         0|             1|                0|              0|               0|            0|              0|             0|               0|          0|      0|          0|         0|       0|       0|           0|         1|        0|     0|        0|          1|           0|            0|                  0|        1|        0|     0|        0|      0|(29,[0,2,17,21,25...|\n",
            "|        50|         0|             0|                0|              0|               0|            0|              0|             0|               0|          1|      0|          0|         0|       0|       0|           0|         1|        0|     0|        1|          0|           0|            0|                  0|        0|        0|     1|        0|      1|(29,[0,10,17,20,2...|\n",
            "|        58|         0|             0|                0|              0|               0|            0|              0|             0|               0|          0|      0|          1|         0|       0|       0|           0|         1|        0|     0|        0|          0|           0|            1|                  0|        1|        0|     0|        0|      0|(29,[0,12,17,23,2...|\n",
            "|        69|         0|             0|                0|              0|               0|            0|              0|             0|               0|          0|      0|          0|         1|       0|       0|           0|         0|        1|     0|        1|          0|           0|            0|                  0|        1|        0|     0|        0|      0|(29,[0,13,18,20,2...|\n",
            "|        71|         0|             1|                0|              0|               0|            0|              0|             0|               0|          0|      0|          0|         0|       0|       0|           0|         1|        0|     0|        0|          0|           1|            0|                  0|        1|        0|     0|        0|      0|(29,[0,2,17,22,25...|\n",
            "|        91|         0|             1|                0|              0|               0|            0|              0|             0|               0|          0|      0|          0|         0|       0|       0|           0|         0|        0|     1|        0|          0|           1|            0|                  0|        1|        0|     0|        0|      0|(29,[0,2,19,22,25...|\n",
            "+----------+----------+--------------+-----------------+---------------+----------------+-------------+---------------+--------------+----------------+-----------+-------+-----------+----------+--------+--------+------------+----------+---------+------+---------+-----------+------------+-------------+-------------------+---------+---------+------+---------+-------+--------------------+\n",
            "only showing top 20 rows\n",
            "\n"
          ]
        }
      ]
    },
    {
      "cell_type": "code",
      "source": [
        "(training_data, test_data) = transformed_data.randomSplit([0.8,0.2])\n",
        "\n",
        "print(\"Total Data\", transformed_data.count())\n",
        "print(\"Total Training Data\", training_data.count())\n",
        "print(\"Total Test Data\", test_data.count())\n",
        "\n",
        "print(\"Training Dataset\")\n",
        "training_data.show(5)"
      ],
      "metadata": {
        "colab": {
          "base_uri": "https://localhost:8080/"
        },
        "id": "PpkbwY7WEJCI",
        "outputId": "0f3cb8fc-82d1-4f76-8abf-d4ca6214e2cd"
      },
      "execution_count": 10,
      "outputs": [
        {
          "output_type": "stream",
          "name": "stdout",
          "text": [
            "Total Data 229135\n",
            "Total Training Data 183309\n",
            "Total Test Data 45826\n",
            "Training Dataset\n",
            "+----------+----------+--------------+-----------------+---------------+----------------+-------------+---------------+--------------+----------------+-----------+-------+-----------+----------+--------+--------+------------+----------+---------+------+---------+-----------+------------+-------------+-------------------+---------+---------+------+---------+-------+--------------------+\n",
            "|Unnamed: 0|fast_break|loc_centre_box|loc_diff_angle_lr|diff_angle_left|diff_angle_right|left_side_box|left_side_6ybox|right_side_box|right_side_6ybox|close_range|penalty|outside_box|long_range|more_35y|more_40y|not_recorded|right_foot|left_foot|header|no_assist|assist_pass|assist_cross|assist_header|assist_through_ball|open_play|set_piece|corner|free_kick|is_goal|            features|\n",
            "+----------+----------+--------------+-----------------+---------------+----------------+-------------+---------------+--------------+----------------+-----------+-------+-----------+----------+--------+--------+------------+----------+---------+------+---------+-----------+------------+-------------+-------------------+---------+---------+------+---------+-------+--------------------+\n",
            "|         0|         0|             0|                0|              0|               0|            1|              0|             0|               0|          0|      0|          0|         0|       0|       0|           0|         0|        1|     0|        0|          1|           0|            0|                  0|        1|        0|     0|        0|      0|(29,[6,18,21,25],...|\n",
            "|        11|         0|             0|                0|              0|               0|            0|              0|             0|               0|          0|      0|          1|         0|       0|       0|           0|         1|        0|     0|        0|          1|           0|            0|                  0|        1|        0|     0|        0|      0|(29,[0,12,17,21,2...|\n",
            "|        13|         0|             0|                0|              0|               0|            1|              0|             0|               0|          0|      0|          0|         0|       0|       0|           0|         0|        1|     0|        0|          1|           0|            0|                  0|        1|        0|     0|        0|      1|(29,[0,6,18,21,25...|\n",
            "|        14|         0|             0|                0|              0|               0|            0|              0|             0|               0|          0|      0|          1|         0|       0|       0|           0|         1|        0|     0|        1|          0|           0|            0|                  0|        1|        0|     0|        0|      0|(29,[0,12,17,20,2...|\n",
            "|        17|         0|             0|                0|              0|               0|            0|              0|             0|               0|          0|      0|          1|         0|       0|       0|           0|         1|        0|     0|        1|          0|           0|            0|                  0|        1|        0|     0|        0|      0|(29,[0,12,17,20,2...|\n",
            "+----------+----------+--------------+-----------------+---------------+----------------+-------------+---------------+--------------+----------------+-----------+-------+-----------+----------+--------+--------+------------+----------+---------+------+---------+-----------+------------+-------------+-------------------+---------+---------+------+---------+-------+--------------------+\n",
            "only showing top 5 rows\n",
            "\n"
          ]
        }
      ]
    },
    {
      "cell_type": "markdown",
      "source": [
        "# Gradient-Boosted Trees (GBTs) Classifier"
      ],
      "metadata": {
        "id": "rY_vTrzS3xuO"
      }
    },
    {
      "cell_type": "code",
      "source": [
        "gbt = GBTClassifier(labelCol='is_goal', \n",
        "                            featuresCol='features',\n",
        "                            maxDepth=5)"
      ],
      "metadata": {
        "id": "YBQvqTANzyPE"
      },
      "execution_count": 11,
      "outputs": []
    },
    {
      "cell_type": "code",
      "source": [
        "# Another classifier\n",
        "# from pyspark.ml.classification import RandomForestClassifier\n",
        "# gbt = RandomForestClassifier(labelCol='is_goal', \n",
        "#                             featuresCol='features',\n",
        "#                             maxDepth=5)"
      ],
      "metadata": {
        "id": "VTtZEvZTMAlb"
      },
      "execution_count": 12,
      "outputs": []
    },
    {
      "cell_type": "code",
      "source": [
        "# Fit the model on training data\n",
        "model = gbt.fit(training_data)"
      ],
      "metadata": {
        "id": "WU_TAwJ9z7g8"
      },
      "execution_count": 13,
      "outputs": []
    },
    {
      "cell_type": "markdown",
      "source": [
        "# Predictions with Test Data"
      ],
      "metadata": {
        "id": "1Hb-PX5S3sye"
      }
    },
    {
      "cell_type": "code",
      "source": [
        "# Predictions with test data\n",
        "predictions = model.transform(test_data)\n",
        "predictions.show(5)"
      ],
      "metadata": {
        "colab": {
          "base_uri": "https://localhost:8080/"
        },
        "id": "er2r3BpDFJXA",
        "outputId": "a5e129d4-57dd-4730-f4ff-6be216090960"
      },
      "execution_count": 14,
      "outputs": [
        {
          "output_type": "stream",
          "name": "stdout",
          "text": [
            "+----------+----------+--------------+-----------------+---------------+----------------+-------------+---------------+--------------+----------------+-----------+-------+-----------+----------+--------+--------+------------+----------+---------+------+---------+-----------+------------+-------------+-------------------+---------+---------+------+---------+-------+--------------------+--------------------+--------------------+----------+\n",
            "|Unnamed: 0|fast_break|loc_centre_box|loc_diff_angle_lr|diff_angle_left|diff_angle_right|left_side_box|left_side_6ybox|right_side_box|right_side_6ybox|close_range|penalty|outside_box|long_range|more_35y|more_40y|not_recorded|right_foot|left_foot|header|no_assist|assist_pass|assist_cross|assist_header|assist_through_ball|open_play|set_piece|corner|free_kick|is_goal|            features|       rawPrediction|         probability|prediction|\n",
            "+----------+----------+--------------+-----------------+---------------+----------------+-------------+---------------+--------------+----------------+-----------+-------+-----------+----------+--------+--------+------------+----------+---------+------+---------+-----------+------------+-------------+-------------------+---------+---------+------+---------+-------+--------------------+--------------------+--------------------+----------+\n",
            "|        37|         0|             0|                0|              0|               0|            0|              0|             0|               0|          0|      0|          1|         0|       0|       0|           0|         0|        1|     0|        1|          0|           0|            0|                  0|        1|        0|     0|        0|      0|(29,[0,12,18,20,2...|[1.41814428434068...|[0.94460557846335...|       0.0|\n",
            "|        92|         0|             1|                0|              0|               0|            0|              0|             0|               0|          0|      0|          0|         0|       0|       0|           0|         0|        1|     0|        1|          0|           0|            0|                  0|        0|        0|     1|        0|      1|(29,[0,2,18,20,27...|[0.76373942657629...|[0.82163714083489...|       0.0|\n",
            "|        93|         0|             0|                0|              0|               0|            1|              0|             0|               0|          0|      0|          0|         0|       0|       0|           0|         0|        1|     0|        0|          1|           0|            0|                  0|        1|        0|     0|        0|      0|(29,[0,6,18,21,25...|[1.19283192242353...|[0.91572754702830...|       0.0|\n",
            "|       132|         0|             0|                0|              0|               0|            0|              0|             1|               0|          0|      0|          0|         0|       0|       0|           0|         1|        0|     0|        0|          1|           0|            0|                  0|        1|        0|     0|        0|      0|(29,[0,8,17,21,25...|[1.16791950471255...|[0.91180203499866...|       0.0|\n",
            "|       165|         0|             0|                0|              0|               0|            0|              0|             0|               0|          0|      0|          1|         0|       0|       0|           0|         1|        0|     0|        1|          0|           0|            0|                  0|        1|        0|     0|        0|      0|(29,[0,12,17,20,2...|[1.41814428434068...|[0.94460557846335...|       0.0|\n",
            "+----------+----------+--------------+-----------------+---------------+----------------+-------------+---------------+--------------+----------------+-----------+-------+-----------+----------+--------+--------+------------+----------+---------+------+---------+-----------+------------+-------------+-------------------+---------+---------+------+---------+-------+--------------------+--------------------+--------------------+----------+\n",
            "only showing top 5 rows\n",
            "\n"
          ]
        }
      ]
    },
    {
      "cell_type": "markdown",
      "source": [
        "# Evaluate our model"
      ],
      "metadata": {
        "id": "Yrmiw5Aq3m6-"
      }
    },
    {
      "cell_type": "code",
      "source": [
        "# Evaluate our model\n",
        "evaluator = MulticlassClassificationEvaluator(\n",
        "    labelCol='is_goal', \n",
        "    predictionCol='prediction', \n",
        "    metricName='accuracy')"
      ],
      "metadata": {
        "id": "dZFhLupdFO-I"
      },
      "execution_count": 15,
      "outputs": []
    },
    {
      "cell_type": "markdown",
      "source": [
        "# Calculate Test Accuracy"
      ],
      "metadata": {
        "id": "tZ4jTiw-3fl2"
      }
    },
    {
      "cell_type": "code",
      "source": [
        "accuracy = evaluator.evaluate(predictions)\n",
        "print('Test Accuracy = ', accuracy)"
      ],
      "metadata": {
        "colab": {
          "base_uri": "https://localhost:8080/"
        },
        "id": "t-sDUrKPFUJ3",
        "outputId": "94f04576-d5c8-40ea-ee13-468397d7f337"
      },
      "execution_count": 16,
      "outputs": [
        {
          "output_type": "stream",
          "name": "stdout",
          "text": [
            "Test Accuracy =  0.9116876882119321\n"
          ]
        }
      ]
    }
  ],
  "metadata": {
    "kernelspec": {
      "name": "python3",
      "display_name": "Python 3",
      "language": "python"
    },
    "language_info": {
      "name": "python",
      "version": "3.6.6",
      "mimetype": "text/x-python",
      "codemirror_mode": {
        "name": "ipython",
        "version": 3
      },
      "pygments_lexer": "ipython3",
      "nbconvert_exporter": "python",
      "file_extension": ".py"
    },
    "colab": {
      "provenance": []
    }
  },
  "nbformat": 4,
  "nbformat_minor": 0
}