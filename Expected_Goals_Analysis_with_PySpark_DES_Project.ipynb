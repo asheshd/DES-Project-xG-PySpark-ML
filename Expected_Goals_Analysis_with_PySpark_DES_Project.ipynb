{
  "cells": [
    {
      "cell_type": "markdown",
      "metadata": {
        "id": "view-in-github",
        "colab_type": "text"
      },
      "source": [
        "<a href=\"https://colab.research.google.com/github/asheshd/DES-Project-xG-PySpark-ML/blob/main/Expected_Goals_Analysis_with_PySpark_DES_Project.ipynb\" target=\"_parent\"><img src=\"https://colab.research.google.com/assets/colab-badge.svg\" alt=\"Open In Colab\"/></a>"
      ]
    },
    {
      "cell_type": "markdown",
      "source": [
        "# DA 231o Data Engineering at Scale Project\n",
        "\n"
      ],
      "metadata": {
        "id": "_Mp4yFaY5aX4"
      }
    },
    {
      "metadata": {
        "id": "CtBw-HfrqKEU"
      },
      "cell_type": "markdown",
      "source": [
        "# Expected Goals Model & Player Analysis"
      ]
    },
    {
      "cell_type": "markdown",
      "source": [
        "### Import Libraries"
      ],
      "metadata": {
        "id": "dyNnALy4o3n1"
      }
    },
    {
      "cell_type": "code",
      "source": [
        "!pip install pyspark"
      ],
      "metadata": {
        "colab": {
          "base_uri": "https://localhost:8080/"
        },
        "id": "yf4nn9Njzf6l",
        "outputId": "f5fe5ea1-8254-449a-81bf-960851db4ea6"
      },
      "execution_count": 1,
      "outputs": [
        {
          "output_type": "stream",
          "name": "stdout",
          "text": [
            "Looking in indexes: https://pypi.org/simple, https://us-python.pkg.dev/colab-wheels/public/simple/\n",
            "Collecting pyspark\n",
            "  Downloading pyspark-3.3.1.tar.gz (281.4 MB)\n",
            "\u001b[K     |████████████████████████████████| 281.4 MB 30 kB/s \n",
            "\u001b[?25hCollecting py4j==0.10.9.5\n",
            "  Downloading py4j-0.10.9.5-py2.py3-none-any.whl (199 kB)\n",
            "\u001b[K     |████████████████████████████████| 199 kB 51.9 MB/s \n",
            "\u001b[?25hBuilding wheels for collected packages: pyspark\n",
            "  Building wheel for pyspark (setup.py) ... \u001b[?25l\u001b[?25hdone\n",
            "  Created wheel for pyspark: filename=pyspark-3.3.1-py2.py3-none-any.whl size=281845512 sha256=b2e43813abbddd7ee75e55576e361845f139e63858ecb9763fecdb8db4fd016e\n",
            "  Stored in directory: /root/.cache/pip/wheels/43/dc/11/ec201cd671da62fa9c5cc77078235e40722170ceba231d7598\n",
            "Successfully built pyspark\n",
            "Installing collected packages: py4j, pyspark\n",
            "Successfully installed py4j-0.10.9.5 pyspark-3.3.1\n"
          ]
        }
      ]
    },
    {
      "metadata": {
        "_kg_hide-output": true,
        "trusted": true,
        "id": "-q6iNmVPqKEb"
      },
      "cell_type": "code",
      "source": [
        "import pandas as pd\n",
        "import numpy as np\n",
        "import matplotlib.pyplot as plt\n",
        "import seaborn as sns\n",
        "from datetime import datetime\n",
        "\n",
        "import pyspark\n",
        "pyspark.__version__\n",
        "\n",
        "from pyspark.ml import Pipeline\n",
        "from pyspark.ml.feature import StringIndexer, VectorAssembler\n",
        "from pyspark.ml.classification import GBTClassifier\n",
        "from pyspark.ml.evaluation import MulticlassClassificationEvaluator\n",
        "\n",
        "from pyspark.sql import SparkSession\n",
        "from pyspark.sql.functions import udf, regexp_replace, when, col"
      ],
      "execution_count": 2,
      "outputs": []
    },
    {
      "metadata": {
        "id": "ieW3Bcy1qKEf"
      },
      "cell_type": "markdown",
      "source": [
        "# Load input Dataset with Goals"
      ]
    },
    {
      "cell_type": "code",
      "source": [
        "# Mount the drive\n",
        "\n",
        "from google.colab import drive\n",
        "drive.mount('/content/drive')"
      ],
      "metadata": {
        "colab": {
          "base_uri": "https://localhost:8080/"
        },
        "id": "2GbdFJR4ukCV",
        "outputId": "d7bd19ba-f2e0-4872-f6c5-527bac306291"
      },
      "execution_count": 3,
      "outputs": [
        {
          "output_type": "stream",
          "name": "stdout",
          "text": [
            "Mounted at /content/drive\n"
          ]
        }
      ]
    },
    {
      "cell_type": "code",
      "source": [
        "# Read the csv file for visualization. We do not use this data anywhere in our model\n",
        "\n",
        "data = pd.read_csv('/content/drive/Shareddrives/DES_Project/events.csv')"
      ],
      "metadata": {
        "id": "4hqvNNn-2krm"
      },
      "execution_count": 4,
      "outputs": []
    },
    {
      "metadata": {
        "trusted": true,
        "colab": {
          "base_uri": "https://localhost:8080/"
        },
        "id": "CEALMyjtqKEk",
        "outputId": "1564c2f4-5489-4cb2-acf5-46e42dada2e7"
      },
      "cell_type": "code",
      "source": [
        "print(len(data))\n",
        "print(data.is_goal.sum())\n",
        "print(len(data.columns)-1)"
      ],
      "execution_count": 5,
      "outputs": [
        {
          "output_type": "stream",
          "name": "stdout",
          "text": [
            "941009\n",
            "24446\n",
            "21\n"
          ]
        }
      ]
    },
    {
      "cell_type": "code",
      "source": [
        "data.columns"
      ],
      "metadata": {
        "colab": {
          "base_uri": "https://localhost:8080/"
        },
        "id": "DSjuHa4gpdlY",
        "outputId": "1bfec380-3ecc-4e17-830e-ca66e6db7f57"
      },
      "execution_count": 6,
      "outputs": [
        {
          "output_type": "execute_result",
          "data": {
            "text/plain": [
              "Index(['id_odsp', 'id_event', 'sort_order', 'time', 'text', 'event_type',\n",
              "       'event_type2', 'side', 'event_team', 'opponent', 'player', 'player2',\n",
              "       'player_in', 'player_out', 'shot_place', 'shot_outcome', 'is_goal',\n",
              "       'location', 'bodypart', 'assist_method', 'situation', 'fast_break'],\n",
              "      dtype='object')"
            ]
          },
          "metadata": {},
          "execution_count": 6
        }
      ]
    },
    {
      "cell_type": "code",
      "source": [
        "# Create spark session\n",
        "\n",
        "spark = SparkSession \\\n",
        "    .builder \\\n",
        "    .appName('xG Project Solution') \\\n",
        "    .getOrCreate()\n",
        "  \n",
        "spark"
      ],
      "metadata": {
        "colab": {
          "base_uri": "https://localhost:8080/",
          "height": 222
        },
        "id": "vlDbnrOAzpec",
        "outputId": "cfd83cab-0cda-493e-c7d1-5b9d26c52447"
      },
      "execution_count": 7,
      "outputs": [
        {
          "output_type": "execute_result",
          "data": {
            "text/plain": [
              "<pyspark.sql.session.SparkSession at 0x7f493cf13ca0>"
            ],
            "text/html": [
              "\n",
              "            <div>\n",
              "                <p><b>SparkSession - in-memory</b></p>\n",
              "                \n",
              "        <div>\n",
              "            <p><b>SparkContext</b></p>\n",
              "\n",
              "            <p><a href=\"http://ed2ee73a15dd:4040\">Spark UI</a></p>\n",
              "\n",
              "            <dl>\n",
              "              <dt>Version</dt>\n",
              "                <dd><code>v3.3.1</code></dd>\n",
              "              <dt>Master</dt>\n",
              "                <dd><code>local[*]</code></dd>\n",
              "              <dt>AppName</dt>\n",
              "                <dd><code>xG Project Solution</code></dd>\n",
              "            </dl>\n",
              "        </div>\n",
              "        \n",
              "            </div>\n",
              "        "
            ]
          },
          "metadata": {},
          "execution_count": 7
        }
      ]
    },
    {
      "cell_type": "code",
      "source": [
        "# Load the events and the info as spark sql dataframes\n",
        "\n",
        "eventsDF = spark.read.option(\"header\", True).option(\"inferSchema\", True).option(\"nullable\", 'NA').csv('/content/drive/Shareddrives/DES_Project/events.csv')\n",
        "infoDF = spark.read.option(\"header\", True).option(\"inferSchema\", True).option(\"nullable\", 'NA').csv('/content/drive/Shareddrives/DES_Project/ginf.csv')"
      ],
      "metadata": {
        "id": "0NC9jfLolPV3"
      },
      "execution_count": 8,
      "outputs": []
    },
    {
      "cell_type": "code",
      "source": [
        "# Print Schema\n",
        "\n",
        "eventsDF.printSchema()\n",
        "\n",
        "infoDF.printSchema()"
      ],
      "metadata": {
        "colab": {
          "base_uri": "https://localhost:8080/"
        },
        "id": "ayxLl6RbmAkQ",
        "outputId": "c6db1b1c-f939-400a-83b5-4a271abcc48c"
      },
      "execution_count": 9,
      "outputs": [
        {
          "output_type": "stream",
          "name": "stdout",
          "text": [
            "root\n",
            " |-- id_odsp: string (nullable = true)\n",
            " |-- id_event: string (nullable = true)\n",
            " |-- sort_order: integer (nullable = true)\n",
            " |-- time: integer (nullable = true)\n",
            " |-- text: string (nullable = true)\n",
            " |-- event_type: integer (nullable = true)\n",
            " |-- event_type2: string (nullable = true)\n",
            " |-- side: integer (nullable = true)\n",
            " |-- event_team: string (nullable = true)\n",
            " |-- opponent: string (nullable = true)\n",
            " |-- player: string (nullable = true)\n",
            " |-- player2: string (nullable = true)\n",
            " |-- player_in: string (nullable = true)\n",
            " |-- player_out: string (nullable = true)\n",
            " |-- shot_place: string (nullable = true)\n",
            " |-- shot_outcome: string (nullable = true)\n",
            " |-- is_goal: integer (nullable = true)\n",
            " |-- location: string (nullable = true)\n",
            " |-- bodypart: string (nullable = true)\n",
            " |-- assist_method: integer (nullable = true)\n",
            " |-- situation: string (nullable = true)\n",
            " |-- fast_break: integer (nullable = true)\n",
            "\n",
            "root\n",
            " |-- id_odsp: string (nullable = true)\n",
            " |-- link_odsp: string (nullable = true)\n",
            " |-- adv_stats: boolean (nullable = true)\n",
            " |-- date: timestamp (nullable = true)\n",
            " |-- league: string (nullable = true)\n",
            " |-- season: integer (nullable = true)\n",
            " |-- country: string (nullable = true)\n",
            " |-- ht: string (nullable = true)\n",
            " |-- at: string (nullable = true)\n",
            " |-- fthg: integer (nullable = true)\n",
            " |-- ftag: integer (nullable = true)\n",
            " |-- odd_h: double (nullable = true)\n",
            " |-- odd_d: double (nullable = true)\n",
            " |-- odd_a: double (nullable = true)\n",
            " |-- odd_over: string (nullable = true)\n",
            " |-- odd_under: string (nullable = true)\n",
            " |-- odd_bts: string (nullable = true)\n",
            " |-- odd_bts_n: string (nullable = true)\n",
            "\n"
          ]
        }
      ]
    },
    {
      "cell_type": "code",
      "source": [
        "# Verify if the data loaded is correct and in the proper format\n",
        "\n",
        "eventsDF.show(10)\n",
        "type(eventsDF)"
      ],
      "metadata": {
        "colab": {
          "base_uri": "https://localhost:8080/"
        },
        "id": "XCQEoR-4lbGB",
        "outputId": "aaf26e0f-ef1a-4c9b-8a23-abc0242aca5a"
      },
      "execution_count": 10,
      "outputs": [
        {
          "output_type": "stream",
          "name": "stdout",
          "text": [
            "+---------+----------+----------+----+--------------------+----------+-----------+----+-----------------+-----------------+-------------------+----------------+---------+----------+----------+------------+-------+--------+--------+-------------+---------+----------+\n",
            "|  id_odsp|  id_event|sort_order|time|                text|event_type|event_type2|side|       event_team|         opponent|             player|         player2|player_in|player_out|shot_place|shot_outcome|is_goal|location|bodypart|assist_method|situation|fast_break|\n",
            "+---------+----------+----------+----+--------------------+----------+-----------+----+-----------------+-----------------+-------------------+----------------+---------+----------+----------+------------+-------+--------+--------+-------------+---------+----------+\n",
            "|UFot0hit/| UFot0hit1|         1|   2|Attempt missed. M...|         1|         12|   2|       Hamburg SV|Borussia Dortmund|      mladen petric|     gokhan tore|       NA|        NA|         6|           2|      0|       9|       2|            1|        1|         0|\n",
            "|UFot0hit/| UFot0hit2|         2|   4|Corner,  Borussia...|         2|         NA|   1|Borussia Dortmund|       Hamburg SV|   dennis diekmeier|dennis diekmeier|       NA|        NA|        NA|          NA|      0|      NA|      NA|            0|       NA|         0|\n",
            "|UFot0hit/| UFot0hit3|         3|   4|Corner,  Borussia...|         2|         NA|   1|Borussia Dortmund|       Hamburg SV|   heiko westermann|heiko westermann|       NA|        NA|        NA|          NA|      0|      NA|      NA|            0|       NA|         0|\n",
            "|UFot0hit/| UFot0hit4|         4|   7|Foul by Sven Bend...|         3|         NA|   1|Borussia Dortmund|       Hamburg SV|        sven bender|              NA|       NA|        NA|        NA|          NA|      0|      NA|      NA|            0|       NA|         0|\n",
            "|UFot0hit/| UFot0hit5|         5|   7|Gokhan Tore (Hamb...|         8|         NA|   2|       Hamburg SV|Borussia Dortmund|        gokhan tore|              NA|       NA|        NA|        NA|          NA|      0|       2|      NA|            0|       NA|         0|\n",
            "|UFot0hit/| UFot0hit6|         6|   9|Hand ball by Jose...|        10|         NA|   2|       Hamburg SV|Borussia Dortmund|jose paolo guerrero|              NA|       NA|        NA|        NA|          NA|      0|      NA|      NA|            0|       NA|         0|\n",
            "|UFot0hit/| UFot0hit7|         7|  10|Corner,  Hamburg....|         2|         NA|   2|       Hamburg SV|Borussia Dortmund|    lukasz piszczek| lukasz piszczek|       NA|        NA|        NA|          NA|      0|      NA|      NA|            0|       NA|         0|\n",
            "|UFot0hit/| UFot0hit8|         8|  11|Chris Lowe (Borus...|         8|         NA|   1|Borussia Dortmund|       Hamburg SV|         chris lowe|              NA|       NA|        NA|        NA|          NA|      0|       2|      NA|            0|       NA|         0|\n",
            "|UFot0hit/| UFot0hit9|         9|  11|Foul by Gojko Kac...|         3|         NA|   2|       Hamburg SV|Borussia Dortmund|        gojko kacar|              NA|       NA|        NA|        NA|          NA|      0|      NA|      NA|            0|       NA|         0|\n",
            "|UFot0hit/|UFot0hit10|        10|  13|Foul by Gokhan To...|         3|         NA|   2|       Hamburg SV|Borussia Dortmund|        gokhan tore|              NA|       NA|        NA|        NA|          NA|      0|      NA|      NA|            0|       NA|         0|\n",
            "+---------+----------+----------+----+--------------------+----------+-----------+----+-----------------+-----------------+-------------------+----------------+---------+----------+----------+------------+-------+--------+--------+-------------+---------+----------+\n",
            "only showing top 10 rows\n",
            "\n"
          ]
        },
        {
          "output_type": "execute_result",
          "data": {
            "text/plain": [
              "pyspark.sql.dataframe.DataFrame"
            ]
          },
          "metadata": {},
          "execution_count": 10
        }
      ]
    },
    {
      "cell_type": "code",
      "source": [
        "# Join id_odsp, country, date columns from infoDF on id_odsp\n",
        "\n",
        "eventsDF = eventsDF.join(infoDF[['id_odsp', 'country', 'date']], on='id_odsp', how='left')\n",
        "eventsDF.printSchema()\n",
        "eventsDF.show(10)\n",
        "eventsDF.count()"
      ],
      "metadata": {
        "colab": {
          "base_uri": "https://localhost:8080/"
        },
        "id": "H1SHUd0Glrwc",
        "outputId": "4c49fba9-fc7f-4711-e5c6-cf00e074717a"
      },
      "execution_count": 11,
      "outputs": [
        {
          "output_type": "stream",
          "name": "stdout",
          "text": [
            "root\n",
            " |-- id_odsp: string (nullable = true)\n",
            " |-- id_event: string (nullable = true)\n",
            " |-- sort_order: integer (nullable = true)\n",
            " |-- time: integer (nullable = true)\n",
            " |-- text: string (nullable = true)\n",
            " |-- event_type: integer (nullable = true)\n",
            " |-- event_type2: string (nullable = true)\n",
            " |-- side: integer (nullable = true)\n",
            " |-- event_team: string (nullable = true)\n",
            " |-- opponent: string (nullable = true)\n",
            " |-- player: string (nullable = true)\n",
            " |-- player2: string (nullable = true)\n",
            " |-- player_in: string (nullable = true)\n",
            " |-- player_out: string (nullable = true)\n",
            " |-- shot_place: string (nullable = true)\n",
            " |-- shot_outcome: string (nullable = true)\n",
            " |-- is_goal: integer (nullable = true)\n",
            " |-- location: string (nullable = true)\n",
            " |-- bodypart: string (nullable = true)\n",
            " |-- assist_method: integer (nullable = true)\n",
            " |-- situation: string (nullable = true)\n",
            " |-- fast_break: integer (nullable = true)\n",
            " |-- country: string (nullable = true)\n",
            " |-- date: timestamp (nullable = true)\n",
            "\n",
            "+---------+----------+----------+----+--------------------+----------+-----------+----+-----------------+-----------------+-------------------+----------------+---------+----------+----------+------------+-------+--------+--------+-------------+---------+----------+-------+-------------------+\n",
            "|  id_odsp|  id_event|sort_order|time|                text|event_type|event_type2|side|       event_team|         opponent|             player|         player2|player_in|player_out|shot_place|shot_outcome|is_goal|location|bodypart|assist_method|situation|fast_break|country|               date|\n",
            "+---------+----------+----------+----+--------------------+----------+-----------+----+-----------------+-----------------+-------------------+----------------+---------+----------+----------+------------+-------+--------+--------+-------------+---------+----------+-------+-------------------+\n",
            "|UFot0hit/| UFot0hit1|         1|   2|Attempt missed. M...|         1|         12|   2|       Hamburg SV|Borussia Dortmund|      mladen petric|     gokhan tore|       NA|        NA|         6|           2|      0|       9|       2|            1|        1|         0|germany|2011-08-05 00:00:00|\n",
            "|UFot0hit/| UFot0hit2|         2|   4|Corner,  Borussia...|         2|         NA|   1|Borussia Dortmund|       Hamburg SV|   dennis diekmeier|dennis diekmeier|       NA|        NA|        NA|          NA|      0|      NA|      NA|            0|       NA|         0|germany|2011-08-05 00:00:00|\n",
            "|UFot0hit/| UFot0hit3|         3|   4|Corner,  Borussia...|         2|         NA|   1|Borussia Dortmund|       Hamburg SV|   heiko westermann|heiko westermann|       NA|        NA|        NA|          NA|      0|      NA|      NA|            0|       NA|         0|germany|2011-08-05 00:00:00|\n",
            "|UFot0hit/| UFot0hit4|         4|   7|Foul by Sven Bend...|         3|         NA|   1|Borussia Dortmund|       Hamburg SV|        sven bender|              NA|       NA|        NA|        NA|          NA|      0|      NA|      NA|            0|       NA|         0|germany|2011-08-05 00:00:00|\n",
            "|UFot0hit/| UFot0hit5|         5|   7|Gokhan Tore (Hamb...|         8|         NA|   2|       Hamburg SV|Borussia Dortmund|        gokhan tore|              NA|       NA|        NA|        NA|          NA|      0|       2|      NA|            0|       NA|         0|germany|2011-08-05 00:00:00|\n",
            "|UFot0hit/| UFot0hit6|         6|   9|Hand ball by Jose...|        10|         NA|   2|       Hamburg SV|Borussia Dortmund|jose paolo guerrero|              NA|       NA|        NA|        NA|          NA|      0|      NA|      NA|            0|       NA|         0|germany|2011-08-05 00:00:00|\n",
            "|UFot0hit/| UFot0hit7|         7|  10|Corner,  Hamburg....|         2|         NA|   2|       Hamburg SV|Borussia Dortmund|    lukasz piszczek| lukasz piszczek|       NA|        NA|        NA|          NA|      0|      NA|      NA|            0|       NA|         0|germany|2011-08-05 00:00:00|\n",
            "|UFot0hit/| UFot0hit8|         8|  11|Chris Lowe (Borus...|         8|         NA|   1|Borussia Dortmund|       Hamburg SV|         chris lowe|              NA|       NA|        NA|        NA|          NA|      0|       2|      NA|            0|       NA|         0|germany|2011-08-05 00:00:00|\n",
            "|UFot0hit/| UFot0hit9|         9|  11|Foul by Gojko Kac...|         3|         NA|   2|       Hamburg SV|Borussia Dortmund|        gojko kacar|              NA|       NA|        NA|        NA|          NA|      0|      NA|      NA|            0|       NA|         0|germany|2011-08-05 00:00:00|\n",
            "|UFot0hit/|UFot0hit10|        10|  13|Foul by Gokhan To...|         3|         NA|   2|       Hamburg SV|Borussia Dortmund|        gokhan tore|              NA|       NA|        NA|        NA|          NA|      0|      NA|      NA|            0|       NA|         0|germany|2011-08-05 00:00:00|\n",
            "+---------+----------+----------+----+--------------------+----------+-----------+----+-----------------+-----------------+-------------------+----------------+---------+----------+----------+------------+-------+--------+--------+-------------+---------+----------+-------+-------------------+\n",
            "only showing top 10 rows\n",
            "\n"
          ]
        },
        {
          "output_type": "execute_result",
          "data": {
            "text/plain": [
              "941009"
            ]
          },
          "metadata": {},
          "execution_count": 11
        }
      ]
    },
    {
      "cell_type": "code",
      "source": [
        "# Extract year from the timestamp and append the column\n",
        "\n",
        "extract_year = lambda x: x.strftime(\"%Y\")\n",
        "extract_year_udf = udf(extract_year)\n",
        "eventsDF = eventsDF.withColumn(\"year\", extract_year_udf(\"date\"))\n",
        "eventsDF.show(10)"
      ],
      "metadata": {
        "colab": {
          "base_uri": "https://localhost:8080/"
        },
        "id": "qXUoh04hl4EC",
        "outputId": "35748844-83a3-49bc-c37a-ec23cd0705c4"
      },
      "execution_count": 12,
      "outputs": [
        {
          "output_type": "stream",
          "name": "stdout",
          "text": [
            "+---------+----------+----------+----+--------------------+----------+-----------+----+-----------------+-----------------+-------------------+----------------+---------+----------+----------+------------+-------+--------+--------+-------------+---------+----------+-------+-------------------+----+\n",
            "|  id_odsp|  id_event|sort_order|time|                text|event_type|event_type2|side|       event_team|         opponent|             player|         player2|player_in|player_out|shot_place|shot_outcome|is_goal|location|bodypart|assist_method|situation|fast_break|country|               date|year|\n",
            "+---------+----------+----------+----+--------------------+----------+-----------+----+-----------------+-----------------+-------------------+----------------+---------+----------+----------+------------+-------+--------+--------+-------------+---------+----------+-------+-------------------+----+\n",
            "|UFot0hit/| UFot0hit1|         1|   2|Attempt missed. M...|         1|         12|   2|       Hamburg SV|Borussia Dortmund|      mladen petric|     gokhan tore|       NA|        NA|         6|           2|      0|       9|       2|            1|        1|         0|germany|2011-08-05 00:00:00|2011|\n",
            "|UFot0hit/| UFot0hit2|         2|   4|Corner,  Borussia...|         2|         NA|   1|Borussia Dortmund|       Hamburg SV|   dennis diekmeier|dennis diekmeier|       NA|        NA|        NA|          NA|      0|      NA|      NA|            0|       NA|         0|germany|2011-08-05 00:00:00|2011|\n",
            "|UFot0hit/| UFot0hit3|         3|   4|Corner,  Borussia...|         2|         NA|   1|Borussia Dortmund|       Hamburg SV|   heiko westermann|heiko westermann|       NA|        NA|        NA|          NA|      0|      NA|      NA|            0|       NA|         0|germany|2011-08-05 00:00:00|2011|\n",
            "|UFot0hit/| UFot0hit4|         4|   7|Foul by Sven Bend...|         3|         NA|   1|Borussia Dortmund|       Hamburg SV|        sven bender|              NA|       NA|        NA|        NA|          NA|      0|      NA|      NA|            0|       NA|         0|germany|2011-08-05 00:00:00|2011|\n",
            "|UFot0hit/| UFot0hit5|         5|   7|Gokhan Tore (Hamb...|         8|         NA|   2|       Hamburg SV|Borussia Dortmund|        gokhan tore|              NA|       NA|        NA|        NA|          NA|      0|       2|      NA|            0|       NA|         0|germany|2011-08-05 00:00:00|2011|\n",
            "|UFot0hit/| UFot0hit6|         6|   9|Hand ball by Jose...|        10|         NA|   2|       Hamburg SV|Borussia Dortmund|jose paolo guerrero|              NA|       NA|        NA|        NA|          NA|      0|      NA|      NA|            0|       NA|         0|germany|2011-08-05 00:00:00|2011|\n",
            "|UFot0hit/| UFot0hit7|         7|  10|Corner,  Hamburg....|         2|         NA|   2|       Hamburg SV|Borussia Dortmund|    lukasz piszczek| lukasz piszczek|       NA|        NA|        NA|          NA|      0|      NA|      NA|            0|       NA|         0|germany|2011-08-05 00:00:00|2011|\n",
            "|UFot0hit/| UFot0hit8|         8|  11|Chris Lowe (Borus...|         8|         NA|   1|Borussia Dortmund|       Hamburg SV|         chris lowe|              NA|       NA|        NA|        NA|          NA|      0|       2|      NA|            0|       NA|         0|germany|2011-08-05 00:00:00|2011|\n",
            "|UFot0hit/| UFot0hit9|         9|  11|Foul by Gojko Kac...|         3|         NA|   2|       Hamburg SV|Borussia Dortmund|        gojko kacar|              NA|       NA|        NA|        NA|          NA|      0|      NA|      NA|            0|       NA|         0|germany|2011-08-05 00:00:00|2011|\n",
            "|UFot0hit/|UFot0hit10|        10|  13|Foul by Gokhan To...|         3|         NA|   2|       Hamburg SV|Borussia Dortmund|        gokhan tore|              NA|       NA|        NA|        NA|          NA|      0|      NA|      NA|            0|       NA|         0|germany|2011-08-05 00:00:00|2011|\n",
            "+---------+----------+----------+----+--------------------+----------+-----------+----+-----------------+-----------------+-------------------+----------------+---------+----------+----------+------------+-------+--------+--------+-------------+---------+----------+-------+-------------------+----+\n",
            "only showing top 10 rows\n",
            "\n"
          ]
        }
      ]
    },
    {
      "cell_type": "code",
      "source": [
        "eventsDF.filter(eventsDF.event_type==1).filter(eventsDF.player != '').count()"
      ],
      "metadata": {
        "colab": {
          "base_uri": "https://localhost:8080/"
        },
        "id": "4WYPEmJ6QGzE",
        "outputId": "ad6c457b-acff-4f15-ef2b-5797cecbf1d6"
      },
      "execution_count": 13,
      "outputs": [
        {
          "output_type": "execute_result",
          "data": {
            "text/plain": [
              "229134"
            ]
          },
          "metadata": {},
          "execution_count": 13
        }
      ]
    },
    {
      "cell_type": "code",
      "source": [
        "# Create shotsDF dataframe by filtering event type == 1 and non-empty player\n",
        "\n",
        "shotsDF = eventsDF.filter(eventsDF.event_type==1).filter(eventsDF.player != '').filter(eventsDF.player2 != '').filter(eventsDF.country != '')\n",
        "shotsDF = shotsDF.withColumn(\"player\", udf(lambda x: x.title())(\"player\"))\n",
        "shotsDF = shotsDF.withColumn(\"player2\", udf(lambda x: x.title())(\"player2\"))\n",
        "shotsDF = shotsDF.withColumn(\"country\", udf(lambda x: x.title())(\"country\"))\n",
        "shotsDF.show(10)"
      ],
      "metadata": {
        "colab": {
          "base_uri": "https://localhost:8080/"
        },
        "id": "ihVPdsJRln2x",
        "outputId": "7c2c552b-e5ec-4f3a-8415-f1dcceefe32c"
      },
      "execution_count": 14,
      "outputs": [
        {
          "output_type": "stream",
          "name": "stdout",
          "text": [
            "+---------+----------+----------+----+--------------------+----------+-----------+----+-----------------+-----------------+-----------------+------------------+---------+----------+----------+------------+-------+--------+--------+-------------+---------+----------+-------+-------------------+----+\n",
            "|  id_odsp|  id_event|sort_order|time|                text|event_type|event_type2|side|       event_team|         opponent|           player|           player2|player_in|player_out|shot_place|shot_outcome|is_goal|location|bodypart|assist_method|situation|fast_break|country|               date|year|\n",
            "+---------+----------+----------+----+--------------------+----------+-----------+----+-----------------+-----------------+-----------------+------------------+---------+----------+----------+------------+-------+--------+--------+-------------+---------+----------+-------+-------------------+----+\n",
            "|UFot0hit/| UFot0hit1|         1|   2|Attempt missed. M...|         1|         12|   2|       Hamburg SV|Borussia Dortmund|    Mladen Petric|       Gokhan Tore|       NA|        NA|         6|           2|      0|       9|       2|            1|        1|         0|Germany|2011-08-05 00:00:00|2011|\n",
            "|UFot0hit/|UFot0hit12|        12|  14|Attempt missed. S...|         1|         12|   1|Borussia Dortmund|       Hamburg SV|    Shinji Kagawa|       Mario Gotze|       NA|        NA|        13|           2|      0|      15|       1|            1|        1|         0|Germany|2011-08-05 00:00:00|2011|\n",
            "|UFot0hit/|UFot0hit14|        14|  17|Goal!  Borussia D...|         1|         12|   1|Borussia Dortmund|       Hamburg SV|Kevin Grosskreutz|       Mario Gotze|       NA|        NA|         4|           1|      1|       9|       2|            1|        1|         0|Germany|2011-08-05 00:00:00|2011|\n",
            "|UFot0hit/|UFot0hit15|        15|  19|Attempt blocked. ...|         1|         NA|   1|Borussia Dortmund|       Hamburg SV|     Mats Hummels|                Na|       NA|        NA|         2|           3|      0|      15|       1|            0|        1|         0|Germany|2011-08-05 00:00:00|2011|\n",
            "|UFot0hit/|UFot0hit18|        18|  20|Attempt blocked. ...|         1|         NA|   2|       Hamburg SV|Borussia Dortmund|     Tomas Rincon|                Na|       NA|        NA|         2|           3|      0|      15|       1|            0|        1|         0|Germany|2011-08-05 00:00:00|2011|\n",
            "|UFot0hit/|UFot0hit19|        19|  25|Shinji Kagawa (Bo...|         1|         12|   1|Borussia Dortmund|       Hamburg SV|    Shinji Kagawa|   Lukasz Piszczek|       NA|        NA|         7|           4|      0|       3|       1|            1|        1|         0|Germany|2011-08-05 00:00:00|2011|\n",
            "|UFot0hit/|UFot0hit21|        21|  25|Attempt blocked. ...|         1|         NA|   1|Borussia Dortmund|       Hamburg SV|   Ilkay Gundogan|                Na|       NA|        NA|         2|           3|      0|      15|       2|            0|        1|         0|Germany|2011-08-05 00:00:00|2011|\n",
            "|UFot0hit/|UFot0hit23|        23|  26|Attempt saved. Ma...|         1|         12|   1|Borussia Dortmund|       Hamburg SV|     Mats Hummels|        Chris Lowe|       NA|        NA|         5|           1|      0|       3|       3|            2|        1|         0|Germany|2011-08-05 00:00:00|2011|\n",
            "|UFot0hit/|UFot0hit26|        26|  28|Attempt missed. S...|         1|         12|   1|Borussia Dortmund|       Hamburg SV|    Shinji Kagawa| Kevin Grosskreutz|       NA|        NA|         9|           2|      0|       9|       1|            1|        1|         0|Germany|2011-08-05 00:00:00|2011|\n",
            "|UFot0hit/|UFot0hit27|        27|  29|Goal!  Borussia D...|         1|         12|   1|Borussia Dortmund|       Hamburg SV|      Mario Gotze|Robert Lewandowski|       NA|        NA|         5|           1|      1|       3|       1|            1|        1|         0|Germany|2011-08-05 00:00:00|2011|\n",
            "+---------+----------+----------+----+--------------------+----------+-----------+----+-----------------+-----------------+-----------------+------------------+---------+----------+----------+------------+-------+--------+--------+-------------+---------+----------+-------+-------------------+----+\n",
            "only showing top 10 rows\n",
            "\n"
          ]
        }
      ]
    },
    {
      "cell_type": "code",
      "source": [
        "# Filter the columns which have all the relevant information about the shot and predict if it is a goal or not\n",
        "# is_goal is the true label. We will not use this in the training\n",
        "\n",
        "required_cols = ['shot_place', 'shot_outcome', 'location', 'bodypart', 'assist_method', 'situation']\n",
        "\n",
        "# Create dataDF dataframe with all the input columns\n",
        "dataDF = shotsDF\n",
        "\n",
        "# Create string indexer list\n",
        "indexer = []\n",
        "\n",
        "# Convert each column into integer type using string indexer without losing any features\n",
        "for column in required_cols:\n",
        "  temp = StringIndexer(inputCol=column, outputCol=column+\"_index\")\n",
        "  indexer.append(temp)\n",
        "\n",
        "# Pipeline\n",
        "pipeline = Pipeline(stages=indexer)\n",
        "dataDF = pipeline.fit(dataDF).transform(dataDF)\n",
        "\n",
        "dataDF.show(10)"
      ],
      "metadata": {
        "colab": {
          "base_uri": "https://localhost:8080/"
        },
        "id": "7TCHrBkcmm3e",
        "outputId": "aed58357-ccc7-4170-a00c-108adfd52394"
      },
      "execution_count": 15,
      "outputs": [
        {
          "output_type": "stream",
          "name": "stdout",
          "text": [
            "+---------+----------+----------+----+--------------------+----------+-----------+----+-----------------+-----------------+-----------------+------------------+---------+----------+----------+------------+-------+--------+--------+-------------+---------+----------+-------+-------------------+----+----------------+------------------+--------------+--------------+-------------------+---------------+\n",
            "|  id_odsp|  id_event|sort_order|time|                text|event_type|event_type2|side|       event_team|         opponent|           player|           player2|player_in|player_out|shot_place|shot_outcome|is_goal|location|bodypart|assist_method|situation|fast_break|country|               date|year|shot_place_index|shot_outcome_index|location_index|bodypart_index|assist_method_index|situation_index|\n",
            "+---------+----------+----------+----+--------------------+----------+-----------+----+-----------------+-----------------+-----------------+------------------+---------+----------+----------+------------+-------+--------+--------+-------------+---------+----------+-------+-------------------+----+----------------+------------------+--------------+--------------+-------------------+---------------+\n",
            "|UFot0hit/| UFot0hit1|         1|   2|Attempt missed. M...|         1|         12|   2|       Hamburg SV|Borussia Dortmund|    Mladen Petric|       Gokhan Tore|       NA|        NA|         6|           2|      0|       9|       2|            1|        1|         0|Germany|2011-08-05 00:00:00|2011|             6.0|               0.0|           2.0|           1.0|                0.0|            0.0|\n",
            "|UFot0hit/|UFot0hit12|        12|  14|Attempt missed. S...|         1|         12|   1|Borussia Dortmund|       Hamburg SV|    Shinji Kagawa|       Mario Gotze|       NA|        NA|        13|           2|      0|      15|       1|            1|        1|         0|Germany|2011-08-05 00:00:00|2011|             8.0|               0.0|           0.0|           0.0|                0.0|            0.0|\n",
            "|UFot0hit/|UFot0hit14|        14|  17|Goal!  Borussia D...|         1|         12|   1|Borussia Dortmund|       Hamburg SV|Kevin Grosskreutz|       Mario Gotze|       NA|        NA|         4|           1|      1|       9|       2|            1|        1|         0|Germany|2011-08-05 00:00:00|2011|             4.0|               1.0|           2.0|           1.0|                0.0|            0.0|\n",
            "|UFot0hit/|UFot0hit15|        15|  19|Attempt blocked. ...|         1|         NA|   1|Borussia Dortmund|       Hamburg SV|     Mats Hummels|                Na|       NA|        NA|         2|           3|      0|      15|       1|            0|        1|         0|Germany|2011-08-05 00:00:00|2011|             0.0|               2.0|           0.0|           0.0|                1.0|            0.0|\n",
            "|UFot0hit/|UFot0hit18|        18|  20|Attempt blocked. ...|         1|         NA|   2|       Hamburg SV|Borussia Dortmund|     Tomas Rincon|                Na|       NA|        NA|         2|           3|      0|      15|       1|            0|        1|         0|Germany|2011-08-05 00:00:00|2011|             0.0|               2.0|           0.0|           0.0|                1.0|            0.0|\n",
            "|UFot0hit/|UFot0hit19|        19|  25|Shinji Kagawa (Bo...|         1|         12|   1|Borussia Dortmund|       Hamburg SV|    Shinji Kagawa|   Lukasz Piszczek|       NA|        NA|         7|           4|      0|       3|       1|            1|        1|         0|Germany|2011-08-05 00:00:00|2011|            12.0|               3.0|           1.0|           0.0|                0.0|            0.0|\n",
            "|UFot0hit/|UFot0hit21|        21|  25|Attempt blocked. ...|         1|         NA|   1|Borussia Dortmund|       Hamburg SV|   Ilkay Gundogan|                Na|       NA|        NA|         2|           3|      0|      15|       2|            0|        1|         0|Germany|2011-08-05 00:00:00|2011|             0.0|               2.0|           0.0|           1.0|                1.0|            0.0|\n",
            "|UFot0hit/|UFot0hit23|        23|  26|Attempt saved. Ma...|         1|         12|   1|Borussia Dortmund|       Hamburg SV|     Mats Hummels|        Chris Lowe|       NA|        NA|         5|           1|      0|       3|       3|            2|        1|         0|Germany|2011-08-05 00:00:00|2011|             3.0|               1.0|           1.0|           2.0|                2.0|            0.0|\n",
            "|UFot0hit/|UFot0hit26|        26|  28|Attempt missed. S...|         1|         12|   1|Borussia Dortmund|       Hamburg SV|    Shinji Kagawa| Kevin Grosskreutz|       NA|        NA|         9|           2|      0|       9|       1|            1|        1|         0|Germany|2011-08-05 00:00:00|2011|             2.0|               0.0|           2.0|           0.0|                0.0|            0.0|\n",
            "|UFot0hit/|UFot0hit27|        27|  29|Goal!  Borussia D...|         1|         12|   1|Borussia Dortmund|       Hamburg SV|      Mario Gotze|Robert Lewandowski|       NA|        NA|         5|           1|      1|       3|       1|            1|        1|         0|Germany|2011-08-05 00:00:00|2011|             3.0|               1.0|           1.0|           0.0|                0.0|            0.0|\n",
            "+---------+----------+----------+----+--------------------+----------+-----------+----+-----------------+-----------------+-----------------+------------------+---------+----------+----------+------------+-------+--------+--------+-------------+---------+----------+-------+-------------------+----+----------------+------------------+--------------+--------------+-------------------+---------------+\n",
            "only showing top 10 rows\n",
            "\n"
          ]
        }
      ]
    },
    {
      "cell_type": "markdown",
      "source": [
        "# Expected Goals with PySpark Machine Learning"
      ],
      "metadata": {
        "id": "vN2Yvehe4JSv"
      }
    },
    {
      "cell_type": "code",
      "source": [
        "required_features = list(dataDF.columns[-6:]) # remove 'is_goal' because it is the label\n",
        "\n",
        "assembler = VectorAssembler(inputCols=required_features, outputCol='features')\n",
        "transformed_data = assembler.transform(dataDF)\n",
        "\n",
        "transformed_data.show(10)"
      ],
      "metadata": {
        "colab": {
          "base_uri": "https://localhost:8080/"
        },
        "id": "MiD6yFkC_F5O",
        "outputId": "4919f7f3-a7e1-418c-dc39-9405b6c3e7bc"
      },
      "execution_count": 16,
      "outputs": [
        {
          "output_type": "stream",
          "name": "stdout",
          "text": [
            "+---------+----------+----------+----+--------------------+----------+-----------+----+-----------------+-----------------+-----------------+------------------+---------+----------+----------+------------+-------+--------+--------+-------------+---------+----------+-------+-------------------+----+----------------+------------------+--------------+--------------+-------------------+---------------+--------------------+\n",
            "|  id_odsp|  id_event|sort_order|time|                text|event_type|event_type2|side|       event_team|         opponent|           player|           player2|player_in|player_out|shot_place|shot_outcome|is_goal|location|bodypart|assist_method|situation|fast_break|country|               date|year|shot_place_index|shot_outcome_index|location_index|bodypart_index|assist_method_index|situation_index|            features|\n",
            "+---------+----------+----------+----+--------------------+----------+-----------+----+-----------------+-----------------+-----------------+------------------+---------+----------+----------+------------+-------+--------+--------+-------------+---------+----------+-------+-------------------+----+----------------+------------------+--------------+--------------+-------------------+---------------+--------------------+\n",
            "|UFot0hit/| UFot0hit1|         1|   2|Attempt missed. M...|         1|         12|   2|       Hamburg SV|Borussia Dortmund|    Mladen Petric|       Gokhan Tore|       NA|        NA|         6|           2|      0|       9|       2|            1|        1|         0|Germany|2011-08-05 00:00:00|2011|             6.0|               0.0|           2.0|           1.0|                0.0|            0.0|[6.0,0.0,2.0,1.0,...|\n",
            "|UFot0hit/|UFot0hit12|        12|  14|Attempt missed. S...|         1|         12|   1|Borussia Dortmund|       Hamburg SV|    Shinji Kagawa|       Mario Gotze|       NA|        NA|        13|           2|      0|      15|       1|            1|        1|         0|Germany|2011-08-05 00:00:00|2011|             8.0|               0.0|           0.0|           0.0|                0.0|            0.0|       (6,[0],[8.0])|\n",
            "|UFot0hit/|UFot0hit14|        14|  17|Goal!  Borussia D...|         1|         12|   1|Borussia Dortmund|       Hamburg SV|Kevin Grosskreutz|       Mario Gotze|       NA|        NA|         4|           1|      1|       9|       2|            1|        1|         0|Germany|2011-08-05 00:00:00|2011|             4.0|               1.0|           2.0|           1.0|                0.0|            0.0|[4.0,1.0,2.0,1.0,...|\n",
            "|UFot0hit/|UFot0hit15|        15|  19|Attempt blocked. ...|         1|         NA|   1|Borussia Dortmund|       Hamburg SV|     Mats Hummels|                Na|       NA|        NA|         2|           3|      0|      15|       1|            0|        1|         0|Germany|2011-08-05 00:00:00|2011|             0.0|               2.0|           0.0|           0.0|                1.0|            0.0| (6,[1,4],[2.0,1.0])|\n",
            "|UFot0hit/|UFot0hit18|        18|  20|Attempt blocked. ...|         1|         NA|   2|       Hamburg SV|Borussia Dortmund|     Tomas Rincon|                Na|       NA|        NA|         2|           3|      0|      15|       1|            0|        1|         0|Germany|2011-08-05 00:00:00|2011|             0.0|               2.0|           0.0|           0.0|                1.0|            0.0| (6,[1,4],[2.0,1.0])|\n",
            "|UFot0hit/|UFot0hit19|        19|  25|Shinji Kagawa (Bo...|         1|         12|   1|Borussia Dortmund|       Hamburg SV|    Shinji Kagawa|   Lukasz Piszczek|       NA|        NA|         7|           4|      0|       3|       1|            1|        1|         0|Germany|2011-08-05 00:00:00|2011|            12.0|               3.0|           1.0|           0.0|                0.0|            0.0|[12.0,3.0,1.0,0.0...|\n",
            "|UFot0hit/|UFot0hit21|        21|  25|Attempt blocked. ...|         1|         NA|   1|Borussia Dortmund|       Hamburg SV|   Ilkay Gundogan|                Na|       NA|        NA|         2|           3|      0|      15|       2|            0|        1|         0|Germany|2011-08-05 00:00:00|2011|             0.0|               2.0|           0.0|           1.0|                1.0|            0.0|[0.0,2.0,0.0,1.0,...|\n",
            "|UFot0hit/|UFot0hit23|        23|  26|Attempt saved. Ma...|         1|         12|   1|Borussia Dortmund|       Hamburg SV|     Mats Hummels|        Chris Lowe|       NA|        NA|         5|           1|      0|       3|       3|            2|        1|         0|Germany|2011-08-05 00:00:00|2011|             3.0|               1.0|           1.0|           2.0|                2.0|            0.0|[3.0,1.0,1.0,2.0,...|\n",
            "|UFot0hit/|UFot0hit26|        26|  28|Attempt missed. S...|         1|         12|   1|Borussia Dortmund|       Hamburg SV|    Shinji Kagawa| Kevin Grosskreutz|       NA|        NA|         9|           2|      0|       9|       1|            1|        1|         0|Germany|2011-08-05 00:00:00|2011|             2.0|               0.0|           2.0|           0.0|                0.0|            0.0| (6,[0,2],[2.0,2.0])|\n",
            "|UFot0hit/|UFot0hit27|        27|  29|Goal!  Borussia D...|         1|         12|   1|Borussia Dortmund|       Hamburg SV|      Mario Gotze|Robert Lewandowski|       NA|        NA|         5|           1|      1|       3|       1|            1|        1|         0|Germany|2011-08-05 00:00:00|2011|             3.0|               1.0|           1.0|           0.0|                0.0|            0.0|[3.0,1.0,1.0,0.0,...|\n",
            "+---------+----------+----------+----+--------------------+----------+-----------+----+-----------------+-----------------+-----------------+------------------+---------+----------+----------+------------+-------+--------+--------+-------------+---------+----------+-------+-------------------+----+----------------+------------------+--------------+--------------+-------------------+---------------+--------------------+\n",
            "only showing top 10 rows\n",
            "\n"
          ]
        }
      ]
    },
    {
      "cell_type": "code",
      "source": [
        "# Split the data into training and testing data\n",
        "\n",
        "(training_data, test_data) = transformed_data.randomSplit([0.8,0.2])\n",
        "\n",
        "print(\"Total Data\", transformed_data.count())\n",
        "print(\"Total Training Data\", training_data.count())\n",
        "print(\"Total Test Data\", test_data.count())\n",
        "\n",
        "print(\"\\nTraining Dataset\")\n",
        "training_data.show(5)"
      ],
      "metadata": {
        "colab": {
          "base_uri": "https://localhost:8080/"
        },
        "id": "PpkbwY7WEJCI",
        "outputId": "26acbea5-bae2-42db-e39c-7173176a228d"
      },
      "execution_count": 17,
      "outputs": [
        {
          "output_type": "stream",
          "name": "stdout",
          "text": [
            "Total Data 229131\n",
            "Total Training Data 183297\n",
            "Total Test Data 45834\n",
            "\n",
            "Training Dataset\n",
            "+---------+-----------+----------+----+--------------------+----------+-----------+----+----------+--------+------------------+----------------+---------+----------+----------+------------+-------+--------+--------+-------------+---------+----------+-------+-------------------+----+----------------+------------------+--------------+--------------+-------------------+---------------+--------------------+\n",
            "|  id_odsp|   id_event|sort_order|time|                text|event_type|event_type2|side|event_team|opponent|            player|         player2|player_in|player_out|shot_place|shot_outcome|is_goal|location|bodypart|assist_method|situation|fast_break|country|               date|year|shot_place_index|shot_outcome_index|location_index|bodypart_index|assist_method_index|situation_index|            features|\n",
            "+---------+-----------+----------+----+--------------------+----------+-----------+----+----------+--------+------------------+----------------+---------+----------+----------+------------+-------+--------+--------+-------------+---------+----------+-------+-------------------+----+----------------+------------------+--------------+--------------+-------------------+---------------+--------------------+\n",
            "|00LMl81F/| 00LMl81F10|        10|   8|Attempt missed. N...|         1|         12|   1|   AS Roma|AC Milan|  Nicolas Burdisso|  Miralem Pjanic|       NA|        NA|         8|           2|      0|       3|       3|            2|        3|         0|  Italy|2011-10-29 00:00:00|2011|             1.0|               0.0|           1.0|           2.0|                2.0|            1.0|[1.0,0.0,1.0,2.0,...|\n",
            "|00LMl81F/|00LMl81F102|       102|  78|Goal!  Roma 1, Mi...|         1|         12|   2|  AC Milan| AS Roma|Zlatan Ibrahimovic|Alberto Aquilani|       NA|        NA|        12|           1|      1|       3|       3|            2|        3|         0|  Italy|2011-10-29 00:00:00|2011|            10.0|               1.0|           1.0|           2.0|                2.0|            1.0|[10.0,1.0,1.0,2.0...|\n",
            "|00LMl81F/|00LMl81F105|       105|  80|Attempt blocked. ...|         1|         12|   1|   AS Roma|AC Milan|  Nicolas Burdisso|           Bojan|       NA|        NA|         2|           3|      0|       3|       2|            3|        1|         0|  Italy|2011-10-29 00:00:00|2011|             0.0|               2.0|           1.0|           1.0|                3.0|            0.0|[0.0,2.0,1.0,1.0,...|\n",
            "|00LMl81F/|00LMl81F107|       107|  81|Attempt missed. Z...|         1|         12|   2|  AC Milan| AS Roma|Zlatan Ibrahimovic| Antonio Cassano|       NA|        NA|         6|           2|      0|       3|       1|            2|        1|         0|  Italy|2011-10-29 00:00:00|2011|             6.0|               0.0|           1.0|           0.0|                2.0|            0.0|[6.0,0.0,1.0,0.0,...|\n",
            "|00LMl81F/|00LMl81F108|       108|  85|Attempt saved. Pa...|         1|         12|   1|   AS Roma|AC Milan|     Pablo Osvaldo|     Erik Lamela|       NA|        NA|         3|           1|      0|       9|       2|            1|        1|         0|  Italy|2011-10-29 00:00:00|2011|             5.0|               1.0|           2.0|           1.0|                0.0|            0.0|[5.0,1.0,2.0,1.0,...|\n",
            "+---------+-----------+----------+----+--------------------+----------+-----------+----+----------+--------+------------------+----------------+---------+----------+----------+------------+-------+--------+--------+-------------+---------+----------+-------+-------------------+----+----------------+------------------+--------------+--------------+-------------------+---------------+--------------------+\n",
            "only showing top 5 rows\n",
            "\n"
          ]
        }
      ]
    },
    {
      "cell_type": "markdown",
      "source": [
        "# Gradient-Boosted Trees (GBTs) Classifier"
      ],
      "metadata": {
        "id": "rY_vTrzS3xuO"
      }
    },
    {
      "cell_type": "code",
      "source": [
        "gbt = GBTClassifier(labelCol='is_goal', \n",
        "                            featuresCol='features',\n",
        "                            maxDepth=5)"
      ],
      "metadata": {
        "id": "YBQvqTANzyPE"
      },
      "execution_count": 18,
      "outputs": []
    },
    {
      "cell_type": "code",
      "source": [
        "# Another classifier\n",
        "# from pyspark.ml.classification import DecisionTreeClassifier\n",
        "# gbt = DecisionTreeClassifier(labelCol='is_goal', \n",
        "#                             featuresCol='features',\n",
        "#                             maxDepth=5)"
      ],
      "metadata": {
        "id": "e4bjrD4Lee5r"
      },
      "execution_count": 19,
      "outputs": []
    },
    {
      "cell_type": "code",
      "source": [
        "# Fit the model on training data\n",
        "model = gbt.fit(training_data)"
      ],
      "metadata": {
        "id": "WU_TAwJ9z7g8"
      },
      "execution_count": 20,
      "outputs": []
    },
    {
      "cell_type": "markdown",
      "source": [
        "# Predictions with Test Data"
      ],
      "metadata": {
        "id": "1Hb-PX5S3sye"
      }
    },
    {
      "cell_type": "code",
      "source": [
        "# Predictions with test data\n",
        "predictions = model.transform(test_data)\n",
        "predictions.show(5)"
      ],
      "metadata": {
        "colab": {
          "base_uri": "https://localhost:8080/"
        },
        "id": "er2r3BpDFJXA",
        "outputId": "320ec769-77df-4557-c514-594f9979b142"
      },
      "execution_count": 21,
      "outputs": [
        {
          "output_type": "stream",
          "name": "stdout",
          "text": [
            "+---------+-----------+----------+----+--------------------+----------+-----------+----+----------+--------+---------------+----------------+---------+----------+----------+------------+-------+--------+--------+-------------+---------+----------+-------+-------------------+----+----------------+------------------+--------------+--------------+-------------------+---------------+--------------------+--------------------+--------------------+----------+\n",
            "|  id_odsp|   id_event|sort_order|time|                text|event_type|event_type2|side|event_team|opponent|         player|         player2|player_in|player_out|shot_place|shot_outcome|is_goal|location|bodypart|assist_method|situation|fast_break|country|               date|year|shot_place_index|shot_outcome_index|location_index|bodypart_index|assist_method_index|situation_index|            features|       rawPrediction|         probability|prediction|\n",
            "+---------+-----------+----------+----+--------------------+----------+-----------+----+----------+--------+---------------+----------------+---------+----------+----------+------------+-------+--------+--------+-------------+---------+----------+-------+-------------------+----+----------------+------------------+--------------+--------------+-------------------+---------------+--------------------+--------------------+--------------------+----------+\n",
            "|00LMl81F/|00LMl81F100|       100|  77|Attempt missed. A...|         1|         12|   2|  AC Milan| AS Roma|Antonio Cassano| Urby Emanuelson|       NA|        NA|         6|           2|      0|       7|       1|            1|        1|         0|  Italy|2011-10-29 00:00:00|2011|             6.0|               0.0|           8.0|           0.0|                0.0|            0.0| (6,[0,2],[6.0,8.0])|[1.54350200272507...|[0.95635347857271...|       0.0|\n",
            "|00LMl81F/|00LMl81F113|       113|  87|Goal!  Roma 2, Mi...|         1|         NA|   1|   AS Roma|AC Milan|          Bojan|              Na|       NA|        NA|         4|           1|      1|      13|       1|            0|        1|         0|  Italy|2011-10-29 00:00:00|2011|             4.0|               1.0|           4.0|           0.0|                1.0|            0.0|[4.0,1.0,4.0,0.0,...|[-0.8060289102062...|[0.16630310826302...|       1.0|\n",
            "|00LMl81F/| 00LMl81F28|        28|  22|Attempt missed. R...|         1|         12|   2|  AC Milan| AS Roma|        Robinho|Alessandro Nesta|       NA|        NA|         9|           2|      0|      17|       1|            1|        1|         1|  Italy|2011-10-29 00:00:00|2011|             2.0|               0.0|          11.0|           0.0|                0.0|            0.0|(6,[0,2],[2.0,11.0])|[1.54350200272507...|[0.95635347857271...|       0.0|\n",
            "|00LMl81F/| 00LMl81F42|        42|  34|Attempt saved. Da...|         1|         12|   1|   AS Roma|AC Milan|  David Pizarro|  Miralem Pjanic|       NA|        NA|         3|           1|      0|      15|       1|            1|        1|         0|  Italy|2011-10-29 00:00:00|2011|             5.0|               1.0|           0.0|           0.0|                0.0|            0.0| (6,[0,1],[5.0,1.0])|[0.83048006580726...|[0.84036684720140...|       0.0|\n",
            "|00LMl81F/| 00LMl81F53|        53|  45|Attempt missed. B...|         1|         12|   1|   AS Roma|AC Milan|          Bojan|   David Pizarro|       NA|        NA|         9|           2|      0|      11|       2|            1|        1|         0|  Italy|2011-10-29 00:00:00|2011|             2.0|               0.0|           3.0|           1.0|                0.0|            0.0|[2.0,0.0,3.0,1.0,...|[1.54350200272507...|[0.95635347857271...|       0.0|\n",
            "+---------+-----------+----------+----+--------------------+----------+-----------+----+----------+--------+---------------+----------------+---------+----------+----------+------------+-------+--------+--------+-------------+---------+----------+-------+-------------------+----+----------------+------------------+--------------+--------------+-------------------+---------------+--------------------+--------------------+--------------------+----------+\n",
            "only showing top 5 rows\n",
            "\n"
          ]
        }
      ]
    },
    {
      "cell_type": "markdown",
      "source": [
        "# Evaluate our model"
      ],
      "metadata": {
        "id": "Yrmiw5Aq3m6-"
      }
    },
    {
      "cell_type": "code",
      "source": [
        "# Evaluate our model\n",
        "evaluator = MulticlassClassificationEvaluator(\n",
        "    labelCol='is_goal', \n",
        "    predictionCol='prediction', \n",
        "    metricName='accuracy')"
      ],
      "metadata": {
        "id": "dZFhLupdFO-I"
      },
      "execution_count": 22,
      "outputs": []
    },
    {
      "cell_type": "markdown",
      "source": [
        "# Calculate Test Accuracy"
      ],
      "metadata": {
        "id": "tZ4jTiw-3fl2"
      }
    },
    {
      "cell_type": "code",
      "source": [
        "accuracy = evaluator.evaluate(predictions)\n",
        "print('Test Accuracy = ', accuracy)"
      ],
      "metadata": {
        "colab": {
          "base_uri": "https://localhost:8080/"
        },
        "id": "t-sDUrKPFUJ3",
        "outputId": "b8e9f163-2898-4b52-9c09-6e21201df2e6"
      },
      "execution_count": 23,
      "outputs": [
        {
          "output_type": "stream",
          "name": "stdout",
          "text": [
            "Test Accuracy =  0.9404154121394598\n"
          ]
        }
      ]
    },
    {
      "cell_type": "code",
      "source": [
        "from pyspark.ml.evaluation import RegressionEvaluator\n",
        "\n",
        "regEvaluator = RegressionEvaluator(\n",
        "    labelCol='is_goal', \n",
        "    predictionCol='prediction', \n",
        "    metricName='rmse')\n",
        "\n",
        "rmse = regEvaluator.evaluate(predictions)\n",
        "print('RMSE = ', rmse)"
      ],
      "metadata": {
        "id": "96kMZaAkCTDf",
        "outputId": "71ad2d98-e68e-4c3f-e444-ab50949ed0b6",
        "colab": {
          "base_uri": "https://localhost:8080/"
        }
      },
      "execution_count": 24,
      "outputs": [
        {
          "output_type": "stream",
          "name": "stdout",
          "text": [
            "RMSE =  0.24409954498224737\n"
          ]
        }
      ]
    },
    {
      "cell_type": "markdown",
      "source": [
        "# Player Analysis"
      ],
      "metadata": {
        "id": "bUgokzg7UZLf"
      }
    },
    {
      "cell_type": "code",
      "source": [
        "# Predict the expected goal on all the data (training + test)\n",
        "\n",
        "pred = model.transform(transformed_data)\n",
        "pred.show()\n",
        "pred.count()"
      ],
      "metadata": {
        "colab": {
          "base_uri": "https://localhost:8080/"
        },
        "id": "V4w00_C-C11Y",
        "outputId": "747c142d-a712-451f-8de9-4149bba95711"
      },
      "execution_count": 25,
      "outputs": [
        {
          "output_type": "stream",
          "name": "stdout",
          "text": [
            "+---------+----------+----------+----+--------------------+----------+-----------+----+-----------------+-----------------+------------------+------------------+---------+----------+----------+------------+-------+--------+--------+-------------+---------+----------+-------+-------------------+----+----------------+------------------+--------------+--------------+-------------------+---------------+--------------------+--------------------+--------------------+----------+\n",
            "|  id_odsp|  id_event|sort_order|time|                text|event_type|event_type2|side|       event_team|         opponent|            player|           player2|player_in|player_out|shot_place|shot_outcome|is_goal|location|bodypart|assist_method|situation|fast_break|country|               date|year|shot_place_index|shot_outcome_index|location_index|bodypart_index|assist_method_index|situation_index|            features|       rawPrediction|         probability|prediction|\n",
            "+---------+----------+----------+----+--------------------+----------+-----------+----+-----------------+-----------------+------------------+------------------+---------+----------+----------+------------+-------+--------+--------+-------------+---------+----------+-------+-------------------+----+----------------+------------------+--------------+--------------+-------------------+---------------+--------------------+--------------------+--------------------+----------+\n",
            "|UFot0hit/| UFot0hit1|         1|   2|Attempt missed. M...|         1|         12|   2|       Hamburg SV|Borussia Dortmund|     Mladen Petric|       Gokhan Tore|       NA|        NA|         6|           2|      0|       9|       2|            1|        1|         0|Germany|2011-08-05 00:00:00|2011|             6.0|               0.0|           2.0|           1.0|                0.0|            0.0|[6.0,0.0,2.0,1.0,...|[1.54350200272507...|[0.95635347857271...|       0.0|\n",
            "|UFot0hit/|UFot0hit12|        12|  14|Attempt missed. S...|         1|         12|   1|Borussia Dortmund|       Hamburg SV|     Shinji Kagawa|       Mario Gotze|       NA|        NA|        13|           2|      0|      15|       1|            1|        1|         0|Germany|2011-08-05 00:00:00|2011|             8.0|               0.0|           0.0|           0.0|                0.0|            0.0|       (6,[0],[8.0])|[1.39459849286243...|[0.94208925014722...|       0.0|\n",
            "|UFot0hit/|UFot0hit14|        14|  17|Goal!  Borussia D...|         1|         12|   1|Borussia Dortmund|       Hamburg SV| Kevin Grosskreutz|       Mario Gotze|       NA|        NA|         4|           1|      1|       9|       2|            1|        1|         0|Germany|2011-08-05 00:00:00|2011|             4.0|               1.0|           2.0|           1.0|                0.0|            0.0|[4.0,1.0,2.0,1.0,...|[0.67413511781641...|[0.79384668901237...|       0.0|\n",
            "|UFot0hit/|UFot0hit15|        15|  19|Attempt blocked. ...|         1|         NA|   1|Borussia Dortmund|       Hamburg SV|      Mats Hummels|                Na|       NA|        NA|         2|           3|      0|      15|       1|            0|        1|         0|Germany|2011-08-05 00:00:00|2011|             0.0|               2.0|           0.0|           0.0|                1.0|            0.0| (6,[1,4],[2.0,1.0])|[1.54350200272508...|[0.95635347857271...|       0.0|\n",
            "|UFot0hit/|UFot0hit18|        18|  20|Attempt blocked. ...|         1|         NA|   2|       Hamburg SV|Borussia Dortmund|      Tomas Rincon|                Na|       NA|        NA|         2|           3|      0|      15|       1|            0|        1|         0|Germany|2011-08-05 00:00:00|2011|             0.0|               2.0|           0.0|           0.0|                1.0|            0.0| (6,[1,4],[2.0,1.0])|[1.54350200272508...|[0.95635347857271...|       0.0|\n",
            "|UFot0hit/|UFot0hit19|        19|  25|Shinji Kagawa (Bo...|         1|         12|   1|Borussia Dortmund|       Hamburg SV|     Shinji Kagawa|   Lukasz Piszczek|       NA|        NA|         7|           4|      0|       3|       1|            1|        1|         0|Germany|2011-08-05 00:00:00|2011|            12.0|               3.0|           1.0|           0.0|                0.0|            0.0|[12.0,3.0,1.0,0.0...|[1.54350200272504...|[0.95635347857271...|       0.0|\n",
            "|UFot0hit/|UFot0hit21|        21|  25|Attempt blocked. ...|         1|         NA|   1|Borussia Dortmund|       Hamburg SV|    Ilkay Gundogan|                Na|       NA|        NA|         2|           3|      0|      15|       2|            0|        1|         0|Germany|2011-08-05 00:00:00|2011|             0.0|               2.0|           0.0|           1.0|                1.0|            0.0|[0.0,2.0,0.0,1.0,...|[1.54350200272508...|[0.95635347857271...|       0.0|\n",
            "|UFot0hit/|UFot0hit23|        23|  26|Attempt saved. Ma...|         1|         12|   1|Borussia Dortmund|       Hamburg SV|      Mats Hummels|        Chris Lowe|       NA|        NA|         5|           1|      0|       3|       3|            2|        1|         0|Germany|2011-08-05 00:00:00|2011|             3.0|               1.0|           1.0|           2.0|                2.0|            0.0|[3.0,1.0,1.0,2.0,...|[0.89136122439716...|[0.85603270775220...|       0.0|\n",
            "|UFot0hit/|UFot0hit26|        26|  28|Attempt missed. S...|         1|         12|   1|Borussia Dortmund|       Hamburg SV|     Shinji Kagawa| Kevin Grosskreutz|       NA|        NA|         9|           2|      0|       9|       1|            1|        1|         0|Germany|2011-08-05 00:00:00|2011|             2.0|               0.0|           2.0|           0.0|                0.0|            0.0| (6,[0,2],[2.0,2.0])|[1.54350200272507...|[0.95635347857271...|       0.0|\n",
            "|UFot0hit/|UFot0hit27|        27|  29|Goal!  Borussia D...|         1|         12|   1|Borussia Dortmund|       Hamburg SV|       Mario Gotze|Robert Lewandowski|       NA|        NA|         5|           1|      1|       3|       1|            1|        1|         0|Germany|2011-08-05 00:00:00|2011|             3.0|               1.0|           1.0|           0.0|                0.0|            0.0|[3.0,1.0,1.0,0.0,...|[0.64963224883718...|[0.78571117318231...|       0.0|\n",
            "|UFot0hit/|UFot0hit35|        35|  36|Attempt missed. M...|         1|         NA|   1|Borussia Dortmund|       Hamburg SV|       Mario Gotze|                Na|       NA|        NA|        10|           2|      0|      11|       1|            0|        1|         0|Germany|2011-08-05 00:00:00|2011|             7.0|               0.0|           3.0|           0.0|                1.0|            0.0|[7.0,0.0,3.0,0.0,...|[1.54350200272507...|[0.95635347857271...|       0.0|\n",
            "|UFot0hit/|UFot0hit38|        38|  38|Attempt missed. G...|         1|         NA|   2|       Hamburg SV|Borussia Dortmund|       Gokhan Tore|                Na|       NA|        NA|        10|           2|      0|      15|       2|            0|        1|         0|Germany|2011-08-05 00:00:00|2011|             7.0|               0.0|           0.0|           1.0|                1.0|            0.0|[7.0,0.0,0.0,1.0,...|[1.54350200272507...|[0.95635347857271...|       0.0|\n",
            "|UFot0hit/|UFot0hit39|        39|  39|Attempt missed. R...|         1|         12|   1|Borussia Dortmund|       Hamburg SV|Robert Lewandowski|   Lukasz Piszczek|       NA|        NA|         9|           2|      0|       9|       3|            2|        1|         0|Germany|2011-08-05 00:00:00|2011|             2.0|               0.0|           2.0|           2.0|                2.0|            0.0|[2.0,0.0,2.0,2.0,...|[1.54350200272507...|[0.95635347857271...|       0.0|\n",
            "|UFot0hit/|UFot0hit44|        44|  45|Attempt missed. I...|         1|         12|   1|Borussia Dortmund|       Hamburg SV|    Ilkay Gundogan|       Mario Gotze|       NA|        NA|         8|           2|      0|      11|       1|            1|        1|         1|Germany|2011-08-05 00:00:00|2011|             1.0|               0.0|           3.0|           0.0|                0.0|            0.0| (6,[0,2],[1.0,3.0])|[1.54350200272507...|[0.95635347857271...|       0.0|\n",
            "|UFot0hit/|UFot0hit50|        50|  48|Attempt saved. Ke...|         1|         12|   1|Borussia Dortmund|       Hamburg SV| Kevin Grosskreutz|       Mario Gotze|       NA|        NA|        11|           1|      0|       3|       1|            1|        1|         0|Germany|2011-08-05 00:00:00|2011|            11.0|               1.0|           1.0|           0.0|                0.0|            0.0|[11.0,1.0,1.0,0.0...|[1.46573412142170...|[0.94938028152084...|       0.0|\n",
            "|UFot0hit/|UFot0hit51|        51|  49|Goal!  Borussia D...|         1|         NA|   1|Borussia Dortmund|       Hamburg SV| Kevin Grosskreutz|                Na|       NA|        NA|         4|           1|      1|      13|       1|            0|        3|         0|Germany|2011-08-05 00:00:00|2011|             4.0|               1.0|           4.0|           0.0|                1.0|            1.0|[4.0,1.0,4.0,0.0,...|[-1.4520930095880...|[0.05194702071618...|       1.0|\n",
            "|UFot0hit/|UFot0hit59|        59|  54|Attempt blocked. ...|         1|         12|   1|Borussia Dortmund|       Hamburg SV|     Shinji Kagawa| Kevin Grosskreutz|       NA|        NA|         2|           3|      0|      15|       1|            3|        1|         0|Germany|2011-08-05 00:00:00|2011|             0.0|               2.0|           0.0|           0.0|                3.0|            0.0| (6,[1,4],[2.0,3.0])|[1.54350200272507...|[0.95635347857271...|       0.0|\n",
            "|UFot0hit/|UFot0hit70|        70|  62|Attempt blocked. ...|         1|         NA|   2|       Hamburg SV|Borussia Dortmund|    Marcell Jansen|                Na|       NA|        NA|         2|           3|      0|      16|       2|            0|        1|         0|Germany|2011-08-05 00:00:00|2011|             0.0|               2.0|          10.0|           1.0|                1.0|            0.0|[0.0,2.0,10.0,1.0...|[1.54350200272508...|[0.95635347857271...|       0.0|\n",
            "|UFot0hit/|UFot0hit72|        72|  64|Attempt blocked. ...|         1|         12|   2|       Hamburg SV|Borussia Dortmund| Michael Mancienne|       Gokhan Tore|       NA|        NA|         2|           3|      0|       3|       1|            2|        1|         0|Germany|2011-08-05 00:00:00|2011|             0.0|               2.0|           1.0|           0.0|                2.0|            0.0|[0.0,2.0,1.0,0.0,...|[1.54350200272508...|[0.95635347857271...|       0.0|\n",
            "|UFot0hit/|UFot0hit92|        92|  79|Attempt blocked. ...|         1|         12|   2|       Hamburg SV|Borussia Dortmund|    Marcell Jansen|    Anis Benhatira|       NA|        NA|         2|           3|      0|       3|       3|            2|        1|         0|Germany|2011-08-05 00:00:00|2011|             0.0|               2.0|           1.0|           2.0|                2.0|            0.0|[0.0,2.0,1.0,2.0,...|[1.54350200272508...|[0.95635347857271...|       0.0|\n",
            "+---------+----------+----------+----+--------------------+----------+-----------+----+-----------------+-----------------+------------------+------------------+---------+----------+----------+------------+-------+--------+--------+-------------+---------+----------+-------+-------------------+----+----------------+------------------+--------------+--------------+-------------------+---------------+--------------------+--------------------+--------------------+----------+\n",
            "only showing top 20 rows\n",
            "\n"
          ]
        },
        {
          "output_type": "execute_result",
          "data": {
            "text/plain": [
              "229131"
            ]
          },
          "metadata": {},
          "execution_count": 25
        }
      ]
    },
    {
      "cell_type": "code",
      "source": [
        "# Create a new dataframe with selected columns for player analysis\n",
        "\n",
        "players = pred.select('player', 'is_goal', 'prediction')\n",
        "players.count()"
      ],
      "metadata": {
        "colab": {
          "base_uri": "https://localhost:8080/"
        },
        "id": "TR2r7eSHqqUE",
        "outputId": "837f6649-5ae6-4778-c2a3-cfef56c8fbe2"
      },
      "execution_count": 26,
      "outputs": [
        {
          "output_type": "execute_result",
          "data": {
            "text/plain": [
              "229131"
            ]
          },
          "metadata": {},
          "execution_count": 26
        }
      ]
    },
    {
      "cell_type": "code",
      "source": [
        "# Count the number of actual goals and expected goals per player\n",
        "\n",
        "metrics = players.groupBy('player').sum()\n",
        "metrics = metrics.withColumnRenamed('sum(is_goal)', 'true_goals').withColumnRenamed('sum(prediction)', 'expected_goals')\n",
        "\n",
        "# Calculate the difference between the expected goals and the true goals\n",
        "# Absolute difference indicates the number of goals made on top of the expected goals\n",
        "metrics = metrics.withColumn('difference', metrics.expected_goals - metrics.true_goals)\n",
        "\n",
        "# Sort by the least difference (Expected - True)\n",
        "result = metrics.sort('difference')\n",
        "\n",
        "# Best Finishers with most goals on top of expected\n",
        "# Top 10 finishers\n",
        "result.show(10)"
      ],
      "metadata": {
        "colab": {
          "base_uri": "https://localhost:8080/"
        },
        "id": "Q_tn3jmrxV2b",
        "outputId": "e6da2b94-3baa-4328-9f24-86fdb4c244fa"
      },
      "execution_count": 27,
      "outputs": [
        {
          "output_type": "stream",
          "name": "stdout",
          "text": [
            "+------------------+----------+--------------+----------+\n",
            "|            player|true_goals|expected_goals|difference|\n",
            "+------------------+----------+--------------+----------+\n",
            "| Cristiano Ronaldo|       198|         168.0|     -30.0|\n",
            "|   Gonzalo Higuain|       118|          95.0|     -23.0|\n",
            "|        Marco Reus|        65|          44.0|     -21.0|\n",
            "|Robert Lewandowski|       124|         105.0|     -19.0|\n",
            "|      Lionel Messi|       205|         186.0|     -19.0|\n",
            "|       Gareth Bale|        50|          31.0|     -19.0|\n",
            "|       Luis Muriel|        38|          20.0|     -18.0|\n",
            "| Antoine Griezmann|        80|          63.0|     -17.0|\n",
            "|       Eden Hazard|        62|          45.0|     -17.0|\n",
            "|       Luis Suarez|        96|          80.0|     -16.0|\n",
            "+------------------+----------+--------------+----------+\n",
            "only showing top 10 rows\n",
            "\n"
          ]
        }
      ]
    },
    {
      "cell_type": "code",
      "source": [
        "# Messi is my favourite player. So showing the result below\n",
        "\n",
        "result.filter(result.player == 'Lionel Messi').show()"
      ],
      "metadata": {
        "id": "kA6i0FeJkK0o",
        "outputId": "9de99865-d88e-47e4-ec85-bbd10e3f5dc2",
        "colab": {
          "base_uri": "https://localhost:8080/"
        }
      },
      "execution_count": 28,
      "outputs": [
        {
          "output_type": "stream",
          "name": "stdout",
          "text": [
            "+------------+----------+--------------+----------+\n",
            "|      player|true_goals|expected_goals|difference|\n",
            "+------------+----------+--------------+----------+\n",
            "|Lionel Messi|       205|         186.0|     -19.0|\n",
            "+------------+----------+--------------+----------+\n",
            "\n"
          ]
        }
      ]
    },
    {
      "cell_type": "code",
      "source": [
        "# Sort by ratio between the true goals and the expected goals in descending order\n",
        "# Best Finishers with highest (true goals / expected goals) ratio\n",
        "result = result.withColumn('ratio', result['true_goals'] / result['expected_goals'])\n",
        "result.orderBy(col('ratio').desc()).show(5)"
      ],
      "metadata": {
        "id": "3oANyV2SToSx",
        "colab": {
          "base_uri": "https://localhost:8080/"
        },
        "outputId": "e6f1e2c5-90a4-4e25-d013-d6a9bb1911d3"
      },
      "execution_count": 29,
      "outputs": [
        {
          "output_type": "stream",
          "name": "stdout",
          "text": [
            "+---------------+----------+--------------+----------+-----+\n",
            "|         player|true_goals|expected_goals|difference|ratio|\n",
            "+---------------+----------+--------------+----------+-----+\n",
            "|   Gokhan Inler|         9|           1.0|      -8.0|  9.0|\n",
            "| Cristian Tello|        13|           2.0|     -11.0|  6.5|\n",
            "|   Jordon Mutch|         6|           1.0|      -5.0|  6.0|\n",
            "|Geoffrey Dernis|         6|           1.0|      -5.0|  6.0|\n",
            "| Adrian Embarba|         5|           1.0|      -4.0|  5.0|\n",
            "+---------------+----------+--------------+----------+-----+\n",
            "only showing top 5 rows\n",
            "\n"
          ]
        }
      ]
    },
    {
      "cell_type": "markdown",
      "source": [
        "# Correlation between Expected Goals and True Goals is very high"
      ],
      "metadata": {
        "id": "Lyfx4ZsbSyUR"
      }
    },
    {
      "cell_type": "code",
      "source": [
        "cor = result.stat.corr('true_goals', 'expected_goals')\n",
        "print(\"Correlation between Expected Goals and True Goals is\", cor)"
      ],
      "metadata": {
        "colab": {
          "base_uri": "https://localhost:8080/"
        },
        "id": "n67_JjoWRhKo",
        "outputId": "3bbf1d67-37fc-476e-ae19-0c9600bba796"
      },
      "execution_count": 30,
      "outputs": [
        {
          "output_type": "stream",
          "name": "stdout",
          "text": [
            "Correlation between Expected Goals and True Goals is 0.9832102747903231\n"
          ]
        }
      ]
    },
    {
      "cell_type": "markdown",
      "source": [
        "# Result Plots"
      ],
      "metadata": {
        "id": "QEHQSWGzDS9l"
      }
    },
    {
      "cell_type": "code",
      "source": [
        "graphDF = result.toPandas()\n",
        "graphDF = graphDF[['player', 'difference', 'true_goals', 'expected_goals', 'ratio']].head(10)\n",
        "graphDF.head(10)"
      ],
      "metadata": {
        "colab": {
          "base_uri": "https://localhost:8080/",
          "height": 363
        },
        "id": "TtxEUsWWVzQN",
        "outputId": "057d1434-cc13-4db8-8dfb-fcb448bcf002"
      },
      "execution_count": 31,
      "outputs": [
        {
          "output_type": "execute_result",
          "data": {
            "text/plain": [
              "               player  difference  true_goals  expected_goals     ratio\n",
              "0   Cristiano Ronaldo       -30.0         198           168.0  1.178571\n",
              "1     Gonzalo Higuain       -23.0         118            95.0  1.242105\n",
              "2          Marco Reus       -21.0          65            44.0  1.477273\n",
              "3  Robert Lewandowski       -19.0         124           105.0  1.180952\n",
              "4         Gareth Bale       -19.0          50            31.0  1.612903\n",
              "5        Lionel Messi       -19.0         205           186.0  1.102151\n",
              "6         Luis Muriel       -18.0          38            20.0  1.900000\n",
              "7         Eden Hazard       -17.0          62            45.0  1.377778\n",
              "8   Antoine Griezmann       -17.0          80            63.0  1.269841\n",
              "9       Karim Benzema       -16.0          85            69.0  1.231884"
            ],
            "text/html": [
              "\n",
              "  <div id=\"df-1059ebc8-9e5e-40cd-89ed-bccec202e997\">\n",
              "    <div class=\"colab-df-container\">\n",
              "      <div>\n",
              "<style scoped>\n",
              "    .dataframe tbody tr th:only-of-type {\n",
              "        vertical-align: middle;\n",
              "    }\n",
              "\n",
              "    .dataframe tbody tr th {\n",
              "        vertical-align: top;\n",
              "    }\n",
              "\n",
              "    .dataframe thead th {\n",
              "        text-align: right;\n",
              "    }\n",
              "</style>\n",
              "<table border=\"1\" class=\"dataframe\">\n",
              "  <thead>\n",
              "    <tr style=\"text-align: right;\">\n",
              "      <th></th>\n",
              "      <th>player</th>\n",
              "      <th>difference</th>\n",
              "      <th>true_goals</th>\n",
              "      <th>expected_goals</th>\n",
              "      <th>ratio</th>\n",
              "    </tr>\n",
              "  </thead>\n",
              "  <tbody>\n",
              "    <tr>\n",
              "      <th>0</th>\n",
              "      <td>Cristiano Ronaldo</td>\n",
              "      <td>-30.0</td>\n",
              "      <td>198</td>\n",
              "      <td>168.0</td>\n",
              "      <td>1.178571</td>\n",
              "    </tr>\n",
              "    <tr>\n",
              "      <th>1</th>\n",
              "      <td>Gonzalo Higuain</td>\n",
              "      <td>-23.0</td>\n",
              "      <td>118</td>\n",
              "      <td>95.0</td>\n",
              "      <td>1.242105</td>\n",
              "    </tr>\n",
              "    <tr>\n",
              "      <th>2</th>\n",
              "      <td>Marco Reus</td>\n",
              "      <td>-21.0</td>\n",
              "      <td>65</td>\n",
              "      <td>44.0</td>\n",
              "      <td>1.477273</td>\n",
              "    </tr>\n",
              "    <tr>\n",
              "      <th>3</th>\n",
              "      <td>Robert Lewandowski</td>\n",
              "      <td>-19.0</td>\n",
              "      <td>124</td>\n",
              "      <td>105.0</td>\n",
              "      <td>1.180952</td>\n",
              "    </tr>\n",
              "    <tr>\n",
              "      <th>4</th>\n",
              "      <td>Gareth Bale</td>\n",
              "      <td>-19.0</td>\n",
              "      <td>50</td>\n",
              "      <td>31.0</td>\n",
              "      <td>1.612903</td>\n",
              "    </tr>\n",
              "    <tr>\n",
              "      <th>5</th>\n",
              "      <td>Lionel Messi</td>\n",
              "      <td>-19.0</td>\n",
              "      <td>205</td>\n",
              "      <td>186.0</td>\n",
              "      <td>1.102151</td>\n",
              "    </tr>\n",
              "    <tr>\n",
              "      <th>6</th>\n",
              "      <td>Luis Muriel</td>\n",
              "      <td>-18.0</td>\n",
              "      <td>38</td>\n",
              "      <td>20.0</td>\n",
              "      <td>1.900000</td>\n",
              "    </tr>\n",
              "    <tr>\n",
              "      <th>7</th>\n",
              "      <td>Eden Hazard</td>\n",
              "      <td>-17.0</td>\n",
              "      <td>62</td>\n",
              "      <td>45.0</td>\n",
              "      <td>1.377778</td>\n",
              "    </tr>\n",
              "    <tr>\n",
              "      <th>8</th>\n",
              "      <td>Antoine Griezmann</td>\n",
              "      <td>-17.0</td>\n",
              "      <td>80</td>\n",
              "      <td>63.0</td>\n",
              "      <td>1.269841</td>\n",
              "    </tr>\n",
              "    <tr>\n",
              "      <th>9</th>\n",
              "      <td>Karim Benzema</td>\n",
              "      <td>-16.0</td>\n",
              "      <td>85</td>\n",
              "      <td>69.0</td>\n",
              "      <td>1.231884</td>\n",
              "    </tr>\n",
              "  </tbody>\n",
              "</table>\n",
              "</div>\n",
              "      <button class=\"colab-df-convert\" onclick=\"convertToInteractive('df-1059ebc8-9e5e-40cd-89ed-bccec202e997')\"\n",
              "              title=\"Convert this dataframe to an interactive table.\"\n",
              "              style=\"display:none;\">\n",
              "        \n",
              "  <svg xmlns=\"http://www.w3.org/2000/svg\" height=\"24px\"viewBox=\"0 0 24 24\"\n",
              "       width=\"24px\">\n",
              "    <path d=\"M0 0h24v24H0V0z\" fill=\"none\"/>\n",
              "    <path d=\"M18.56 5.44l.94 2.06.94-2.06 2.06-.94-2.06-.94-.94-2.06-.94 2.06-2.06.94zm-11 1L8.5 8.5l.94-2.06 2.06-.94-2.06-.94L8.5 2.5l-.94 2.06-2.06.94zm10 10l.94 2.06.94-2.06 2.06-.94-2.06-.94-.94-2.06-.94 2.06-2.06.94z\"/><path d=\"M17.41 7.96l-1.37-1.37c-.4-.4-.92-.59-1.43-.59-.52 0-1.04.2-1.43.59L10.3 9.45l-7.72 7.72c-.78.78-.78 2.05 0 2.83L4 21.41c.39.39.9.59 1.41.59.51 0 1.02-.2 1.41-.59l7.78-7.78 2.81-2.81c.8-.78.8-2.07 0-2.86zM5.41 20L4 18.59l7.72-7.72 1.47 1.35L5.41 20z\"/>\n",
              "  </svg>\n",
              "      </button>\n",
              "      \n",
              "  <style>\n",
              "    .colab-df-container {\n",
              "      display:flex;\n",
              "      flex-wrap:wrap;\n",
              "      gap: 12px;\n",
              "    }\n",
              "\n",
              "    .colab-df-convert {\n",
              "      background-color: #E8F0FE;\n",
              "      border: none;\n",
              "      border-radius: 50%;\n",
              "      cursor: pointer;\n",
              "      display: none;\n",
              "      fill: #1967D2;\n",
              "      height: 32px;\n",
              "      padding: 0 0 0 0;\n",
              "      width: 32px;\n",
              "    }\n",
              "\n",
              "    .colab-df-convert:hover {\n",
              "      background-color: #E2EBFA;\n",
              "      box-shadow: 0px 1px 2px rgba(60, 64, 67, 0.3), 0px 1px 3px 1px rgba(60, 64, 67, 0.15);\n",
              "      fill: #174EA6;\n",
              "    }\n",
              "\n",
              "    [theme=dark] .colab-df-convert {\n",
              "      background-color: #3B4455;\n",
              "      fill: #D2E3FC;\n",
              "    }\n",
              "\n",
              "    [theme=dark] .colab-df-convert:hover {\n",
              "      background-color: #434B5C;\n",
              "      box-shadow: 0px 1px 3px 1px rgba(0, 0, 0, 0.15);\n",
              "      filter: drop-shadow(0px 1px 2px rgba(0, 0, 0, 0.3));\n",
              "      fill: #FFFFFF;\n",
              "    }\n",
              "  </style>\n",
              "\n",
              "      <script>\n",
              "        const buttonEl =\n",
              "          document.querySelector('#df-1059ebc8-9e5e-40cd-89ed-bccec202e997 button.colab-df-convert');\n",
              "        buttonEl.style.display =\n",
              "          google.colab.kernel.accessAllowed ? 'block' : 'none';\n",
              "\n",
              "        async function convertToInteractive(key) {\n",
              "          const element = document.querySelector('#df-1059ebc8-9e5e-40cd-89ed-bccec202e997');\n",
              "          const dataTable =\n",
              "            await google.colab.kernel.invokeFunction('convertToInteractive',\n",
              "                                                     [key], {});\n",
              "          if (!dataTable) return;\n",
              "\n",
              "          const docLinkHtml = 'Like what you see? Visit the ' +\n",
              "            '<a target=\"_blank\" href=https://colab.research.google.com/notebooks/data_table.ipynb>data table notebook</a>'\n",
              "            + ' to learn more about interactive tables.';\n",
              "          element.innerHTML = '';\n",
              "          dataTable['output_type'] = 'display_data';\n",
              "          await google.colab.output.renderOutput(dataTable, element);\n",
              "          const docLink = document.createElement('div');\n",
              "          docLink.innerHTML = docLinkHtml;\n",
              "          element.appendChild(docLink);\n",
              "        }\n",
              "      </script>\n",
              "    </div>\n",
              "  </div>\n",
              "  "
            ]
          },
          "metadata": {},
          "execution_count": 31
        }
      ]
    },
    {
      "cell_type": "code",
      "source": [
        "fig, ax = plt.subplots(figsize=[12,5])\n",
        "ax = sns.barplot(x=abs(graphDF['difference']), y=graphDF['player'])\n",
        "ax.set_xticks(np.arange(0,65,5))\n",
        "ax.set_xlabel(xlabel='Diff. between Goals Scored and Goals Expected', fontsize=12)\n",
        "ax.set_ylabel(ylabel='')\n",
        "ax.set_yticklabels(labels=ax.get_yticklabels(), fontsize=12)\n",
        "plt.title(\"Best Finishers: most goals on top of expected\", fontsize=20, fontfamily='serif')\n",
        "ax.grid(color='black', linestyle='-', linewidth=0.1, alpha=0.8, axis='x')\n",
        "plt.show()"
      ],
      "metadata": {
        "colab": {
          "base_uri": "https://localhost:8080/",
          "height": 358
        },
        "id": "aeYrOsY5SofR",
        "outputId": "cba2ab6a-8d0e-45d7-fa82-f7c329a53515"
      },
      "execution_count": 32,
      "outputs": [
        {
          "output_type": "display_data",
          "data": {
            "text/plain": [
              "<Figure size 864x360 with 1 Axes>"
            ],
            "image/png": "[encoded data removed]"
          },
          "metadata": {
            "needs_background": "light"
          }
        }
      ]
    },
    {
      "cell_type": "code",
      "source": [
        "graphDF = graphDF[graphDF['true_goals']>30].sort_values(['ratio', 'true_goals'], ascending=False).reset_index(drop=True)\n",
        "graphDF = graphDF[['player', 'ratio', 'true_goals', 'expected_goals', 'difference']].head(10)\n",
        "graphDF.head(10)"
      ],
      "metadata": {
        "colab": {
          "base_uri": "https://localhost:8080/",
          "height": 363
        },
        "id": "s3WMlTQWWZkW",
        "outputId": "c63bde59-9a75-4b8f-9132-1bf6a59a7ad2"
      },
      "execution_count": 33,
      "outputs": [
        {
          "output_type": "execute_result",
          "data": {
            "text/plain": [
              "               player     ratio  true_goals  expected_goals  difference\n",
              "0         Luis Muriel  1.900000          38            20.0       -18.0\n",
              "1         Gareth Bale  1.612903          50            31.0       -19.0\n",
              "2          Marco Reus  1.477273          65            44.0       -21.0\n",
              "3         Eden Hazard  1.377778          62            45.0       -17.0\n",
              "4   Antoine Griezmann  1.269841          80            63.0       -17.0\n",
              "5     Gonzalo Higuain  1.242105         118            95.0       -23.0\n",
              "6       Karim Benzema  1.231884          85            69.0       -16.0\n",
              "7  Robert Lewandowski  1.180952         124           105.0       -19.0\n",
              "8   Cristiano Ronaldo  1.178571         198           168.0       -30.0\n",
              "9        Lionel Messi  1.102151         205           186.0       -19.0"
            ],
            "text/html": [
              "\n",
              "  <div id=\"df-4d17f513-250f-49a8-8cb4-00d470352865\">\n",
              "    <div class=\"colab-df-container\">\n",
              "      <div>\n",
              "<style scoped>\n",
              "    .dataframe tbody tr th:only-of-type {\n",
              "        vertical-align: middle;\n",
              "    }\n",
              "\n",
              "    .dataframe tbody tr th {\n",
              "        vertical-align: top;\n",
              "    }\n",
              "\n",
              "    .dataframe thead th {\n",
              "        text-align: right;\n",
              "    }\n",
              "</style>\n",
              "<table border=\"1\" class=\"dataframe\">\n",
              "  <thead>\n",
              "    <tr style=\"text-align: right;\">\n",
              "      <th></th>\n",
              "      <th>player</th>\n",
              "      <th>ratio</th>\n",
              "      <th>true_goals</th>\n",
              "      <th>expected_goals</th>\n",
              "      <th>difference</th>\n",
              "    </tr>\n",
              "  </thead>\n",
              "  <tbody>\n",
              "    <tr>\n",
              "      <th>0</th>\n",
              "      <td>Luis Muriel</td>\n",
              "      <td>1.900000</td>\n",
              "      <td>38</td>\n",
              "      <td>20.0</td>\n",
              "      <td>-18.0</td>\n",
              "    </tr>\n",
              "    <tr>\n",
              "      <th>1</th>\n",
              "      <td>Gareth Bale</td>\n",
              "      <td>1.612903</td>\n",
              "      <td>50</td>\n",
              "      <td>31.0</td>\n",
              "      <td>-19.0</td>\n",
              "    </tr>\n",
              "    <tr>\n",
              "      <th>2</th>\n",
              "      <td>Marco Reus</td>\n",
              "      <td>1.477273</td>\n",
              "      <td>65</td>\n",
              "      <td>44.0</td>\n",
              "      <td>-21.0</td>\n",
              "    </tr>\n",
              "    <tr>\n",
              "      <th>3</th>\n",
              "      <td>Eden Hazard</td>\n",
              "      <td>1.377778</td>\n",
              "      <td>62</td>\n",
              "      <td>45.0</td>\n",
              "      <td>-17.0</td>\n",
              "    </tr>\n",
              "    <tr>\n",
              "      <th>4</th>\n",
              "      <td>Antoine Griezmann</td>\n",
              "      <td>1.269841</td>\n",
              "      <td>80</td>\n",
              "      <td>63.0</td>\n",
              "      <td>-17.0</td>\n",
              "    </tr>\n",
              "    <tr>\n",
              "      <th>5</th>\n",
              "      <td>Gonzalo Higuain</td>\n",
              "      <td>1.242105</td>\n",
              "      <td>118</td>\n",
              "      <td>95.0</td>\n",
              "      <td>-23.0</td>\n",
              "    </tr>\n",
              "    <tr>\n",
              "      <th>6</th>\n",
              "      <td>Karim Benzema</td>\n",
              "      <td>1.231884</td>\n",
              "      <td>85</td>\n",
              "      <td>69.0</td>\n",
              "      <td>-16.0</td>\n",
              "    </tr>\n",
              "    <tr>\n",
              "      <th>7</th>\n",
              "      <td>Robert Lewandowski</td>\n",
              "      <td>1.180952</td>\n",
              "      <td>124</td>\n",
              "      <td>105.0</td>\n",
              "      <td>-19.0</td>\n",
              "    </tr>\n",
              "    <tr>\n",
              "      <th>8</th>\n",
              "      <td>Cristiano Ronaldo</td>\n",
              "      <td>1.178571</td>\n",
              "      <td>198</td>\n",
              "      <td>168.0</td>\n",
              "      <td>-30.0</td>\n",
              "    </tr>\n",
              "    <tr>\n",
              "      <th>9</th>\n",
              "      <td>Lionel Messi</td>\n",
              "      <td>1.102151</td>\n",
              "      <td>205</td>\n",
              "      <td>186.0</td>\n",
              "      <td>-19.0</td>\n",
              "    </tr>\n",
              "  </tbody>\n",
              "</table>\n",
              "</div>\n",
              "      <button class=\"colab-df-convert\" onclick=\"convertToInteractive('df-4d17f513-250f-49a8-8cb4-00d470352865')\"\n",
              "              title=\"Convert this dataframe to an interactive table.\"\n",
              "              style=\"display:none;\">\n",
              "        \n",
              "  <svg xmlns=\"http://www.w3.org/2000/svg\" height=\"24px\"viewBox=\"0 0 24 24\"\n",
              "       width=\"24px\">\n",
              "    <path d=\"M0 0h24v24H0V0z\" fill=\"none\"/>\n",
              "    <path d=\"M18.56 5.44l.94 2.06.94-2.06 2.06-.94-2.06-.94-.94-2.06-.94 2.06-2.06.94zm-11 1L8.5 8.5l.94-2.06 2.06-.94-2.06-.94L8.5 2.5l-.94 2.06-2.06.94zm10 10l.94 2.06.94-2.06 2.06-.94-2.06-.94-.94-2.06-.94 2.06-2.06.94z\"/><path d=\"M17.41 7.96l-1.37-1.37c-.4-.4-.92-.59-1.43-.59-.52 0-1.04.2-1.43.59L10.3 9.45l-7.72 7.72c-.78.78-.78 2.05 0 2.83L4 21.41c.39.39.9.59 1.41.59.51 0 1.02-.2 1.41-.59l7.78-7.78 2.81-2.81c.8-.78.8-2.07 0-2.86zM5.41 20L4 18.59l7.72-7.72 1.47 1.35L5.41 20z\"/>\n",
              "  </svg>\n",
              "      </button>\n",
              "      \n",
              "  <style>\n",
              "    .colab-df-container {\n",
              "      display:flex;\n",
              "      flex-wrap:wrap;\n",
              "      gap: 12px;\n",
              "    }\n",
              "\n",
              "    .colab-df-convert {\n",
              "      background-color: #E8F0FE;\n",
              "      border: none;\n",
              "      border-radius: 50%;\n",
              "      cursor: pointer;\n",
              "      display: none;\n",
              "      fill: #1967D2;\n",
              "      height: 32px;\n",
              "      padding: 0 0 0 0;\n",
              "      width: 32px;\n",
              "    }\n",
              "\n",
              "    .colab-df-convert:hover {\n",
              "      background-color: #E2EBFA;\n",
              "      box-shadow: 0px 1px 2px rgba(60, 64, 67, 0.3), 0px 1px 3px 1px rgba(60, 64, 67, 0.15);\n",
              "      fill: #174EA6;\n",
              "    }\n",
              "\n",
              "    [theme=dark] .colab-df-convert {\n",
              "      background-color: #3B4455;\n",
              "      fill: #D2E3FC;\n",
              "    }\n",
              "\n",
              "    [theme=dark] .colab-df-convert:hover {\n",
              "      background-color: #434B5C;\n",
              "      box-shadow: 0px 1px 3px 1px rgba(0, 0, 0, 0.15);\n",
              "      filter: drop-shadow(0px 1px 2px rgba(0, 0, 0, 0.3));\n",
              "      fill: #FFFFFF;\n",
              "    }\n",
              "  </style>\n",
              "\n",
              "      <script>\n",
              "        const buttonEl =\n",
              "          document.querySelector('#df-4d17f513-250f-49a8-8cb4-00d470352865 button.colab-df-convert');\n",
              "        buttonEl.style.display =\n",
              "          google.colab.kernel.accessAllowed ? 'block' : 'none';\n",
              "\n",
              "        async function convertToInteractive(key) {\n",
              "          const element = document.querySelector('#df-4d17f513-250f-49a8-8cb4-00d470352865');\n",
              "          const dataTable =\n",
              "            await google.colab.kernel.invokeFunction('convertToInteractive',\n",
              "                                                     [key], {});\n",
              "          if (!dataTable) return;\n",
              "\n",
              "          const docLinkHtml = 'Like what you see? Visit the ' +\n",
              "            '<a target=\"_blank\" href=https://colab.research.google.com/notebooks/data_table.ipynb>data table notebook</a>'\n",
              "            + ' to learn more about interactive tables.';\n",
              "          element.innerHTML = '';\n",
              "          dataTable['output_type'] = 'display_data';\n",
              "          await google.colab.output.renderOutput(dataTable, element);\n",
              "          const docLink = document.createElement('div');\n",
              "          docLink.innerHTML = docLinkHtml;\n",
              "          element.appendChild(docLink);\n",
              "        }\n",
              "      </script>\n",
              "    </div>\n",
              "  </div>\n",
              "  "
            ]
          },
          "metadata": {},
          "execution_count": 33
        }
      ]
    },
    {
      "cell_type": "code",
      "source": [
        "fig, ax = plt.subplots(figsize=[12,5])\n",
        "ax = sns.barplot(x=graphDF['ratio'], y=graphDF['player'])\n",
        "ax.set_xticks(np.arange(0,1.9,0.2))\n",
        "ax.set_xlabel(xlabel='Goals Scored per one XGoal', fontsize=12)\n",
        "ax.set_ylabel(ylabel='')\n",
        "ax.set_yticklabels(labels=ax.get_yticklabels(), fontsize=12)\n",
        "plt.title(\"Best Finishers: goals/xGoals\", fontsize=22, fontfamily='serif')\n",
        "ax.grid(color='black', linestyle='-', linewidth=0.1, axis='x')\n",
        "plt.show()"
      ],
      "metadata": {
        "colab": {
          "base_uri": "https://localhost:8080/",
          "height": 360
        },
        "id": "KymLVcRIYbD7",
        "outputId": "7ef9bf5f-4a8d-48c7-802b-49db0ccc02b1"
      },
      "execution_count": 34,
      "outputs": [
        {
          "output_type": "display_data",
          "data": {
            "text/plain": [
              "<Figure size 864x360 with 1 Axes>"
            ],
            "image/png": "[encoded data removed]"
          },
          "metadata": {
            "needs_background": "light"
          }
        }
      ]
    }
  ],
  "metadata": {
    "kernelspec": {
      "name": "python3",
      "display_name": "Python 3",
      "language": "python"
    },
    "language_info": {
      "name": "python",
      "version": "3.6.6",
      "mimetype": "text/x-python",
      "codemirror_mode": {
        "name": "ipython",
        "version": 3
      },
      "pygments_lexer": "ipython3",
      "nbconvert_exporter": "python",
      "file_extension": ".py"
    },
    "colab": {
      "provenance": [],
      "include_colab_link": true
    },
    "accelerator": "GPU",
    "gpuClass": "standard"
  },
  "nbformat": 4,
  "nbformat_minor": 0
}